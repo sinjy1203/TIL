{
 "cells": [
  {
   "cell_type": "code",
   "execution_count": 1,
   "metadata": {},
   "outputs": [
    {
     "name": "stdout",
     "output_type": "stream",
     "text": [
      "Collecting selenium\n",
      "  Downloading selenium-4.9.1-py3-none-any.whl (6.6 MB)\n",
      "     ---------------------------------------- 0.0/6.6 MB ? eta -:--:--\n",
      "     - -------------------------------------- 0.3/6.6 MB 5.9 MB/s eta 0:00:02\n",
      "     ---- ----------------------------------- 0.7/6.6 MB 6.1 MB/s eta 0:00:01\n",
      "     ----- ---------------------------------- 0.8/6.6 MB 4.8 MB/s eta 0:00:02\n",
      "     ------ --------------------------------- 1.0/6.6 MB 4.5 MB/s eta 0:00:02\n",
      "     ------ --------------------------------- 1.1/6.6 MB 4.1 MB/s eta 0:00:02\n",
      "     ------- -------------------------------- 1.2/6.6 MB 4.0 MB/s eta 0:00:02\n",
      "     ------- -------------------------------- 1.3/6.6 MB 3.7 MB/s eta 0:00:02\n",
      "     -------- ------------------------------- 1.4/6.6 MB 3.6 MB/s eta 0:00:02\n",
      "     --------- ------------------------------ 1.6/6.6 MB 3.5 MB/s eta 0:00:02\n",
      "     ---------- ----------------------------- 1.7/6.6 MB 3.4 MB/s eta 0:00:02\n",
      "     ---------- ----------------------------- 1.7/6.6 MB 3.2 MB/s eta 0:00:02\n",
      "     ---------- ----------------------------- 1.8/6.6 MB 3.0 MB/s eta 0:00:02\n",
      "     ----------- ---------------------------- 1.8/6.6 MB 2.8 MB/s eta 0:00:02\n",
      "     ----------- ---------------------------- 1.8/6.6 MB 2.7 MB/s eta 0:00:02\n",
      "     ----------- ---------------------------- 1.9/6.6 MB 2.5 MB/s eta 0:00:02\n",
      "     ------------ --------------------------- 2.0/6.6 MB 2.5 MB/s eta 0:00:02\n",
      "     ------------ --------------------------- 2.0/6.6 MB 2.4 MB/s eta 0:00:02\n",
      "     ------------ --------------------------- 2.1/6.6 MB 2.3 MB/s eta 0:00:02\n",
      "     ------------- -------------------------- 2.1/6.6 MB 2.3 MB/s eta 0:00:02\n",
      "     ------------- -------------------------- 2.2/6.6 MB 2.2 MB/s eta 0:00:03\n",
      "     ------------- -------------------------- 2.2/6.6 MB 2.2 MB/s eta 0:00:03\n",
      "     ------------- -------------------------- 2.2/6.6 MB 2.0 MB/s eta 0:00:03\n",
      "     ------------- -------------------------- 2.3/6.6 MB 1.9 MB/s eta 0:00:03\n",
      "     -------------- ------------------------- 2.3/6.6 MB 1.9 MB/s eta 0:00:03\n",
      "     -------------- ------------------------- 2.4/6.6 MB 1.9 MB/s eta 0:00:03\n",
      "     --------------- ------------------------ 2.5/6.6 MB 1.9 MB/s eta 0:00:03\n",
      "     ---------------- ----------------------- 2.6/6.6 MB 1.9 MB/s eta 0:00:03\n",
      "     ---------------- ----------------------- 2.7/6.6 MB 1.9 MB/s eta 0:00:02\n",
      "     ---------------- ----------------------- 2.8/6.6 MB 1.9 MB/s eta 0:00:02\n",
      "     ----------------- ---------------------- 2.8/6.6 MB 1.9 MB/s eta 0:00:02\n",
      "     ----------------- ---------------------- 2.9/6.6 MB 1.9 MB/s eta 0:00:02\n",
      "     ------------------ --------------------- 3.1/6.6 MB 1.9 MB/s eta 0:00:02\n",
      "     ------------------- -------------------- 3.1/6.6 MB 1.9 MB/s eta 0:00:02\n",
      "     ------------------- -------------------- 3.2/6.6 MB 1.9 MB/s eta 0:00:02\n",
      "     ------------------- -------------------- 3.2/6.6 MB 1.8 MB/s eta 0:00:02\n",
      "     ------------------- -------------------- 3.2/6.6 MB 1.8 MB/s eta 0:00:02\n",
      "     -------------------- ------------------- 3.3/6.6 MB 1.8 MB/s eta 0:00:02\n",
      "     -------------------- ------------------- 3.3/6.6 MB 1.8 MB/s eta 0:00:02\n",
      "     -------------------- ------------------- 3.3/6.6 MB 1.7 MB/s eta 0:00:02\n",
      "     -------------------- ------------------- 3.4/6.6 MB 1.7 MB/s eta 0:00:02\n",
      "     -------------------- ------------------- 3.4/6.6 MB 1.6 MB/s eta 0:00:02\n",
      "     -------------------- ------------------- 3.4/6.6 MB 1.6 MB/s eta 0:00:02\n",
      "     --------------------- ------------------ 3.5/6.6 MB 1.6 MB/s eta 0:00:02\n",
      "     --------------------- ------------------ 3.5/6.6 MB 1.6 MB/s eta 0:00:02\n",
      "     --------------------- ------------------ 3.5/6.6 MB 1.6 MB/s eta 0:00:02\n",
      "     --------------------- ------------------ 3.6/6.6 MB 1.5 MB/s eta 0:00:02\n",
      "     --------------------- ------------------ 3.6/6.6 MB 1.5 MB/s eta 0:00:02\n",
      "     ---------------------- ----------------- 3.6/6.6 MB 1.5 MB/s eta 0:00:02\n",
      "     ---------------------- ----------------- 3.7/6.6 MB 1.5 MB/s eta 0:00:02\n",
      "     ---------------------- ----------------- 3.7/6.6 MB 1.5 MB/s eta 0:00:02\n",
      "     ---------------------- ----------------- 3.7/6.6 MB 1.4 MB/s eta 0:00:02\n",
      "     ----------------------- ---------------- 3.8/6.6 MB 1.4 MB/s eta 0:00:02\n",
      "     ----------------------- ---------------- 3.8/6.6 MB 1.4 MB/s eta 0:00:02\n",
      "     ----------------------- ---------------- 3.9/6.6 MB 1.4 MB/s eta 0:00:02\n",
      "     ------------------------ --------------- 4.0/6.6 MB 1.4 MB/s eta 0:00:02\n",
      "     ------------------------ --------------- 4.0/6.6 MB 1.4 MB/s eta 0:00:02\n",
      "     ------------------------ --------------- 4.1/6.6 MB 1.4 MB/s eta 0:00:02\n",
      "     ------------------------- -------------- 4.1/6.6 MB 1.4 MB/s eta 0:00:02\n",
      "     ------------------------- -------------- 4.1/6.6 MB 1.4 MB/s eta 0:00:02\n",
      "     ------------------------- -------------- 4.1/6.6 MB 1.4 MB/s eta 0:00:02\n",
      "     ------------------------- -------------- 4.2/6.6 MB 1.4 MB/s eta 0:00:02\n",
      "     ------------------------- -------------- 4.2/6.6 MB 1.4 MB/s eta 0:00:02\n",
      "     ------------------------- -------------- 4.2/6.6 MB 1.3 MB/s eta 0:00:02\n",
      "     ------------------------- -------------- 4.2/6.6 MB 1.3 MB/s eta 0:00:02\n",
      "     ------------------------- -------------- 4.2/6.6 MB 1.3 MB/s eta 0:00:02\n",
      "     ------------------------- -------------- 4.2/6.6 MB 1.3 MB/s eta 0:00:02\n",
      "     ------------------------- -------------- 4.2/6.6 MB 1.3 MB/s eta 0:00:02\n",
      "     -------------------------- ------------- 4.3/6.6 MB 1.2 MB/s eta 0:00:02\n",
      "     -------------------------- ------------- 4.4/6.6 MB 1.2 MB/s eta 0:00:02\n",
      "     --------------------------- ------------ 4.4/6.6 MB 1.2 MB/s eta 0:00:02\n",
      "     --------------------------- ------------ 4.5/6.6 MB 1.2 MB/s eta 0:00:02\n",
      "     --------------------------- ------------ 4.6/6.6 MB 1.2 MB/s eta 0:00:02\n",
      "     ---------------------------- ----------- 4.6/6.6 MB 1.2 MB/s eta 0:00:02\n",
      "     ---------------------------- ----------- 4.7/6.6 MB 1.2 MB/s eta 0:00:02\n",
      "     ----------------------------- ---------- 4.8/6.6 MB 1.2 MB/s eta 0:00:02\n",
      "     ----------------------------- ---------- 4.8/6.6 MB 1.2 MB/s eta 0:00:02\n",
      "     ----------------------------- ---------- 4.8/6.6 MB 1.2 MB/s eta 0:00:02\n",
      "     ------------------------------ --------- 4.9/6.6 MB 1.2 MB/s eta 0:00:02\n",
      "     ------------------------------ --------- 5.0/6.6 MB 1.3 MB/s eta 0:00:02\n",
      "     ------------------------------ --------- 5.0/6.6 MB 1.3 MB/s eta 0:00:02\n",
      "     ------------------------------ --------- 5.1/6.6 MB 1.2 MB/s eta 0:00:02\n",
      "     ------------------------------- -------- 5.1/6.6 MB 1.2 MB/s eta 0:00:02\n",
      "     ------------------------------- -------- 5.1/6.6 MB 1.2 MB/s eta 0:00:02\n",
      "     ------------------------------- -------- 5.2/6.6 MB 1.2 MB/s eta 0:00:02\n",
      "     ------------------------------- -------- 5.2/6.6 MB 1.2 MB/s eta 0:00:02\n",
      "     ------------------------------- -------- 5.2/6.6 MB 1.2 MB/s eta 0:00:02\n",
      "     ------------------------------- -------- 5.2/6.6 MB 1.2 MB/s eta 0:00:02\n",
      "     ------------------------------- -------- 5.2/6.6 MB 1.2 MB/s eta 0:00:02\n",
      "     -------------------------------- ------- 5.2/6.6 MB 1.1 MB/s eta 0:00:02\n",
      "     -------------------------------- ------- 5.2/6.6 MB 1.1 MB/s eta 0:00:02\n",
      "     -------------------------------- ------- 5.2/6.6 MB 1.1 MB/s eta 0:00:02\n",
      "     -------------------------------- ------- 5.3/6.6 MB 1.1 MB/s eta 0:00:02\n",
      "     -------------------------------- ------- 5.3/6.6 MB 1.1 MB/s eta 0:00:02\n",
      "     -------------------------------- ------- 5.3/6.6 MB 1.1 MB/s eta 0:00:02\n",
      "     -------------------------------- ------- 5.3/6.6 MB 1.1 MB/s eta 0:00:02\n",
      "     -------------------------------- ------- 5.3/6.6 MB 1.1 MB/s eta 0:00:02\n",
      "     -------------------------------- ------- 5.3/6.6 MB 1.1 MB/s eta 0:00:02\n",
      "     -------------------------------- ------- 5.3/6.6 MB 1.1 MB/s eta 0:00:02\n",
      "     -------------------------------- ------- 5.4/6.6 MB 1.1 MB/s eta 0:00:02\n",
      "     -------------------------------- ------- 5.4/6.6 MB 1.1 MB/s eta 0:00:02\n",
      "     -------------------------------- ------- 5.4/6.6 MB 1.0 MB/s eta 0:00:02\n",
      "     -------------------------------- ------- 5.4/6.6 MB 1.0 MB/s eta 0:00:02\n",
      "     --------------------------------- ------ 5.4/6.6 MB 1.0 MB/s eta 0:00:02\n",
      "     --------------------------------- ------ 5.4/6.6 MB 1.0 MB/s eta 0:00:02\n",
      "     --------------------------------- ------ 5.4/6.6 MB 1.0 MB/s eta 0:00:02\n",
      "     --------------------------------- ------ 5.5/6.6 MB 1.0 MB/s eta 0:00:02\n",
      "     --------------------------------- ------ 5.5/6.6 MB 1.0 MB/s eta 0:00:02\n",
      "     --------------------------------- ------ 5.5/6.6 MB 999.7 kB/s eta 0:00:02\n",
      "     --------------------------------- ------ 5.6/6.6 MB 995.8 kB/s eta 0:00:02\n",
      "     ---------------------------------- ----- 5.6/6.6 MB 990.3 kB/s eta 0:00:01\n",
      "     ---------------------------------- ----- 5.6/6.6 MB 992.1 kB/s eta 0:00:01\n",
      "     ---------------------------------- ----- 5.6/6.6 MB 983.0 kB/s eta 0:00:01\n",
      "     ---------------------------------- ----- 5.7/6.6 MB 975.1 kB/s eta 0:00:01\n",
      "     ---------------------------------- ----- 5.7/6.6 MB 974.2 kB/s eta 0:00:01\n",
      "     ----------------------------------- ---- 5.7/6.6 MB 966.6 kB/s eta 0:00:01\n",
      "     ----------------------------------- ---- 5.7/6.6 MB 963.3 kB/s eta 0:00:01\n",
      "     ----------------------------------- ---- 5.8/6.6 MB 956.6 kB/s eta 0:00:01\n",
      "     ----------------------------------- ---- 5.8/6.6 MB 956.6 kB/s eta 0:00:01\n",
      "     ----------------------------------- ---- 5.8/6.6 MB 945.2 kB/s eta 0:00:01\n",
      "     ----------------------------------- ---- 5.8/6.6 MB 939.8 kB/s eta 0:00:01\n",
      "     ----------------------------------- ---- 5.8/6.6 MB 936.1 kB/s eta 0:00:01\n",
      "     ----------------------------------- ---- 5.9/6.6 MB 936.4 kB/s eta 0:00:01\n",
      "     ------------------------------------ --- 5.9/6.6 MB 934.3 kB/s eta 0:00:01\n",
      "     ------------------------------------ --- 5.9/6.6 MB 935.3 kB/s eta 0:00:01\n",
      "     ------------------------------------ --- 6.0/6.6 MB 928.7 kB/s eta 0:00:01\n",
      "     ------------------------------------ --- 6.0/6.6 MB 928.7 kB/s eta 0:00:01\n",
      "     ------------------------------------ --- 6.0/6.6 MB 928.7 kB/s eta 0:00:01\n",
      "     ------------------------------------ --- 6.0/6.6 MB 928.7 kB/s eta 0:00:01\n",
      "     ------------------------------------ --- 6.0/6.6 MB 928.7 kB/s eta 0:00:01\n",
      "     ------------------------------------ --- 6.0/6.6 MB 928.7 kB/s eta 0:00:01\n",
      "     ------------------------------------ --- 6.0/6.6 MB 928.7 kB/s eta 0:00:01\n",
      "     ------------------------------------ --- 6.0/6.6 MB 878.3 kB/s eta 0:00:01\n",
      "     ------------------------------------ --- 6.0/6.6 MB 878.3 kB/s eta 0:00:01\n",
      "     ------------------------------------ --- 6.0/6.6 MB 867.8 kB/s eta 0:00:01\n",
      "     ------------------------------------ --- 6.0/6.6 MB 862.0 kB/s eta 0:00:01\n",
      "     ------------------------------------ --- 6.0/6.6 MB 859.7 kB/s eta 0:00:01\n",
      "     ------------------------------------- -- 6.1/6.6 MB 856.8 kB/s eta 0:00:01\n",
      "     ------------------------------------- -- 6.1/6.6 MB 856.8 kB/s eta 0:00:01\n",
      "     ------------------------------------- -- 6.1/6.6 MB 847.1 kB/s eta 0:00:01\n",
      "     ------------------------------------- -- 6.1/6.6 MB 844.4 kB/s eta 0:00:01\n",
      "     ------------------------------------- -- 6.1/6.6 MB 844.4 kB/s eta 0:00:01\n",
      "     ------------------------------------- -- 6.1/6.6 MB 834.2 kB/s eta 0:00:01\n",
      "     ------------------------------------- -- 6.2/6.6 MB 831.3 kB/s eta 0:00:01\n",
      "     ------------------------------------- -- 6.2/6.6 MB 831.5 kB/s eta 0:00:01\n",
      "     -------------------------------------- - 6.2/6.6 MB 831.8 kB/s eta 0:00:01\n",
      "     -------------------------------------- - 6.3/6.6 MB 833.5 kB/s eta 0:00:01\n",
      "     -------------------------------------- - 6.3/6.6 MB 835.1 kB/s eta 0:00:01\n",
      "     -------------------------------------- - 6.4/6.6 MB 832.6 kB/s eta 0:00:01\n",
      "     ---------------------------------------  6.4/6.6 MB 831.5 kB/s eta 0:00:01\n",
      "     ---------------------------------------  6.4/6.6 MB 829.5 kB/s eta 0:00:01\n",
      "     ---------------------------------------  6.4/6.6 MB 828.1 kB/s eta 0:00:01\n",
      "     ---------------------------------------  6.5/6.6 MB 828.3 kB/s eta 0:00:01\n",
      "     ---------------------------------------  6.5/6.6 MB 828.3 kB/s eta 0:00:01\n",
      "     ---------------------------------------  6.5/6.6 MB 828.3 kB/s eta 0:00:01\n",
      "     ---------------------------------------  6.5/6.6 MB 816.3 kB/s eta 0:00:01\n",
      "     ---------------------------------------  6.5/6.6 MB 810.9 kB/s eta 0:00:01\n",
      "     ---------------------------------------  6.5/6.6 MB 807.2 kB/s eta 0:00:01\n",
      "     ---------------------------------------- 6.6/6.6 MB 803.5 kB/s eta 0:00:00\n",
      "Collecting trio~=0.17\n",
      "  Downloading trio-0.22.0-py3-none-any.whl (384 kB)\n",
      "     ---------------------------------------- 0.0/384.9 kB ? eta -:--:--\n",
      "     --- ----------------------------------- 30.7/384.9 kB 1.4 MB/s eta 0:00:01\n",
      "     --- --------------------------------- 41.0/384.9 kB 991.0 kB/s eta 0:00:01\n",
      "     --- --------------------------------- 41.0/384.9 kB 991.0 kB/s eta 0:00:01\n",
      "     ------ ------------------------------ 71.7/384.9 kB 438.9 kB/s eta 0:00:01\n",
      "     -------- ---------------------------- 92.2/384.9 kB 525.1 kB/s eta 0:00:01\n",
      "     -------- ---------------------------- 92.2/384.9 kB 525.1 kB/s eta 0:00:01\n",
      "     ---------- ------------------------- 112.6/384.9 kB 364.4 kB/s eta 0:00:01\n",
      "     ----------- ------------------------ 122.9/384.9 kB 343.4 kB/s eta 0:00:01\n",
      "     ------------- ---------------------- 143.4/384.9 kB 370.8 kB/s eta 0:00:01\n",
      "     -------------- --------------------- 153.6/384.9 kB 328.1 kB/s eta 0:00:01\n",
      "     ------------------ ----------------- 194.6/384.9 kB 380.8 kB/s eta 0:00:01\n",
      "     --------------------- -------------- 225.3/384.9 kB 417.6 kB/s eta 0:00:01\n",
      "     --------------------- -------------- 225.3/384.9 kB 417.6 kB/s eta 0:00:01\n",
      "     ---------------------- ------------- 235.5/384.9 kB 369.9 kB/s eta 0:00:01\n",
      "     ----------------------- ------------ 256.0/384.9 kB 374.6 kB/s eta 0:00:01\n",
      "     -------------------------- --------- 286.7/384.9 kB 376.7 kB/s eta 0:00:01\n",
      "     ------------------------------- ---- 337.9/384.9 kB 419.6 kB/s eta 0:00:01\n",
      "     ---------------------------------- - 368.6/384.9 kB 432.9 kB/s eta 0:00:01\n",
      "     ------------------------------------ 384.9/384.9 kB 428.2 kB/s eta 0:00:00\n",
      "Requirement already satisfied: certifi>=2021.10.8 in c:\\users\\sinjy\\anaconda3\\envs\\python38\\lib\\site-packages (from selenium) (2022.12.7)\n",
      "Requirement already satisfied: urllib3[socks]<3,>=1.26 in c:\\users\\sinjy\\anaconda3\\envs\\python38\\lib\\site-packages (from selenium) (2.0.2)\n",
      "Collecting trio-websocket~=0.9\n",
      "  Downloading trio_websocket-0.10.2-py3-none-any.whl (17 kB)\n",
      "Collecting async-generator>=1.9\n",
      "  Using cached async_generator-1.10-py3-none-any.whl (18 kB)\n",
      "Collecting outcome\n",
      "  Downloading outcome-1.2.0-py2.py3-none-any.whl (9.7 kB)\n",
      "Collecting sniffio\n",
      "  Using cached sniffio-1.3.0-py3-none-any.whl (10 kB)\n",
      "Collecting sortedcontainers\n",
      "  Using cached sortedcontainers-2.4.0-py2.py3-none-any.whl (29 kB)\n",
      "Collecting cffi>=1.14\n",
      "  Downloading cffi-1.15.1-cp38-cp38-win_amd64.whl (178 kB)\n",
      "     ---------------------------------------- 0.0/178.8 kB ? eta -:--:--\n",
      "     -- ------------------------------------- 10.2/178.8 kB ? eta -:--:--\n",
      "     ------ ------------------------------ 30.7/178.8 kB 330.3 kB/s eta 0:00:01\n",
      "     -------- ---------------------------- 41.0/178.8 kB 330.3 kB/s eta 0:00:01\n",
      "     ------------ ------------------------ 61.4/178.8 kB 328.2 kB/s eta 0:00:01\n",
      "     -------------- ---------------------- 71.7/178.8 kB 302.7 kB/s eta 0:00:01\n",
      "     ---------------------- ------------- 112.6/178.8 kB 409.6 kB/s eta 0:00:01\n",
      "     ---------------------------- ------- 143.4/178.8 kB 473.7 kB/s eta 0:00:01\n",
      "     ------------------------------------ 178.8/178.8 kB 514.0 kB/s eta 0:00:00\n",
      "Collecting attrs>=19.2.0\n",
      "  Downloading attrs-23.1.0-py3-none-any.whl (61 kB)\n",
      "     ---------------------------------------- 0.0/61.2 kB ? eta -:--:--\n",
      "     ------------------------- ------------ 41.0/61.2 kB 991.0 kB/s eta 0:00:01\n",
      "     ---------------------------------------- 61.2/61.2 kB 1.1 MB/s eta 0:00:00\n",
      "Collecting exceptiongroup>=1.0.0rc9\n",
      "  Downloading exceptiongroup-1.1.1-py3-none-any.whl (14 kB)\n",
      "Requirement already satisfied: idna in c:\\users\\sinjy\\anaconda3\\envs\\python38\\lib\\site-packages (from trio~=0.17->selenium) (3.4)\n",
      "Collecting wsproto>=0.14\n",
      "  Downloading wsproto-1.2.0-py3-none-any.whl (24 kB)\n",
      "Collecting pysocks!=1.5.7,<2.0,>=1.5.6\n",
      "  Downloading PySocks-1.7.1-py3-none-any.whl (16 kB)\n",
      "Collecting pycparser\n",
      "  Using cached pycparser-2.21-py2.py3-none-any.whl (118 kB)\n",
      "Collecting h11<1,>=0.9.0\n",
      "  Downloading h11-0.14.0-py3-none-any.whl (58 kB)\n",
      "     ---------------------------------------- 0.0/58.3 kB ? eta -:--:--\n",
      "     ---------------------------------------- 58.3/58.3 kB 1.5 MB/s eta 0:00:00\n",
      "Installing collected packages: sortedcontainers, sniffio, pysocks, pycparser, h11, exceptiongroup, attrs, async-generator, wsproto, outcome, cffi, trio, trio-websocket, selenium\n",
      "Successfully installed async-generator-1.10 attrs-23.1.0 cffi-1.15.1 exceptiongroup-1.1.1 h11-0.14.0 outcome-1.2.0 pycparser-2.21 pysocks-1.7.1 selenium-4.9.1 sniffio-1.3.0 sortedcontainers-2.4.0 trio-0.22.0 trio-websocket-0.10.2 wsproto-1.2.0\n"
     ]
    }
   ],
   "source": [
    "!pip install selenium"
   ]
  },
  {
   "cell_type": "code",
   "execution_count": 2,
   "metadata": {},
   "outputs": [],
   "source": [
    "from selenium import webdriver\n",
    "from selenium.webdriver.common.keys import Keys\n",
    "import time"
   ]
  },
  {
   "cell_type": "code",
   "execution_count": 3,
   "metadata": {},
   "outputs": [
    {
     "name": "stderr",
     "output_type": "stream",
     "text": [
      "C:\\Users\\sinjy\\AppData\\Local\\Temp\\ipykernel_14248\\4250871534.py:1: DeprecationWarning: executable_path has been deprecated, please pass in a Service object\n",
      "  driver = webdriver.Chrome('./chromedriver.exe')\n"
     ]
    }
   ],
   "source": [
    "driver = webdriver.Chrome('./chromedriver.exe')\n",
    "driver.get('https://www.google.co.kr/')\n",
    "time.sleep(3)"
   ]
  },
  {
   "attachments": {},
   "cell_type": "markdown",
   "metadata": {},
   "source": [
    "### selenium 화면 조작 과정\n",
    "1. html 파악\n",
    "2. 객체(버튼/입력창등) 선택\n",
    "3. 동작 관련 함수로 기능 조작"
   ]
  },
  {
   "attachments": {},
   "cell_type": "markdown",
   "metadata": {},
   "source": [
    "#### 구글 검색창에 원하는 키워드 입력 후 엔터 작업하기"
   ]
  },
  {
   "cell_type": "code",
   "execution_count": 11,
   "metadata": {},
   "outputs": [
    {
     "name": "stderr",
     "output_type": "stream",
     "text": [
      "C:\\Users\\sinjy\\AppData\\Local\\Temp\\ipykernel_14248\\474223927.py:6: DeprecationWarning: executable_path has been deprecated, please pass in a Service object\n",
      "  driver = webdriver.Chrome('./chromedriver.exe')\n"
     ]
    }
   ],
   "source": [
    "from selenium import webdriver\n",
    "from selenium.webdriver.common.keys import Keys\n",
    "from selenium.webdriver.common.by import By\n",
    "import time\n",
    "\n",
    "driver = webdriver.Chrome('./chromedriver.exe')\n",
    "driver.get('https://www.google.co.kr/')\n",
    "time.sleep(3)"
   ]
  },
  {
   "cell_type": "code",
   "execution_count": 13,
   "metadata": {},
   "outputs": [],
   "source": [
    "search_box = driver.find_element(By.CSS_SELECTOR, 'textarea.gLFyf')\n",
    "search_box = driver.find_element(By.XPATH, '//*[@id=\"APjFqb\"]')"
   ]
  },
  {
   "cell_type": "code",
   "execution_count": 14,
   "metadata": {},
   "outputs": [],
   "source": [
    "search_box.send_keys('파이썬')\n",
    "search_box.send_keys(Keys.RETURN)\n",
    "time.sleep(1)"
   ]
  },
  {
   "cell_type": "code",
   "execution_count": 18,
   "metadata": {},
   "outputs": [],
   "source": [
    "search_box.send_keys('파이썬')\n",
    "search_button = driver.find_element(By.XPATH, '//*[@id=\"jZ2SBf\"]/div[1]')\n",
    "search_button.click()\n"
   ]
  },
  {
   "cell_type": "code",
   "execution_count": 10,
   "metadata": {},
   "outputs": [
    {
     "name": "stderr",
     "output_type": "stream",
     "text": [
      "C:\\Users\\sinjy\\AppData\\Local\\Temp\\ipykernel_31596\\4005006137.py:9: DeprecationWarning: executable_path has been deprecated, please pass in a Service object\n",
      "  driver = webdriver.Chrome('./chromedriver.exe')\n"
     ]
    }
   ],
   "source": [
    "from selenium import webdriver\n",
    "from selenium.webdriver.common.keys import Keys\n",
    "from selenium.webdriver.common.by import By\n",
    "import time\n",
    "\n",
    "query = input('검색할 키워드를 입력하세요: ')\n",
    "\n",
    "url = 'https://www.naver.com/'\n",
    "driver = webdriver.Chrome('./chromedriver.exe')\n",
    "driver.get(url)\n",
    "time.sleep(3)\n",
    "\n",
    "search_box = driver.find_element(By.CSS_SELECTOR, 'input#query.input_text')\n",
    "search_box.send_keys(query)\n",
    "search_box.send_keys(Keys.RETURN)\n",
    "time.sleep(2)\n",
    "\n",
    "news_tab = driver.find_element(By.XPATH, '//*[@id=\"lnb\"]/div[1]/div/ul/li[3]/a')\n",
    "news_tab.click()\n",
    "time.sleep(2)"
   ]
  },
  {
   "cell_type": "code",
   "execution_count": 12,
   "metadata": {},
   "outputs": [
    {
     "name": "stdout",
     "output_type": "stream",
     "text": [
      "벼랑끝 골든스테이트…, 기적은 가능할까?\n",
      "'제임스 27점' 레이커스, 골든스테이트 제압…콘퍼런스 결승까지 1승\n",
      "‘킹’ 제임스의 커리 사냥! LA 레이커스, 골든스테이트 꺾고 서부 컨파까지 ...\n",
      "레이커스, 골든스테이트에 30점 차 대승…PO 2회전 2승 1패\n",
      "'어게인 2016' 골든스테이트, OKC에 1승3패서 뒤집어...레이커스 상대로도 역...\n",
      "'커리의 반격' 골든스테이트, 레이커스 제압…PO 2라운드 1승1패\n",
      "'로니 워커 4쿼터 15점 슛폭풍' 레이커스, 골든스테이트에 PO 2회전 3승1패\n",
      "'골밑 장악' NBA 레이커스, 골든스테이트와 PO 2회전서 먼저 1승\n",
      "‘50점 폭발 커리’ 골든스테이트, PO 2라운드행…르브론의 LA 레이커스 만난...\n",
      "방심 않는 AD \"골든스테이트, 다른 팀 되어 돌아올 것\"\n"
     ]
    }
   ],
   "source": [
    "news_titles = driver.find_elements(By.CSS_SELECTOR, 'a.news_tit')\n",
    "\n",
    "for i in news_titles:\n",
    "    title = i.text\n",
    "    print(title)"
   ]
  },
  {
   "cell_type": "code",
   "execution_count": 13,
   "metadata": {},
   "outputs": [
    {
     "name": "stdout",
     "output_type": "stream",
     "text": [
      "https://sports.news.naver.com/news.nhn?oid=065&aid=0000246643\n",
      "http://www.newsis.com/view/?id=NISX20230509_0002296119&cID=10505&pID=10500\n",
      "https://www.mk.co.kr/article/10731594\n",
      "https://news.sbs.co.kr/news/endPage.do?news_id=N1007181968&plink=ORI&cooper=NAVER\n",
      "http://www.maniareport.com/view.php?ud=2023051006280279344fed20d304_19\n",
      "https://www.news1.kr/articles/5037672\n",
      "http://www.maniareport.com/view.php?ud=2023050916514192355e8e941087_19\n",
      "https://www.yna.co.kr/view/AKR20230503102900007?input=1195m\n",
      "https://sports.donga.com/article/all/20230501/119087280/1\n",
      "https://www.spotvnews.co.kr/news/articleView.html?idxno=604431\n"
     ]
    }
   ],
   "source": [
    "for i in news_titles:\n",
    "    href = i.get_attribute('href')\n",
    "    print(href)"
   ]
  },
  {
   "cell_type": "code",
   "execution_count": 14,
   "metadata": {},
   "outputs": [],
   "source": [
    "news_thumbnail = driver.find_elements(By.CSS_SELECTOR, 'img.thumb.api_get')\n",
    "link_thumbnail = []\n",
    "\n",
    "for img in news_thumbnail:\n",
    "    link_thumbnail.append(img.get_attribute('src'))\n",
    "\n",
    "import os\n",
    "path_folder = f'./img_download/{query}/'\n",
    "if not os.path.isdir(path_folder):\n",
    "    os.mkdir(path_folder)\n",
    "\n",
    "from urllib.request import urlretrieve\n",
    "i = 0\n",
    "for link in link_thumbnail:\n",
    "    i += 1\n",
    "    urlretrieve(link, path_folder + f'{i}.jpg')"
   ]
  },
  {
   "cell_type": "code",
   "execution_count": null,
   "metadata": {},
   "outputs": [],
   "source": []
  }
 ],
 "metadata": {
  "kernelspec": {
   "display_name": "python38",
   "language": "python",
   "name": "python3"
  },
  "language_info": {
   "codemirror_mode": {
    "name": "ipython",
    "version": 3
   },
   "file_extension": ".py",
   "mimetype": "text/x-python",
   "name": "python",
   "nbconvert_exporter": "python",
   "pygments_lexer": "ipython3",
   "version": "3.8.16"
  },
  "orig_nbformat": 4
 },
 "nbformat": 4,
 "nbformat_minor": 2
}
