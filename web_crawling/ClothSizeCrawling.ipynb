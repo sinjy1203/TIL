{
 "cells": [
  {
   "cell_type": "code",
   "execution_count": 213,
   "metadata": {},
   "outputs": [
    {
     "name": "stderr",
     "output_type": "stream",
     "text": [
      "C:\\Users\\sinjy\\AppData\\Local\\Temp\\ipykernel_22516\\1483214788.py:6: DeprecationWarning: executable_path has been deprecated, please pass in a Service object\n",
      "  driver = webdriver.Chrome('./chromedriver.exe')\n"
     ]
    }
   ],
   "source": [
    "from selenium import webdriver\n",
    "from selenium.webdriver.common.keys import Keys\n",
    "from selenium.webdriver.common.by import By\n",
    "import time\n",
    "\n",
    "driver = webdriver.Chrome('./chromedriver.exe')\n",
    "driver.get('https://www.slowand.com/')\n",
    "time.sleep(3)"
   ]
  },
  {
   "cell_type": "code",
   "execution_count": 214,
   "metadata": {},
   "outputs": [],
   "source": [
    "cloth_categories = {'TOP', 'SHIRT', 'KNIT', 'BOTTOM', 'OUTER', 'OPS/SK'}"
   ]
  },
  {
   "cell_type": "code",
   "execution_count": 215,
   "metadata": {},
   "outputs": [
    {
     "data": {
      "text/plain": [
       "[<selenium.webdriver.remote.webelement.WebElement (session=\"db9f0997edd516ffc71a9a87dc65d508\", element=\"22CAE345B13E8405E6904D9FE55021B7_element_62\")>,\n",
       " <selenium.webdriver.remote.webelement.WebElement (session=\"db9f0997edd516ffc71a9a87dc65d508\", element=\"22CAE345B13E8405E6904D9FE55021B7_element_63\")>,\n",
       " <selenium.webdriver.remote.webelement.WebElement (session=\"db9f0997edd516ffc71a9a87dc65d508\", element=\"22CAE345B13E8405E6904D9FE55021B7_element_64\")>,\n",
       " <selenium.webdriver.remote.webelement.WebElement (session=\"db9f0997edd516ffc71a9a87dc65d508\", element=\"22CAE345B13E8405E6904D9FE55021B7_element_65\")>,\n",
       " <selenium.webdriver.remote.webelement.WebElement (session=\"db9f0997edd516ffc71a9a87dc65d508\", element=\"22CAE345B13E8405E6904D9FE55021B7_element_66\")>,\n",
       " <selenium.webdriver.remote.webelement.WebElement (session=\"db9f0997edd516ffc71a9a87dc65d508\", element=\"22CAE345B13E8405E6904D9FE55021B7_element_67\")>]"
      ]
     },
     "execution_count": 215,
     "metadata": {},
     "output_type": "execute_result"
    }
   ],
   "source": [
    "a_categories = []\n",
    "for a in driver.find_elements(By.CSS_SELECTOR, \"a\"):\n",
    "    if a.text in cloth_categories:\n",
    "        a_categories += [a]\n",
    "a_categories"
   ]
  },
  {
   "cell_type": "code",
   "execution_count": 216,
   "metadata": {},
   "outputs": [],
   "source": [
    "a_cat = a_categories[0]\n",
    "a_cat.click()"
   ]
  },
  {
   "cell_type": "code",
   "execution_count": 217,
   "metadata": {},
   "outputs": [],
   "source": [
    "detail_cats = driver.find_element(By.CSS_SELECTOR, 'ul.menuCategory').find_elements(By.CSS_SELECTOR, 'a')"
   ]
  },
  {
   "cell_type": "code",
   "execution_count": 218,
   "metadata": {},
   "outputs": [],
   "source": [
    "detail_cat = detail_cats[0]\n",
    "detail_cat.click()"
   ]
  },
  {
   "cell_type": "code",
   "execution_count": 220,
   "metadata": {},
   "outputs": [],
   "source": [
    "driver.find_elements(By.XPATH, '//*[@id=\"contents\"]/main/div[3]/ol/li/a')[1].click()"
   ]
  },
  {
   "cell_type": "code",
   "execution_count": 195,
   "metadata": {},
   "outputs": [],
   "source": [
    "a_products = driver.find_elements(By.XPATH, '//*[@id=\"contents\"]/main/div[2]/div/ul/li/div[1]/div[2]/a')"
   ]
  },
  {
   "cell_type": "code",
   "execution_count": 198,
   "metadata": {},
   "outputs": [],
   "source": [
    "a_products[0].send_keys(Keys.ENTER)"
   ]
  },
  {
   "cell_type": "code",
   "execution_count": 210,
   "metadata": {},
   "outputs": [],
   "source": [
    "driver.switch_to.frame('crema-fit-product-combined-detail-1')"
   ]
  },
  {
   "cell_type": "code",
   "execution_count": 211,
   "metadata": {},
   "outputs": [
    {
     "data": {
      "text/plain": [
       "'55'"
      ]
     },
     "execution_count": 211,
     "metadata": {},
     "output_type": "execute_result"
    }
   ],
   "source": [
    "driver.find_element(By.XPATH, '//*[@id=\"fit-product-size-section\"]/div[2]/div/table/tbody/tr/td[6]/span').text"
   ]
  },
  {
   "attachments": {},
   "cell_type": "markdown",
   "metadata": {},
   "source": [
    "### crawling func"
   ]
  },
  {
   "cell_type": "code",
   "execution_count": 34,
   "metadata": {},
   "outputs": [],
   "source": [
    "from collections import defaultdict\n",
    "from selenium import webdriver\n",
    "from selenium.webdriver.common.keys import Keys\n",
    "from selenium.webdriver.common.by import By\n",
    "import time\n",
    "\n",
    "def get_spec(url):\n",
    "    driver = webdriver.Chrome('./chromedriver.exe')\n",
    "    driver.get(url)\n",
    "    time.sleep(3)\n",
    "\n",
    "    cloth_categories = {'TOP', 'SHIRT', 'KNIT', 'BOTTOM', 'OUTER', 'OPS/SK'}\n",
    "    cloth_dict = defaultdict(dict)\n",
    "\n",
    "    a_categories = []\n",
    "    for a in driver.find_elements(By.CSS_SELECTOR, \"a\"):\n",
    "        if a.text in cloth_categories:\n",
    "            a_categories += [a]\n",
    "\n",
    "    for a_cat in a_categories[0:1]:\n",
    "        cat_tmp = a_cat.text\n",
    "        a_cat.click()\n",
    "        time.sleep(3)\n",
    "\n",
    "        detail_cats = driver.find_element(By.CSS_SELECTOR, 'ul.menuCategory').find_elements(By.CSS_SELECTOR, 'a')\n",
    "\n",
    "        for detail_cat in detail_cats[0:1]:  ######################################### => detail_cats로 바꾸기 (인덱스 형식으로 바꾸기 밑에처럼)\n",
    "            detail_cat_tmp = detail_cat.text\n",
    "            cloth_dict[cat_tmp][detail_cat_tmp] = []\n",
    "            detail_cat.click()\n",
    "            time.sleep(3)\n",
    "\n",
    "            detail_pages_len = len(driver.find_elements(By.XPATH, '//*[@id=\"contents\"]/main/div[3]/ol/li/a'))\n",
    "            for j in range(detail_pages_len):\n",
    "                a_detail_page = driver.find_elements(By.XPATH, '//*[@id=\"contents\"]/main/div[3]/ol/li/a')[j]\n",
    "                a_detail_page.click()\n",
    "                time.sleep(3)\n",
    "\n",
    "                products_len = len(driver.find_elements(By.XPATH, '//*[@id=\"contents\"]/main/div[2]/div/ul/li/div[1]/div[2]/a'))\n",
    "                for i in range(products_len):\n",
    "                    a_product = driver.find_elements(By.XPATH, '//*[@id=\"contents\"]/main/div[2]/div/ul/li/div[1]/div[2]/a')[i]\n",
    "                    a_product.send_keys(Keys.ENTER)\n",
    "                    time.sleep(3)\n",
    "\n",
    "                    driver.switch_to.frame('crema-fit-product-combined-detail-1')\n",
    "                    try:\n",
    "                        spec = float(driver.find_elements(By.XPATH, '//*[@id=\"fit-product-size-section\"]/div[2]/div/table/tbody/tr/td/span')[-1].get_attribute('innerText'))\n",
    "                        print(spec)\n",
    "                        cloth_dict[cat_tmp][detail_cat_tmp] += [spec]\n",
    "                    \n",
    "                    except:\n",
    "                        print(\"data miss\")\n",
    "                        pass\n",
    "                    driver.back()\n",
    "                    time.sleep(3)\n",
    "    return cloth_dict\n",
    "                "
   ]
  },
  {
   "cell_type": "code",
   "execution_count": 36,
   "metadata": {},
   "outputs": [
    {
     "name": "stderr",
     "output_type": "stream",
     "text": [
      "C:\\Users\\sinjy\\AppData\\Local\\Temp\\ipykernel_3756\\4142782404.py:8: DeprecationWarning: executable_path has been deprecated, please pass in a Service object\n",
      "  driver = webdriver.Chrome('./chromedriver.exe')\n"
     ]
    },
    {
     "name": "stdout",
     "output_type": "stream",
     "text": [
      "60.0\n",
      "52.0\n",
      "58.0\n",
      "55.0\n",
      "54.0\n",
      "data miss\n",
      "59.5\n",
      "69.0\n",
      "60.0\n",
      "61.0\n",
      "68.5\n",
      "43.0\n",
      "42.5\n",
      "58.0\n",
      "62.0\n",
      "48.0\n",
      "49.0\n",
      "64.5\n",
      "62.0\n",
      "51.0\n",
      "data miss\n",
      "68.0\n",
      "55.0\n",
      "40.0\n",
      "64.0\n",
      "49.0\n",
      "55.5\n",
      "62.0\n",
      "64.5\n",
      "54.0\n",
      "47.5\n",
      "57.5\n",
      "53.0\n",
      "54.0\n",
      "43.0\n",
      "53.0\n",
      "72.0\n",
      "70.0\n",
      "70.0\n",
      "65.0\n",
      "54.0\n",
      "64.0\n",
      "61.5\n",
      "55.0\n",
      "50.0\n",
      "64.0\n",
      "48.0\n",
      "53.0\n",
      "57.5\n",
      "47.5\n",
      "56.0\n",
      "data miss\n",
      "50.0\n",
      "56.0\n",
      "63.0\n",
      "60.0\n",
      "data miss\n",
      "56.0\n",
      "59.0\n",
      "58.0\n",
      "56.0\n",
      "55.0\n",
      "data miss\n",
      "59.5\n",
      "55.0\n",
      "63.5\n",
      "58.5\n",
      "57.5\n",
      "66.0\n",
      "58.0\n",
      "57.0\n",
      "51.5\n",
      "data miss\n"
     ]
    }
   ],
   "source": [
    "cloth_dict = get_spec('https://www.slowand.com/')"
   ]
  }
 ],
 "metadata": {
  "kernelspec": {
   "display_name": "python38",
   "language": "python",
   "name": "python3"
  },
  "language_info": {
   "codemirror_mode": {
    "name": "ipython",
    "version": 3
   },
   "file_extension": ".py",
   "mimetype": "text/x-python",
   "name": "python",
   "nbconvert_exporter": "python",
   "pygments_lexer": "ipython3",
   "version": "3.8.16"
  },
  "orig_nbformat": 4
 },
 "nbformat": 4,
 "nbformat_minor": 2
}
