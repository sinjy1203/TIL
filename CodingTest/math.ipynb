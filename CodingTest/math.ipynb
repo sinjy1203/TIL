{
 "cells": [
  {
   "cell_type": "markdown",
   "metadata": {},
   "source": [
    "# Math\n",
    "> 그냥 수학적으로 풀어야되는..."
   ]
  },
  {
   "cell_type": "markdown",
   "metadata": {},
   "source": [
    "## 숫자카드 나누기 (level 2)\n",
    "1. **최대공약수의 약수는 공약수다!!!!!!!!!**\n",
    "2. 각각의 최대공약수를 구하고 조건 확인\n",
    "\n",
    "https://school.programmers.co.kr/learn/courses/30/lessons/135807"
   ]
  },
  {
   "cell_type": "code",
   "execution_count": 1,
   "metadata": {},
   "outputs": [],
   "source": [
    "from math import gcd\n",
    "\n",
    "def get_gcd(arr):\n",
    "    g = arr[0]\n",
    "    for i in range(len(arr)):\n",
    "        g = gcd(g, arr[i])\n",
    "    return g\n",
    "\n",
    "\n",
    "def solution(arrayA, arrayB):\n",
    "    answer = 0\n",
    "    gA, gB = get_gcd(arrayA), get_gcd(arrayB)\n",
    "\n",
    "    for b in arrayB:\n",
    "        if not b % gA:\n",
    "            break\n",
    "    else:\n",
    "        answer = max(answer, gA)\n",
    "\n",
    "    for a in arrayA:\n",
    "        if not a % gB:\n",
    "            break\n",
    "    else:\n",
    "        answer = max(answer, gB)\n",
    "\n",
    "    return answer"
   ]
  }
 ],
 "metadata": {
  "kernelspec": {
   "display_name": "Python 3",
   "language": "python",
   "name": "python3"
  },
  "language_info": {
   "codemirror_mode": {
    "name": "ipython",
    "version": 3
   },
   "file_extension": ".py",
   "mimetype": "text/x-python",
   "name": "python",
   "nbconvert_exporter": "python",
   "pygments_lexer": "ipython3",
   "version": "3.8.3"
  }
 },
 "nbformat": 4,
 "nbformat_minor": 4
}
