{
 "cells": [
  {
   "cell_type": "markdown",
   "metadata": {},
   "source": [
    "# 동적계획법(Dynamic Programming)\n",
    ">반복되는 부분 문제의 값을 저장하여 재사용하기\n",
    "\n",
    ">부분문제의 최적값으로 전체문제의 최적값 도출"
   ]
  },
  {
   "cell_type": "markdown",
   "metadata": {},
   "source": [
    "## N으로 표현 (level 3)\n",
    "1. dp[N 사용횟수] = [표현가능한 숫자] 딕셔너리 형태로 저장\n",
    "2. N 사용횟수 = i 일 때 dp[i][x] = dp[i1][y] '연산' dp[i2][z] (1<=i1,i2<x & i1+i2=x)\n",
    "3. dp[i][x] = N을 일렬로 i개 놓은 숫자\n",
    "\n",
    "https://school.programmers.co.kr/learn/courses/30/lessons/42895"
   ]
  },
  {
   "cell_type": "code",
   "execution_count": 3,
   "metadata": {},
   "outputs": [],
   "source": [
    "from collections import defaultdict\n",
    "def solution(N, number):\n",
    "    dp = {}\n",
    "    for ans in range(1, 9): # 문제에서 사용횟수를 8개까지 확인\n",
    "        tmp = set()\n",
    "        tmp.add(int(str(N)*ans))\n",
    "        for i1 in range(1, ans//2+1):\n",
    "            i2 = ans - i1\n",
    "            for n1 in dp[i1]:\n",
    "                for n2 in dp[i2]:\n",
    "                    if n1*n2 != 0:\n",
    "                        tmp.add(n2//n1)\n",
    "                        tmp.add(n1//n2)\n",
    "                        tmp.add(n1*n2)\n",
    "                    else:\n",
    "                        tmp.add(0)\n",
    "                    tmp.add(n1+n2)\n",
    "                    tmp.add(n1-n2)\n",
    "                    tmp.add(n2-n1)\n",
    "        if number in tmp:\n",
    "            return ans\n",
    "        dp[ans] = list(tmp)\n",
    "    return -1"
   ]
  },
  {
   "cell_type": "markdown",
   "metadata": {},
   "source": [
    "## 사칙연산 (level 4)\n",
    "1. dp[st][en] = [st부터 en의 최솟값, st부터 en의 최댓값]\n",
    "2. dp[st][en][0] = min(dp[st][i][0] + dp[i+1][en][0], dp[st][en][0]) (st <= i < en, 연산이 +일때)\n",
    "3. 2번 같은 방식으로 작은범위에서 부터 전체범위까지 최댓값과 최솟값 차례대로 갱신\n",
    "4. o(n2)\n",
    "\n",
    "https://school.programmers.co.kr/learn/courses/30/lessons/1843"
   ]
  },
  {
   "cell_type": "code",
   "execution_count": 1,
   "metadata": {},
   "outputs": [],
   "source": [
    "def solution(arr):\n",
    "    arr_num = []\n",
    "    arr_cal = []\n",
    "    for a in arr:\n",
    "        try:\n",
    "            arr_num += [int(a)]\n",
    "        except:\n",
    "            arr_cal += [a]\n",
    "    num_len = len(arr_num)\n",
    "    dp = [[[float('inf'), -float('inf')] for __ in range(num_len)] for _ in range(num_len)]\n",
    "    for k in range(num_len):\n",
    "        dp[k][k] = [arr_num[k], arr_num[k]]\n",
    "    for d in range(num_len):\n",
    "        for st in range(num_len-d):\n",
    "            for i in range(st, st+d):\n",
    "                if arr_cal[i] == '+':\n",
    "                    dp[st][st+d][0] = min(dp[st][i][0] + dp[i+1][st+d][0], dp[st][st+d][0])\n",
    "                    dp[st][st+d][1] = max(dp[st][i][1] + dp[i+1][st+d][1], dp[st][st+d][1])\n",
    "                else:\n",
    "                    dp[st][st+d][0] = min(dp[st][i][0] - dp[i+1][st+d][1], dp[st][st+d][0])\n",
    "                    dp[st][st+d][1] = max(dp[st][i][1] - dp[i+1][st+d][0], dp[st][st+d][1])\n",
    "    return dp[0][num_len-1][1]"
   ]
  }
 ],
 "metadata": {
  "kernelspec": {
   "display_name": "Python 3",
   "language": "python",
   "name": "python3"
  },
  "language_info": {
   "codemirror_mode": {
    "name": "ipython",
    "version": 3
   },
   "file_extension": ".py",
   "mimetype": "text/x-python",
   "name": "python",
   "nbconvert_exporter": "python",
   "pygments_lexer": "ipython3",
   "version": "3.8.3"
  }
 },
 "nbformat": 4,
 "nbformat_minor": 4
}
