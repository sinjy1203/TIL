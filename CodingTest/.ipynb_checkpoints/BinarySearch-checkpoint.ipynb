{
 "cells": [
  {
   "cell_type": "markdown",
   "metadata": {},
   "source": [
    "# 이분탐색(Binary Search)\n",
    "> 정렬된 배열에서 특정값을 찾는 알고리즘\n",
    "\n",
    "> right, left의 mid값을 확인하고 조건에 따라 right, left 갱신\n",
    "\n",
    "> 일반적으로 O(N)이 매우 크고 조건을 만족하는 최대최소값 찾는 문제에 나옴"
   ]
  },
  {
   "cell_type": "markdown",
   "metadata": {},
   "source": [
    "## 입국심사 (level 3)\n",
    "1. 모든사람의 입국심사가 완료되는 최소시간을 묻는 문제\n",
    "2. O(N)이 최대 10**9이기에 이분탐색 사용\n",
    "3. mid(최소시간)에 각 심사대가 심사완료할 사람수의 총합을 계산\n",
    "4. 총합 >= n => right = mid-1 | 총합 < n => left = mid+1\n",
    "5. O(t) (t=심사대개수)\n",
    "\n",
    "https://school.programmers.co.kr/learn/courses/30/lessons/43238"
   ]
  },
  {
   "cell_type": "code",
   "execution_count": 2,
   "metadata": {},
   "outputs": [],
   "source": [
    "def solution(n, times):\n",
    "    answer = 0\n",
    "    right = 10**18 # 가장 오래걸리는 심사대(10**9) * 사람수(10**9)\n",
    "    left = 0\n",
    "    while right >= left: \n",
    "        mid = (left+right) // 2\n",
    "        sum_n = 0 # mid시간에 모든 심사대가 심사완료한 사람수의 총합\n",
    "        for time in times:\n",
    "            sum_n += mid // time\n",
    "            if sum_n >= n: # mid시간동안 n명 심사완료가 가능하다면\n",
    "                answer = mid\n",
    "                right = mid-1\n",
    "                break\n",
    "        if sum_n < n: \n",
    "            left = mid+1\n",
    "    return answer"
   ]
  },
  {
   "cell_type": "markdown",
   "metadata": {},
   "source": [
    "## 징검다리 (level 4)\n",
    "1. n개의 바위를 제거했을 때 각 지점사이 거리 최소값 중 최댓값\n",
    "2. mid(거리)가 최솟값이 되기위해 제거해야 할 바위개수 = tmp_n\n",
    "3. tmp_n > n: right=mid-1 | tmp_n <= n: left=mid+1\n",
    "\n",
    "https://school.programmers.co.kr/learn/courses/30/lessons/43236"
   ]
  },
  {
   "cell_type": "code",
   "execution_count": 3,
   "metadata": {},
   "outputs": [],
   "source": [
    "def solution(distance, rocks, n):\n",
    "    rocks = [0] + sorted(rocks) + [distance] # 크기 순 정렬\n",
    "    d_lst = [rocks[i+1]-rocks[i] for i in range(len(rocks)-1)] # 각 지점사이 거리들\n",
    "    answer = 0\n",
    "    left = 0 \n",
    "    right = distance\n",
    "    while left <= right:\n",
    "        mid = (left+right) // 2\n",
    "        tmp_d = 0 # 이전까지 mid보다 작아서 합친 거리\n",
    "        tmp_n = 0 # mid보다 작아서 바위를 제거한 개수\n",
    "        for i in range(len(d_lst)):\n",
    "            if tmp_d+d_lst[i] >= mid: # 이전 합친 거리와 현 거리의 합이 mid보다 크면\n",
    "                tmp_d = 0\n",
    "            else:\n",
    "                tmp_d += d_lst[i]\n",
    "                tmp_n += 1\n",
    "                if tmp_n > n:\n",
    "                    break\n",
    "        if tmp_n > n:\n",
    "            right = mid-1\n",
    "        else:\n",
    "            left = mid+1\n",
    "            answer = mid\n",
    "    return answer"
   ]
  }
 ],
 "metadata": {
  "kernelspec": {
   "display_name": "Python 3",
   "language": "python",
   "name": "python3"
  },
  "language_info": {
   "codemirror_mode": {
    "name": "ipython",
    "version": 3
   },
   "file_extension": ".py",
   "mimetype": "text/x-python",
   "name": "python",
   "nbconvert_exporter": "python",
   "pygments_lexer": "ipython3",
   "version": "3.8.3"
  }
 },
 "nbformat": 4,
 "nbformat_minor": 4
}
