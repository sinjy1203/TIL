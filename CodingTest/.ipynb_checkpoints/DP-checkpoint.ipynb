{
 "cells": [
  {
   "cell_type": "markdown",
   "metadata": {},
   "source": [
    "# 동적계획법(Dynamic Programming)\n",
    ">반복되는 부분 문제의 값을 저장하여 재사용하기\n",
    "\n",
    ">부분문제의 최적값으로 전체문제의 최적값 도출"
   ]
  },
  {
   "cell_type": "markdown",
   "metadata": {},
   "source": [
    "## N으로 표현\n",
    "1. dp[N 사용횟수] = [표현가능한 숫자] 딕셔너리 형태로 저장\n",
    "2. N 사용횟수 = i 일 때 dp[i][x] = dp[i1][y] '연산' dp[i2][z] (1<=i1,i2<x & i1+i2=x)\n",
    "3. dp[i][x] = N을 일렬로 i개 놓은 숫자\n",
    "\n",
    "https://school.programmers.co.kr/learn/courses/30/lessons/42895"
   ]
  },
  {
   "cell_type": "code",
   "execution_count": 3,
   "metadata": {},
   "outputs": [],
   "source": [
    "from collections import defaultdict\n",
    "def solution(N, number):\n",
    "    dp = {}\n",
    "    for ans in range(1, 9): # 문제에서 사용횟수를 8개까지 확인\n",
    "        tmp = set()\n",
    "        tmp.add(int(str(N)*ans))\n",
    "        for i1 in range(1, ans//2+1):\n",
    "            i2 = ans - i1\n",
    "            for n1 in dp[i1]:\n",
    "                for n2 in dp[i2]:\n",
    "                    if n1*n2 != 0:\n",
    "                        tmp.add(n2//n1)\n",
    "                        tmp.add(n1//n2)\n",
    "                        tmp.add(n1*n2)\n",
    "                    else:\n",
    "                        tmp.add(0)\n",
    "                    tmp.add(n1+n2)\n",
    "                    tmp.add(n1-n2)\n",
    "                    tmp.add(n2-n1)\n",
    "        if number in tmp:\n",
    "            return ans\n",
    "        dp[ans] = list(tmp)\n",
    "    return -1"
   ]
  }
 ],
 "metadata": {
  "kernelspec": {
   "display_name": "Python 3",
   "language": "python",
   "name": "python3"
  },
  "language_info": {
   "codemirror_mode": {
    "name": "ipython",
    "version": 3
   },
   "file_extension": ".py",
   "mimetype": "text/x-python",
   "name": "python",
   "nbconvert_exporter": "python",
   "pygments_lexer": "ipython3",
   "version": "3.8.3"
  }
 },
 "nbformat": 4,
 "nbformat_minor": 4
}
