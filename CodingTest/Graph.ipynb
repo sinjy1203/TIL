{
 "cells": [
  {
   "cell_type": "markdown",
   "metadata": {},
   "source": [
    "# 그래프(Graph)\n",
    "> 연결된 원소간의 관계를 나타내는 자료구조\n",
    "\n",
    "> 비가중그래프(unweighted graph)\n",
    "- dictionary: {node: [n1, n2, ...], ...}\n",
    "\n",
    "> 가중그래프(weighted graph)\n",
    "- dictionary: {node: [(n1, cost), ...], ...}\n",
    "- 인접행렬(adjacency matrix): adj[node1][node2] = (node1에서 node2로 갈 때 비용)"
   ]
  },
  {
   "cell_type": "markdown",
   "metadata": {},
   "source": [
    "## 방의 개수 (level 5)\n",
    "1. 주어진 방향대로 움직였을 때 생기는 방의 개수구하기\n",
    "2. 도착한 위치가 방분한 적이 있는데 그 전 위치와 연결이 안되어 있을 때 방의 개수 + 1\n",
    "3. g = {pos: {pos1, pos2, ...}, ...} \n",
    "4. O(len(arrows))  (x in set 은 O(1))\n",
    "\n",
    "https://school.programmers.co.kr/learn/courses/30/lessons/49190"
   ]
  },
  {
   "cell_type": "code",
   "execution_count": 1,
   "metadata": {},
   "outputs": [],
   "source": [
    "from collections import defaultdict\n",
    "def solution(arrows):\n",
    "    answer = 0\n",
    "    dx = [0, 1, 1, 1, 0, -1, -1, -1]\n",
    "    dy = [1, 1, 0, -1, -1, -1, 0, 1]\n",
    "    g = defaultdict(set) # 중복방지와 빠른 포함찾기를 위해 set사용\n",
    "    pos = (0, 0)\n",
    "    for arrow in arrows:\n",
    "        for _ in range(2): # 한칸안에서 대각선으로 방이 만들어지는걸 감안해서 중간에 지점 추가(이 아이디어 어떻게 암?)\n",
    "            _x = pos[0] + dx[arrow]\n",
    "            _y = pos[1] + dy[arrow]\n",
    "            _pos = (_x, _y) # 다음 위치\n",
    "            if _pos in g and pos not in g[_pos]: # 다음위치를 방문한 적이 있지만 이 경로로 온 적이 없다면\n",
    "                answer += 1\n",
    "            g[pos].add(_pos)\n",
    "            g[_pos].add(pos)\n",
    "            pos = _pos\n",
    "            \n",
    "    return answer"
   ]
  }
 ],
 "metadata": {
  "kernelspec": {
   "display_name": "Python 3",
   "language": "python",
   "name": "python3"
  },
  "language_info": {
   "codemirror_mode": {
    "name": "ipython",
    "version": 3
   },
   "file_extension": ".py",
   "mimetype": "text/x-python",
   "name": "python",
   "nbconvert_exporter": "python",
   "pygments_lexer": "ipython3",
   "version": "3.8.3"
  }
 },
 "nbformat": 4,
 "nbformat_minor": 4
}
