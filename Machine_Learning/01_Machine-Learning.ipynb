{
 "cells": [
  {
   "cell_type": "markdown",
   "id": "f77c2476",
   "metadata": {},
   "source": [
    "# 머신러닝 (Machine Learning)\n",
    "- 데이터로부터 의미있는 정보를 자동으로 추출하는 알고리즘"
   ]
  },
  {
   "cell_type": "markdown",
   "id": "a0da3050",
   "metadata": {},
   "source": [
    "## 머신러닝에서 알고리즘의 의미\n",
    "- 입력 데이터를 기반으로 예측하는 시스템(predictor)\n",
    "- predictor 내부의 파라미터를 정하기 위한 시스템(training system)"
   ]
  },
  {
   "cell_type": "markdown",
   "id": "15b8864b",
   "metadata": {},
   "source": [
    "### 모델(model)\n",
    "데이터를 생성하는 과정 설명"
   ]
  },
  {
   "cell_type": "code",
   "execution_count": null,
   "id": "51d29b16",
   "metadata": {},
   "outputs": [],
   "source": []
  }
 ],
 "metadata": {
  "kernelspec": {
   "display_name": "machine-learning",
   "language": "python",
   "name": "machine-learning"
  },
  "language_info": {
   "codemirror_mode": {
    "name": "ipython",
    "version": 3
   },
   "file_extension": ".py",
   "mimetype": "text/x-python",
   "name": "python",
   "nbconvert_exporter": "python",
   "pygments_lexer": "ipython3",
   "version": "3.7.15"
  }
 },
 "nbformat": 4,
 "nbformat_minor": 5
}
