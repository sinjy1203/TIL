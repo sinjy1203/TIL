{
 "cells": [
  {
   "cell_type": "markdown",
   "metadata": {},
   "source": [
    "## setuptools\n",
    "- 작성 프로젝트를 패키징하는 library\n",
    "- 작성한 코드의 함수나 클래스를 사용할 때 같은 경로에 있지 않으면 import하기 번거로움\n",
    "    ```python\n",
    "    import sys\n",
    "    sys.path.append(\"../pkgsample\")\n",
    "    import pkgsample\n",
    "    ```\n",
    "- 이를 해결하기 위해 setup.py로 패키징하여 사용\n",
    "    ```python\n",
    "    import pkgsample\n",
    "    ```\n",
    "- Reference: https://jakpentest.tistory.com/290"
   ]
  },
  {
   "cell_type": "markdown",
   "metadata": {},
   "source": [
    "### 패키징 할 프로젝트\n",
    "```Bash\n",
    "- pkgsample\n",
    "    ├── setup.py\n",
    "    └── src\n",
    "        └── pkgsample\n",
    "            ├── __init__.py\n",
    "            └── sample.py\n",
    "```"
   ]
  },
  {
   "cell_type": "markdown",
   "metadata": {},
   "source": [
    "#### sample.py\n",
    "```python\n",
    "class Sample:\n",
    "    def hello(self):\n",
    "        print(\"hi\")\n",
    "```"
   ]
  },
  {
   "cell_type": "markdown",
   "metadata": {},
   "source": [
    "#### setup.py\n",
    "```python\n",
    "from setuptools import setup, find_packages\n",
    "\n",
    "setup(name=\"pkgsample\", version=\"0.1\", package_dir={\"\": \"src\"})\n",
    "```\n",
    "- name: package name\n",
    "    - ex) `pip install pkgsample`\n",
    "- version\n",
    "- package_dir: 패키지 위치 지정\n",
    "    - site-packages 경로에 pkgsample 파일이 저장됨\n",
    "    - ex) `from pkgsample import sample`"
   ]
  },
  {
   "cell_type": "markdown",
   "metadata": {},
   "source": [
    "### 패키지 설치\n",
    "- setup.py 경로에서 해당 커맨드 실행\n",
    "1. 일반적인 방법\n",
    "    ```Bash\n",
    "    pip install .\n",
    "    ```\n",
    "    - 패키지의 코드 수정시에 반영이 안됨\n",
    "    - site-packages 경로에 pkgsample 폴더 저장\n",
    "2. 개발자 모드\n",
    "    ```Bash\n",
    "    pip install -e .\n",
    "    ```\n",
    "    - 패키지의 코드 수정시 바로 반영\n",
    "    - site-packages 경로에 pkgsample.egg-link로 저장"
   ]
  }
 ],
 "metadata": {
  "language_info": {
   "name": "python"
  },
  "orig_nbformat": 4
 },
 "nbformat": 4,
 "nbformat_minor": 2
}
