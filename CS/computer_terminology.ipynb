{
 "cells": [
  {
   "attachments": {},
   "cell_type": "markdown",
   "metadata": {},
   "source": [
    "# 모르는 컴퓨터 용어 정리"
   ]
  },
  {
   "attachments": {},
   "cell_type": "markdown",
   "metadata": {},
   "source": [
    "### 쿼리 (query)\n",
    "- query: 질문, 문의 \n",
    "- 데이터베이스에게 특정한 데이터를 보여달라는 클라이언트(사용자)의 요청\n",
    "- '쿼리문을 작성한다' => 데이터베이스에서 원하는 정보를 가져오는 코드를 작성한다"
   ]
  },
  {
   "attachments": {},
   "cell_type": "markdown",
   "metadata": {},
   "source": [
    "### JSON (JavaScript Object Notation)\n",
    "- 데이터를 저장하거나 전송할 때 많이 사용되는 경량의 DATA 교환 형식\n",
    "- 데이터를 표시하는 표현 방법\n",
    "- 서버 클라이언트 간의 교류에서 많이 사용"
   ]
  },
  {
   "attachments": {},
   "cell_type": "markdown",
   "metadata": {},
   "source": [
    "### sweep\n",
    "- 일련의 실험 또는 테스트를 의미\n",
    "- \"하이퍼파라미터 스윕\"은 하이퍼파라미터 값을 시스템에 적용후에 각 조합을 테스트하는 과정\n",
    "- ex) grid search, random search, bayesian optimization"
   ]
  }
 ],
 "metadata": {
  "language_info": {
   "name": "python"
  },
  "orig_nbformat": 4
 },
 "nbformat": 4,
 "nbformat_minor": 2
}
