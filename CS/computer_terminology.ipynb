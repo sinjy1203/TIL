{
 "cells": [
  {
   "attachments": {},
   "cell_type": "markdown",
   "metadata": {},
   "source": [
    "# 모르는 컴퓨터 용어 정리"
   ]
  },
  {
   "attachments": {},
   "cell_type": "markdown",
   "metadata": {},
   "source": [
    "### 쿼리 (query)\n",
    "- query: 질문, 문의 \n",
    "- 데이터베이스에게 특정한 데이터를 보여달라는 클라이언트(사용자)의 요청\n",
    "- '쿼리문을 작성한다' => 데이터베이스에서 원하는 정보를 가져오는 코드를 작성한다"
   ]
  },
  {
   "attachments": {},
   "cell_type": "markdown",
   "metadata": {},
   "source": [
    "### JSON (JavaScript Object Notation)\n",
    "- 데이터를 저장하거나 전송할 때 많이 사용되는 경량의 DATA 교환 형식\n",
    "- 데이터를 표시하는 표현 방법\n",
    "- 서버 클라이언트 간의 교류에서 많이 사용"
   ]
  },
  {
   "attachments": {},
   "cell_type": "markdown",
   "metadata": {},
   "source": [
    "### sweep\n",
    "- 일련의 실험 또는 테스트를 의미\n",
    "- \"하이퍼파라미터 스윕\"은 하이퍼파라미터 값을 시스템에 적용후에 각 조합을 테스트하는 과정\n",
    "- ex) grid search, random search, bayesian optimization"
   ]
  },
  {
   "attachments": {},
   "cell_type": "markdown",
   "metadata": {},
   "source": [
    "### 동기(Synchronous) VS 비동기(Asynchronous)\n",
    "- ***동기*** 방식은 서버에서 요청을 보냈을 때 응답이 돌아와야 다음 동작 실행 가능 \n",
    "- ***비동기*** 방식은 요청을 보냈을 때 응답 상태와 상관없이 다음 동작 실행 가능\n",
    "\n",
    "![](https://velog.velcdn.com/images%2Fdaybreak%2Fpost%2F1be2c518-3360-4354-beff-678bc4e13fef%2F%E1%84%89%E1%85%B3%E1%84%8F%E1%85%B3%E1%84%85%E1%85%B5%E1%86%AB%E1%84%89%E1%85%A3%E1%86%BA%202020-07-09%2016.21.39.png)"
   ]
  },
  {
   "attachments": {},
   "cell_type": "markdown",
   "metadata": {},
   "source": [
    "### 스키마\n",
    "- 데이터베이스의 구조와 제약조건에 관해 전반적인 명세를 기술한 것\n",
    "- 개체의 속성을 나타내는 **속성(Attribute)**, 속성들의 집합으로 이루어진 **개체(Entity)**, 개체 사이의 **관계(Relation)**,  \n",
    "    이들이 유지해야 할 **제약조건**을 기술한것  \n",
    "![](https://img1.daumcdn.net/thumb/R1280x0/?scode=mtistory2&fname=https%3A%2F%2Ft1.daumcdn.net%2Fcfile%2Ftistory%2F2362DF40571C8BE623)"
   ]
  },
  {
   "attachments": {},
   "cell_type": "markdown",
   "metadata": {},
   "source": [
    "### interface\n",
    "- 서로 다른 두 개의 시스템, 장치 사이에서 정보나 신호를 주고받는 경우의 접점이나 경계면\n",
    "- ex) 사용자와 컴퓨터 사이에 키보드와 모니터\n",
    "- 소프트웨어와 인간의 소통을 위한 버튼, 스크롤바 같은 것을 user interface(UI) 라고 함"
   ]
  },
  {
   "attachments": {},
   "cell_type": "markdown",
   "metadata": {},
   "source": [
    "### API (Application Programming Interface)\n",
    "- 응용 프로그램에서 소통하기 위한 접점\n",
    "- 응용 프로그램 (Application): 운영체제에서 실행되는 모든 소프트웨어\n",
    "- 애플리케이션에서 데이터를 읽거나 쓰기 위해 사용하는 인터페이스\n",
    "- private API, public API\n",
    "- ***소프트웨어가 다른 소프트웨어로부터 지정된 형식으로 요청, 명령을 받을 수 있는 수단***\n",
    "\n",
    "![](./sample1.png)\n",
    "![](./sample2.png)\n",
    "출처: https://youtu.be/Jg3FFBLyhK0"
   ]
  },
  {
   "attachments": {},
   "cell_type": "markdown",
   "metadata": {},
   "source": [
    "### URI (Uniform Resource Identifier)\n",
    "- 은행계좌는 계좌번호로, 사람은 주민등록번호로 구분되듯이 웹서버의 리소스또한 각자의 이름이 존재  \n",
    "    => 리소스 이름 = URI\n",
    "- URI에는 URL과 URN이 있다."
   ]
  },
  {
   "attachments": {},
   "cell_type": "markdown",
   "metadata": {},
   "source": [
    "### URL (Uniform Resource Locator)\n",
    "- 리소스의 가장 흔한 형태로, 특정 서버의 한 리소스에 대한 구체적인 위치를 서술\n",
    "- ex) http://www.seoyoung.com/images/logo.gif    \n",
    "    => **http**: 리소스에 접근하기 위해 사용되는 프로토콜 (웹 클라이언트가 리소스에 어떻게 접근하는지 알려줌)  \n",
    "    => **www.seoyoung.com**: 서버의 인터넷 주소 (리소스가 어디에 호스팅되었는지)    \n",
    "    => **/images/logo.gif**: 웹서버의 리소스 (리소스 경로)  "
   ]
  },
  {
   "attachments": {},
   "cell_type": "markdown",
   "metadata": {},
   "source": [
    "### URN (Uniform Resource Name)\n",
    "- 한 리소스에 대해 위치에 영향을 안받는 이름 역할을 한다.\n",
    "- URL은 리소스의 위치가 변경될 경우 유효하지 않는 문제가 있지만 URN은 상관없다.\n",
    "- 하지만 대부분이 URL으로 동작함"
   ]
  },
  {
   "attachments": {},
   "cell_type": "markdown",
   "metadata": {},
   "source": [
    "### REST (Representational State Transfer)\n",
    "- 자원을 이름으로 구분하여 해당 자원의 상태(정보)를 주고 받는 것\n",
    "- 정보 전달은 보통 JSON or XML\n",
    "- HTTP URI를 통해 자원을 명시하고, HTTP Method(POST, GET, PUT, DELETE)를 통해 해당 자원에 대한 CRUD Operation을 적용하는 것\n",
    "- 구성요소: 자원(URI), 행위(HTTP Method), 표현(JSON, XML)"
   ]
  },
  {
   "attachments": {},
   "cell_type": "markdown",
   "metadata": {},
   "source": [
    "### REST API\n",
    "- REST 기반으로 서비스 API를 구현한 것\n",
    "- REST API 설계 예시\n",
    "![](https://gmlwjd9405.github.io/images/network/restapi-example.png)"
   ]
  },
  {
   "attachments": {},
   "cell_type": "markdown",
   "metadata": {},
   "source": [
    "### RESTful\n",
    "- REST API를 제공하는 웹서비스를 'RESTful'하다고 할 수 있다.\n",
    "- 성능 향상이 목적이 아니라 일관적인 컨벤션을 통한 API의 이해도 및 호환성을 높이는 것이 주 동기"
   ]
  },
  {
   "attachments": {},
   "cell_type": "markdown",
   "metadata": {},
   "source": []
  }
 ],
 "metadata": {
  "language_info": {
   "name": "python"
  },
  "orig_nbformat": 4
 },
 "nbformat": 4,
 "nbformat_minor": 2
}
