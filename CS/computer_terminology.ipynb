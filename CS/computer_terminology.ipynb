{
 "cells": [
  {
   "attachments": {},
   "cell_type": "markdown",
   "metadata": {},
   "source": [
    "# 모르는 컴퓨터 용어 정리"
   ]
  },
  {
   "attachments": {},
   "cell_type": "markdown",
   "metadata": {},
   "source": [
    "### 쿼리 (query)\n",
    "- query: 질문, 문의 \n",
    "- 데이터베이스에게 특정한 데이터를 보여달라는 클라이언트(사용자)의 요청\n",
    "- '쿼리문을 작성한다' => 데이터베이스에서 원하는 정보를 가져오는 코드를 작성한다"
   ]
  },
  {
   "attachments": {},
   "cell_type": "markdown",
   "metadata": {},
   "source": [
    "### JSON (JavaScript Object Notation)\n",
    "- 데이터를 저장하거나 전송할 때 많이 사용되는 경량의 DATA 교환 형식\n",
    "- 데이터를 표시하는 표현 방법\n",
    "- 서버 클라이언트 간의 교류에서 많이 사용"
   ]
  },
  {
   "attachments": {},
   "cell_type": "markdown",
   "metadata": {},
   "source": [
    "### sweep\n",
    "- 일련의 실험 또는 테스트를 의미\n",
    "- \"하이퍼파라미터 스윕\"은 하이퍼파라미터 값을 시스템에 적용후에 각 조합을 테스트하는 과정\n",
    "- ex) grid search, random search, bayesian optimization"
   ]
  },
  {
   "attachments": {},
   "cell_type": "markdown",
   "metadata": {},
   "source": [
    "### 동기(Synchronous) VS 비동기(Asynchronous)\n",
    "- ***동기*** 방식은 서버에서 요청을 보냈을 때 응답이 돌아와야 다음 동작 실행 가능 \n",
    "- ***비동기*** 방식은 요청을 보냈을 때 응답 상태와 상관없이 다음 동작 실행 가능\n",
    "\n",
    "![](https://velog.velcdn.com/images%2Fdaybreak%2Fpost%2F1be2c518-3360-4354-beff-678bc4e13fef%2F%E1%84%89%E1%85%B3%E1%84%8F%E1%85%B3%E1%84%85%E1%85%B5%E1%86%AB%E1%84%89%E1%85%A3%E1%86%BA%202020-07-09%2016.21.39.png)"
   ]
  },
  {
   "attachments": {},
   "cell_type": "markdown",
   "metadata": {},
   "source": [
    "### API (Application Programming Interface)\n",
    "- 중간에서 양쪽 서버를 연결해주는 역할\n",
    "\n",
    "![](https://mblogthumb-phinf.pstatic.net/MjAyMjA1MDZfNjIg/MDAxNjUxODIwODgxNDk3.Zp0UHTM2WxbdAbLH7OEq0WjemMPAmSL_Q3U9Eju39J8g.p0aOVWgeCJGOL61QQMIPlaNo-KB6ryHvUIlt8IpesJAg.PNG.kistiscienceon/4.png?type=w800)"
   ]
  }
 ],
 "metadata": {
  "language_info": {
   "name": "python"
  },
  "orig_nbformat": 4
 },
 "nbformat": 4,
 "nbformat_minor": 2
}
