{
 "cells": [
  {
   "cell_type": "markdown",
   "id": "526e2ac9",
   "metadata": {},
   "source": [
    "# RNN을 이용한 인코더-디코더\n",
    "- 번역기, 텍스트 요약에 활용"
   ]
  },
  {
   "cell_type": "markdown",
   "id": "fa182f54",
   "metadata": {},
   "source": [
    "## Sequence-to-Sequence\n",
    "- 챗봇, 기계번역, 내용요약, stt(Speech to Text)\n",
    "\n",
    "![](https://wikidocs.net/images/page/24996/%EB%8B%A8%EC%96%B4%ED%86%A0%ED%81%B0%EB%93%A4%EC%9D%B4.PNG)\n",
    "1. 인코더 RNN 마지막 시점의 은닉상태가 **컨텍스트 벡터**\n",
    "2. 컨텍스트 벡터는 디코더 RNN 첫번째 시점의 은닉상태에 사용\n",
    "3. 디코더는 RNNLM(다음 시점의 단어를 예측하는 모델)\n",
    "4. 훈련과정에서는 기존 정답을 RNN의 인풋으로 사용\n",
    "5. 테스트과정에서는 전시점의 RNN의 예측을 다음 시점의 인풋으로 사용"
   ]
  },
  {
   "cell_type": "markdown",
   "id": "e5f18097",
   "metadata": {},
   "source": [
    "## Character-Level Neural Machine Translation (실습)"
   ]
  },
  {
   "cell_type": "markdown",
   "id": "adb82a9a",
   "metadata": {},
   "source": [
    "### 병렬 코퍼스 데이터에 대한 전처리"
   ]
  },
  {
   "cell_type": "code",
   "execution_count": 3,
   "id": "cdc3b78c",
   "metadata": {},
   "outputs": [],
   "source": [
    "import os\n",
    "import shutil\n",
    "import zipfile\n",
    "from pathlib import Path\n",
    "\n",
    "import pandas as pd\n",
    "import tensorflow as tf\n",
    "import urllib3\n",
    "from tensorflow.keras.preprocessing.sequence import pad_sequences\n",
    "from tensorflow.keras.utils import to_categorical"
   ]
  },
  {
   "cell_type": "code",
   "execution_count": 11,
   "id": "4e0d1bb2",
   "metadata": {},
   "outputs": [
    {
     "data": {
      "text/plain": [
       "(197463, 2)"
      ]
     },
     "execution_count": 11,
     "metadata": {},
     "output_type": "execute_result"
    }
   ],
   "source": [
    "data_dir = Path('C:/Users/011/sinjy1203/data')\n",
    "lines = pd.read_csv(data_dir / 'fra.txt', names=['src', 'tar', 'lic'], sep='\\t')\n",
    "del lines['lic']\n",
    "lines.shape"
   ]
  },
  {
   "cell_type": "code",
   "execution_count": 12,
   "id": "c646e5c9",
   "metadata": {},
   "outputs": [
    {
     "data": {
      "text/html": [
       "<div>\n",
       "<style scoped>\n",
       "    .dataframe tbody tr th:only-of-type {\n",
       "        vertical-align: middle;\n",
       "    }\n",
       "\n",
       "    .dataframe tbody tr th {\n",
       "        vertical-align: top;\n",
       "    }\n",
       "\n",
       "    .dataframe thead th {\n",
       "        text-align: right;\n",
       "    }\n",
       "</style>\n",
       "<table border=\"1\" class=\"dataframe\">\n",
       "  <thead>\n",
       "    <tr style=\"text-align: right;\">\n",
       "      <th></th>\n",
       "      <th>src</th>\n",
       "      <th>tar</th>\n",
       "    </tr>\n",
       "  </thead>\n",
       "  <tbody>\n",
       "    <tr>\n",
       "      <th>0</th>\n",
       "      <td>Go.</td>\n",
       "      <td>Va !</td>\n",
       "    </tr>\n",
       "    <tr>\n",
       "      <th>1</th>\n",
       "      <td>Go.</td>\n",
       "      <td>Marche.</td>\n",
       "    </tr>\n",
       "    <tr>\n",
       "      <th>2</th>\n",
       "      <td>Go.</td>\n",
       "      <td>En route !</td>\n",
       "    </tr>\n",
       "    <tr>\n",
       "      <th>3</th>\n",
       "      <td>Go.</td>\n",
       "      <td>Bouge !</td>\n",
       "    </tr>\n",
       "    <tr>\n",
       "      <th>4</th>\n",
       "      <td>Hi.</td>\n",
       "      <td>Salut !</td>\n",
       "    </tr>\n",
       "  </tbody>\n",
       "</table>\n",
       "</div>"
      ],
      "text/plain": [
       "   src         tar\n",
       "0  Go.        Va !\n",
       "1  Go.     Marche.\n",
       "2  Go.  En route !\n",
       "3  Go.     Bouge !\n",
       "4  Hi.     Salut !"
      ]
     },
     "execution_count": 12,
     "metadata": {},
     "output_type": "execute_result"
    }
   ],
   "source": [
    "lines.head()"
   ]
  },
  {
   "cell_type": "code",
   "execution_count": 13,
   "id": "e8f1801b",
   "metadata": {},
   "outputs": [
    {
     "data": {
      "text/html": [
       "<div>\n",
       "<style scoped>\n",
       "    .dataframe tbody tr th:only-of-type {\n",
       "        vertical-align: middle;\n",
       "    }\n",
       "\n",
       "    .dataframe tbody tr th {\n",
       "        vertical-align: top;\n",
       "    }\n",
       "\n",
       "    .dataframe thead th {\n",
       "        text-align: right;\n",
       "    }\n",
       "</style>\n",
       "<table border=\"1\" class=\"dataframe\">\n",
       "  <thead>\n",
       "    <tr style=\"text-align: right;\">\n",
       "      <th></th>\n",
       "      <th>src</th>\n",
       "      <th>tar</th>\n",
       "    </tr>\n",
       "  </thead>\n",
       "  <tbody>\n",
       "    <tr>\n",
       "      <th>0</th>\n",
       "      <td>Go.</td>\n",
       "      <td>Va !</td>\n",
       "    </tr>\n",
       "    <tr>\n",
       "      <th>1</th>\n",
       "      <td>Go.</td>\n",
       "      <td>Marche.</td>\n",
       "    </tr>\n",
       "    <tr>\n",
       "      <th>2</th>\n",
       "      <td>Go.</td>\n",
       "      <td>En route !</td>\n",
       "    </tr>\n",
       "    <tr>\n",
       "      <th>3</th>\n",
       "      <td>Go.</td>\n",
       "      <td>Bouge !</td>\n",
       "    </tr>\n",
       "    <tr>\n",
       "      <th>4</th>\n",
       "      <td>Hi.</td>\n",
       "      <td>Salut !</td>\n",
       "    </tr>\n",
       "    <tr>\n",
       "      <th>5</th>\n",
       "      <td>Hi.</td>\n",
       "      <td>Salut.</td>\n",
       "    </tr>\n",
       "    <tr>\n",
       "      <th>6</th>\n",
       "      <td>Run!</td>\n",
       "      <td>Cours !</td>\n",
       "    </tr>\n",
       "    <tr>\n",
       "      <th>7</th>\n",
       "      <td>Run!</td>\n",
       "      <td>Courez !</td>\n",
       "    </tr>\n",
       "    <tr>\n",
       "      <th>8</th>\n",
       "      <td>Run!</td>\n",
       "      <td>Prenez vos jambes à vos cous !</td>\n",
       "    </tr>\n",
       "    <tr>\n",
       "      <th>9</th>\n",
       "      <td>Run!</td>\n",
       "      <td>File !</td>\n",
       "    </tr>\n",
       "  </tbody>\n",
       "</table>\n",
       "</div>"
      ],
      "text/plain": [
       "    src                             tar\n",
       "0   Go.                            Va !\n",
       "1   Go.                         Marche.\n",
       "2   Go.                      En route !\n",
       "3   Go.                         Bouge !\n",
       "4   Hi.                         Salut !\n",
       "5   Hi.                          Salut.\n",
       "6  Run!                         Cours !\n",
       "7  Run!                        Courez !\n",
       "8  Run!  Prenez vos jambes à vos cous !\n",
       "9  Run!                          File !"
      ]
     },
     "execution_count": 13,
     "metadata": {},
     "output_type": "execute_result"
    }
   ],
   "source": [
    "lines = lines.loc[:, 'src':'tar']\n",
    "lines = lines[0:60000]\n",
    "lines.head(10)"
   ]
  },
  {
   "cell_type": "code",
   "execution_count": 14,
   "id": "d6708c31",
   "metadata": {},
   "outputs": [
    {
     "data": {
      "text/html": [
       "<div>\n",
       "<style scoped>\n",
       "    .dataframe tbody tr th:only-of-type {\n",
       "        vertical-align: middle;\n",
       "    }\n",
       "\n",
       "    .dataframe tbody tr th {\n",
       "        vertical-align: top;\n",
       "    }\n",
       "\n",
       "    .dataframe thead th {\n",
       "        text-align: right;\n",
       "    }\n",
       "</style>\n",
       "<table border=\"1\" class=\"dataframe\">\n",
       "  <thead>\n",
       "    <tr style=\"text-align: right;\">\n",
       "      <th></th>\n",
       "      <th>src</th>\n",
       "      <th>tar</th>\n",
       "    </tr>\n",
       "  </thead>\n",
       "  <tbody>\n",
       "    <tr>\n",
       "      <th>6928</th>\n",
       "      <td>Give it to me!</td>\n",
       "      <td>Donnez-la-moi.</td>\n",
       "    </tr>\n",
       "    <tr>\n",
       "      <th>13382</th>\n",
       "      <td>Dinner is ready.</td>\n",
       "      <td>Le dîner est prêt.</td>\n",
       "    </tr>\n",
       "    <tr>\n",
       "      <th>7168</th>\n",
       "      <td>I bribed them.</td>\n",
       "      <td>Je les ai soudoyées.</td>\n",
       "    </tr>\n",
       "    <tr>\n",
       "      <th>41733</th>\n",
       "      <td>He made her his wife.</td>\n",
       "      <td>Il a fait d'elle sa femme.</td>\n",
       "    </tr>\n",
       "    <tr>\n",
       "      <th>34918</th>\n",
       "      <td>Everybody likes her.</td>\n",
       "      <td>Tout le monde l'aime.</td>\n",
       "    </tr>\n",
       "    <tr>\n",
       "      <th>43124</th>\n",
       "      <td>I thought I knew you.</td>\n",
       "      <td>Je pensais te connaître.</td>\n",
       "    </tr>\n",
       "    <tr>\n",
       "      <th>14606</th>\n",
       "      <td>I went for help.</td>\n",
       "      <td>Je suis allé chercher de l'aide.</td>\n",
       "    </tr>\n",
       "    <tr>\n",
       "      <th>19420</th>\n",
       "      <td>I'm ignoring you.</td>\n",
       "      <td>Je t'ignore.</td>\n",
       "    </tr>\n",
       "    <tr>\n",
       "      <th>23214</th>\n",
       "      <td>Haste makes waste.</td>\n",
       "      <td>La vitesse crée de la perte.</td>\n",
       "    </tr>\n",
       "    <tr>\n",
       "      <th>35965</th>\n",
       "      <td>I have but one wish.</td>\n",
       "      <td>Je n'ai qu'un vœu.</td>\n",
       "    </tr>\n",
       "  </tbody>\n",
       "</table>\n",
       "</div>"
      ],
      "text/plain": [
       "                         src                               tar\n",
       "6928          Give it to me!                    Donnez-la-moi.\n",
       "13382       Dinner is ready.                Le dîner est prêt.\n",
       "7168          I bribed them.              Je les ai soudoyées.\n",
       "41733  He made her his wife.        Il a fait d'elle sa femme.\n",
       "34918   Everybody likes her.             Tout le monde l'aime.\n",
       "43124  I thought I knew you.          Je pensais te connaître.\n",
       "14606       I went for help.  Je suis allé chercher de l'aide.\n",
       "19420      I'm ignoring you.                      Je t'ignore.\n",
       "23214     Haste makes waste.      La vitesse crée de la perte.\n",
       "35965   I have but one wish.                Je n'ai qu'un vœu."
      ]
     },
     "execution_count": 14,
     "metadata": {},
     "output_type": "execute_result"
    }
   ],
   "source": [
    "lines.sample(10)"
   ]
  },
  {
   "cell_type": "code",
   "execution_count": 15,
   "id": "86a6621f",
   "metadata": {},
   "outputs": [
    {
     "data": {
      "text/html": [
       "<div>\n",
       "<style scoped>\n",
       "    .dataframe tbody tr th:only-of-type {\n",
       "        vertical-align: middle;\n",
       "    }\n",
       "\n",
       "    .dataframe tbody tr th {\n",
       "        vertical-align: top;\n",
       "    }\n",
       "\n",
       "    .dataframe thead th {\n",
       "        text-align: right;\n",
       "    }\n",
       "</style>\n",
       "<table border=\"1\" class=\"dataframe\">\n",
       "  <thead>\n",
       "    <tr style=\"text-align: right;\">\n",
       "      <th></th>\n",
       "      <th>src</th>\n",
       "      <th>tar</th>\n",
       "    </tr>\n",
       "  </thead>\n",
       "  <tbody>\n",
       "    <tr>\n",
       "      <th>13840</th>\n",
       "      <td>How are you now?</td>\n",
       "      <td>\\t Comment vas-tu maintenant ? \\n</td>\n",
       "    </tr>\n",
       "    <tr>\n",
       "      <th>59578</th>\n",
       "      <td>The weather turned bad.</td>\n",
       "      <td>\\t Le temps devint mauvais. \\n</td>\n",
       "    </tr>\n",
       "    <tr>\n",
       "      <th>33011</th>\n",
       "      <td>We can't afford it.</td>\n",
       "      <td>\\t Nous ne pouvons nous le permettre. \\n</td>\n",
       "    </tr>\n",
       "    <tr>\n",
       "      <th>47993</th>\n",
       "      <td>Did you hear all that?</td>\n",
       "      <td>\\t Avez-vous tout entendu ? \\n</td>\n",
       "    </tr>\n",
       "    <tr>\n",
       "      <th>53128</th>\n",
       "      <td>Tom looks embarrassed.</td>\n",
       "      <td>\\t Tom a l'air gêné. \\n</td>\n",
       "    </tr>\n",
       "    <tr>\n",
       "      <th>6031</th>\n",
       "      <td>This is ugly.</td>\n",
       "      <td>\\t C'est hideux. \\n</td>\n",
       "    </tr>\n",
       "    <tr>\n",
       "      <th>19909</th>\n",
       "      <td>Let me handle it.</td>\n",
       "      <td>\\t Laisse-moi m'en débrouiller ! \\n</td>\n",
       "    </tr>\n",
       "    <tr>\n",
       "      <th>19974</th>\n",
       "      <td>Look at your map.</td>\n",
       "      <td>\\t Regarde ta carte. \\n</td>\n",
       "    </tr>\n",
       "    <tr>\n",
       "      <th>12523</th>\n",
       "      <td>We think alike.</td>\n",
       "      <td>\\t Je partage votre point de vue. \\n</td>\n",
       "    </tr>\n",
       "    <tr>\n",
       "      <th>58026</th>\n",
       "      <td>I've only used it once.</td>\n",
       "      <td>\\t Je l'ai utilisé seulement une fois. \\n</td>\n",
       "    </tr>\n",
       "  </tbody>\n",
       "</table>\n",
       "</div>"
      ],
      "text/plain": [
       "                           src                                        tar\n",
       "13840         How are you now?          \\t Comment vas-tu maintenant ? \\n\n",
       "59578  The weather turned bad.             \\t Le temps devint mauvais. \\n\n",
       "33011      We can't afford it.   \\t Nous ne pouvons nous le permettre. \\n\n",
       "47993   Did you hear all that?             \\t Avez-vous tout entendu ? \\n\n",
       "53128   Tom looks embarrassed.                    \\t Tom a l'air gêné. \\n\n",
       "6031             This is ugly.                        \\t C'est hideux. \\n\n",
       "19909        Let me handle it.        \\t Laisse-moi m'en débrouiller ! \\n\n",
       "19974        Look at your map.                    \\t Regarde ta carte. \\n\n",
       "12523          We think alike.       \\t Je partage votre point de vue. \\n\n",
       "58026  I've only used it once.  \\t Je l'ai utilisé seulement une fois. \\n"
      ]
     },
     "execution_count": 15,
     "metadata": {},
     "output_type": "execute_result"
    }
   ],
   "source": [
    "# 시작과 종료를 의미하는 <sos>와 <eos> 추가\n",
    "# 여기서는 \\t와 \\n을 각각 시작 종료 심볼로 간주\n",
    "lines.tar = lines.tar.apply(lambda x: '\\t ' + x + ' \\n')\n",
    "lines.sample(10)"
   ]
  },
  {
   "cell_type": "code",
   "execution_count": 16,
   "id": "d38e6e8f",
   "metadata": {},
   "outputs": [],
   "source": [
    "# 문자 집합 생성\n",
    "src_vocab = set()\n",
    "for line in lines.src:\n",
    "    for char in line:\n",
    "        src_vocab.add(char)\n",
    "\n",
    "tar_vocab = set()\n",
    "for line in lines.tar:\n",
    "    for char in line:\n",
    "        tar_vocab.add(char)"
   ]
  },
  {
   "cell_type": "code",
   "execution_count": 20,
   "id": "d0be4fde",
   "metadata": {},
   "outputs": [
    {
     "data": {
      "text/plain": [
       "(79, 105)"
      ]
     },
     "execution_count": 20,
     "metadata": {},
     "output_type": "execute_result"
    }
   ],
   "source": [
    "src_vocab_size = len(src_vocab) + 1 # padding때문에 1개 추가\n",
    "tar_vocab_size = len(tar_vocab) + 1 \n",
    "src_vocab_size, tar_vocab_size"
   ]
  },
  {
   "cell_type": "code",
   "execution_count": 21,
   "id": "4b4b6e61",
   "metadata": {},
   "outputs": [
    {
     "name": "stdout",
     "output_type": "stream",
     "text": [
      "{'P': 1, 'G': 2, '1': 3, ':': 4, '4': 5, 'A': 6, 'i': 7, 't': 8, '’': 9, '/': 10, 'B': 11, 'h': 12, ',': 13, 'F': 14, 'a': 15, 'y': 16, '8': 17, '2': 18, 'J': 19, 'b': 20, 'r': 21, 'X': 22, 'D': 23, ' ': 24, 'j': 25, 'd': 26, 'M': 27, 'L': 28, 'K': 29, 'U': 30, 'u': 31, 'm': 32, '5': 33, 'O': 34, 'o': 35, 'c': 36, 'e': 37, 'W': 38, 'Y': 39, 'N': 40, '7': 41, '€': 42, '3': 43, '!': 44, 'l': 45, '&': 46, 'é': 47, 'q': 48, '?': 49, 'H': 50, '\"': 51, 'g': 52, 'V': 53, 'z': 54, '.': 55, 'p': 56, 'f': 57, 'E': 58, 'I': 59, '6': 60, '%': 61, 'S': 62, 'Q': 63, 'T': 64, \"'\": 65, 's': 66, 'v': 67, '$': 68, 'x': 69, 'k': 70, '0': 71, 'w': 72, '9': 73, '-': 74, 'n': 75, 'R': 76, 'Z': 77, 'C': 78}\n",
      "{'Ê': 1, 'P': 2, 'G': 3, '1': 4, ':': 5, '4': 6, 'A': 7, 'i': 8, 'Ô': 9, 'û': 10, 'ù': 11, '\\u200b': 12, 't': 13, '’': 14, 'À': 15, 'É': 16, 'B': 17, 'h': 18, ',': 19, 'F': 20, 'a': 21, 'y': 22, 'œ': 23, '8': 24, '2': 25, 'J': 26, 'b': 27, 'r': 28, 'â': 29, 'X': 30, 'D': 31, ' ': 32, 'ê': 33, 'î': 34, 'j': 35, 'ë': 36, 'd': 37, 'à': 38, 'M': 39, '\\t': 40, 'L': 41, ')': 42, '«': 43, 'K': 44, 'U': 45, 'u': 46, 'm': 47, '5': 48, 'O': 49, 'o': 50, 'c': 51, 'e': 52, 'W': 53, 'Y': 54, 'N': 55, '‘': 56, '7': 57, '3': 58, 'ç': 59, '!': 60, 'l': 61, '&': 62, 'é': 63, 'q': 64, '?': 65, 'H': 66, '»': 67, '\"': 68, 'g': 69, 'V': 70, 'z': 71, '.': 72, '\\u202f': 73, '\\u2009': 74, 'p': 75, 'f': 76, 'E': 77, 'I': 78, '6': 79, '%': 80, 'S': 81, 'Q': 82, 'T': 83, \"'\": 84, '\\n': 85, 's': 86, 'v': 87, '$': 88, 'Ç': 89, '\\xa0': 90, 'x': 91, 'ï': 92, 'k': 93, '0': 94, 'w': 95, '-': 96, '9': 97, 'è': 98, 'n': 99, 'R': 100, 'ô': 101, '(': 102, 'Z': 103, 'C': 104}\n"
     ]
    }
   ],
   "source": [
    "src_to_index = dict([(word, i+1) for i, word in enumerate(src_vocab)])\n",
    "tar_to_index = dict([(word, i+1) for i, word in enumerate(tar_vocab)])\n",
    "print(src_to_index)\n",
    "print(tar_to_index)"
   ]
  },
  {
   "cell_type": "code",
   "execution_count": 22,
   "id": "497c026d",
   "metadata": {},
   "outputs": [
    {
     "data": {
      "text/plain": [
       "[[2, 35, 55], [2, 35, 55], [2, 35, 55], [2, 35, 55], [50, 7, 55]]"
      ]
     },
     "execution_count": 22,
     "metadata": {},
     "output_type": "execute_result"
    }
   ],
   "source": [
    "# integer encoding (encoder)\n",
    "encoder_input = []\n",
    "\n",
    "for line in lines.src:\n",
    "    encoded_line = []\n",
    "    for char in line:\n",
    "        encoded_line.append(src_to_index[char])\n",
    "    encoder_input.append(encoded_line)\n",
    "encoder_input[:5]"
   ]
  },
  {
   "cell_type": "code",
   "execution_count": 23,
   "id": "1d8732e9",
   "metadata": {},
   "outputs": [
    {
     "data": {
      "text/plain": [
       "[[40, 32, 70, 21, 32, 60, 32, 85],\n",
       " [40, 32, 39, 21, 28, 51, 18, 52, 72, 32, 85],\n",
       " [40, 32, 77, 99, 32, 28, 50, 46, 13, 52, 32, 60, 32, 85],\n",
       " [40, 32, 17, 50, 46, 69, 52, 32, 60, 32, 85],\n",
       " [40, 32, 81, 21, 61, 46, 13, 32, 60, 32, 85]]"
      ]
     },
     "execution_count": 23,
     "metadata": {},
     "output_type": "execute_result"
    }
   ],
   "source": [
    "# decoder encoding (decoder)\n",
    "decoder_input = []\n",
    "for line in lines.tar:\n",
    "    decoded_line = []\n",
    "    for char in line:\n",
    "        decoded_line.append(tar_to_index[char])\n",
    "    decoder_input.append(decoded_line)\n",
    "decoder_input[:5]"
   ]
  },
  {
   "cell_type": "code",
   "execution_count": 24,
   "id": "f80e4d70",
   "metadata": {},
   "outputs": [
    {
     "data": {
      "text/plain": [
       "[[32, 70, 21, 32, 60, 32, 85],\n",
       " [32, 39, 21, 28, 51, 18, 52, 72, 32, 85],\n",
       " [32, 77, 99, 32, 28, 50, 46, 13, 52, 32, 60, 32, 85],\n",
       " [32, 17, 50, 46, 69, 52, 32, 60, 32, 85],\n",
       " [32, 81, 21, 61, 46, 13, 32, 60, 32, 85]]"
      ]
     },
     "execution_count": 24,
     "metadata": {},
     "output_type": "execute_result"
    }
   ],
   "source": [
    "# target data\n",
    "decoder_target = []\n",
    "for line in lines.tar:\n",
    "    timestep = 0\n",
    "    decoded_line = []\n",
    "    for char in line:\n",
    "        if timestep > 0:\n",
    "            decoded_line.append(tar_to_index[char])\n",
    "        timestep += 1\n",
    "    decoder_target.append(decoded_line)\n",
    "decoder_target[:5]"
   ]
  },
  {
   "cell_type": "code",
   "execution_count": 25,
   "id": "1221d56d",
   "metadata": {},
   "outputs": [],
   "source": [
    "# padding"
   ]
  }
 ],
 "metadata": {
  "kernelspec": {
   "display_name": "machine-learning",
   "language": "python",
   "name": "machine-learning"
  },
  "language_info": {
   "codemirror_mode": {
    "name": "ipython",
    "version": 3
   },
   "file_extension": ".py",
   "mimetype": "text/x-python",
   "name": "python",
   "nbconvert_exporter": "python",
   "pygments_lexer": "ipython3",
   "version": "3.7.15"
  }
 },
 "nbformat": 4,
 "nbformat_minor": 5
}
