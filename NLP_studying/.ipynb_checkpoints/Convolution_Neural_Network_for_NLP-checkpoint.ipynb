{
 "cells": [
  {
   "cell_type": "markdown",
   "id": "42f603df",
   "metadata": {},
   "source": [
    "# NLP를 위한 합성곱 신경망 (Convolution Neural Network)\n",
    "- 자연어 처리를 위한 1D 합성곱 신경망\n",
    "- 합성곱 신경망을 이용한 문자 임베딩"
   ]
  },
  {
   "cell_type": "markdown",
   "id": "4989c16a",
   "metadata": {},
   "source": [
    "## 1D 합성곱을 이용한 NLP (1D Convolutions)\n",
    "\n",
    "1. 임베딩 벡터를 인풋으로 받는다\n",
    "2. 그림에서는 커널 크기가 4, 3, 2인 각각 두개의 필터를 이용해 1D CNN수행\n",
    "3. CNN을 통해 얻은 벡터를 pooling(globalmaxpooling)\n",
    "4. 6개의 스칼라 값을 concatenate하여 fully connected layer을 통해 아웃풋\n",
    "\n",
    "![nn](https://wikidocs.net/images/page/80437/conv1d.PNG)"
   ]
  },
  {
   "cell_type": "markdown",
   "id": "8ae10682",
   "metadata": {},
   "source": [
    "## 문자 임베딩\n",
    "- FastText와 비슷한 효과 \n",
    "- 위 그림에서 fully connected layer의 인풋이 문자 임베딩 벡터로 사용"
   ]
  }
 ],
 "metadata": {
  "kernelspec": {
   "display_name": "machine-learning",
   "language": "python",
   "name": "machine-learning"
  },
  "language_info": {
   "codemirror_mode": {
    "name": "ipython",
    "version": 3
   },
   "file_extension": ".py",
   "mimetype": "text/x-python",
   "name": "python",
   "nbconvert_exporter": "python",
   "pygments_lexer": "ipython3",
   "version": "3.7.15"
  }
 },
 "nbformat": 4,
 "nbformat_minor": 5
}
