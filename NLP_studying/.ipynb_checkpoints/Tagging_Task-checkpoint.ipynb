{
 "cells": [
  {
   "cell_type": "markdown",
   "id": "4f15d14e",
   "metadata": {},
   "source": [
    "# 태깅 작업 (Tagging Task)\n",
    "단어가 어떤 유형에 속해있는지를 알아내는 작업\n",
    "\n",
    "- 개체명 인식: 사람, 장소, 단체 등 어떤 유형인지 파악\n",
    "- 품사 태깅: 단어의 명사, 동사 등을 파악"
   ]
  },
  {
   "cell_type": "markdown",
   "id": "3cffdd24",
   "metadata": {},
   "source": [
    "## 훈련데이터 \n",
    "- 지도 학습\n",
    "- 텍스트에 해당하는 x, 각 단어의 유형이나 품사에 해당하는 y\n",
    "=> x와 y의 데이터 길이는 동일"
   ]
  },
  {
   "cell_type": "markdown",
   "id": "ae90a8ad",
   "metadata": {},
   "source": [
    "![nn](https://wikidocs.net/images/page/33805/bidirectionalrnn_ver2.PNG)\n",
    "\n",
    "- 양방향 LSTM\n",
    "- many-to-many problem\n",
    "- x1의 유형이 y1에 해당"
   ]
  },
  {
   "cell_type": "markdown",
   "id": "89c34ee7",
   "metadata": {},
   "source": [
    "## 개체명 인식의 BIO 표현\n",
    "ex) [['eu', 'B-ORG'], ['rejects', 'O'], ['german', 'B-MISC'], ['call', 'O'], ['to', 'O'], ['boycott', 'O'], ['british', 'B-MISC'], ['lamb', 'O'], ['.', 'O']]\\\n",
    "=> ['eu', 'B-ORG']\n",
    "- 'eu': 단어\n",
    "- B: 개체의 시작 부분(eu가 개체의 시작과 끝이라면 B만 존재)\\\n",
    "I: 개체의 내부부분\\\n",
    "O: 개체가 아닌것"
   ]
  },
  {
   "cell_type": "markdown",
   "id": "713ea3c1",
   "metadata": {},
   "source": [
    "## BiLSTM-CRF를 이용한 개체명 인식\n",
    "\n",
    "### CRF (Conditional Random Field)\n",
    "- 양방향 LSTM: 입력 단어에 대한 양방향 문맥 반영\n",
    "- CRF: 출력 레이블에 대한 양방향 문맥 반영\n",
    "![nn](https://wikidocs.net/images/page/34156/bilstmcrf3.PNG)\n",
    "- 원래는 BiLSTM을 통해 얻은 각 언어의 개체명 확률을 통해 예측\\\n",
    "=> 만약 그 예측이 예를 들어 첫단어에 i를 예측하거나 O->I 패턴은 있을 수 없다.\n",
    "- 따라서 CRF층을 통해 레이블 시퀀스에 대한 확률을 구해 가장 높은 시퀀스를 예측"
   ]
  },
  {
   "cell_type": "markdown",
   "id": "40f6ad3d",
   "metadata": {},
   "source": [
    "## 문자 임베딩 활용하기"
   ]
  },
  {
   "cell_type": "markdown",
   "id": "81bf9ea0",
   "metadata": {},
   "source": [
    "### BiLSTM-CNN OR BiLSTM을 이용한 개체명 인식\n",
    "1. 단어 단위 정수 인코딩을 한 word_data에 문자 단위 정수 인코딩 수행 char_data\n",
    "2. word_data에 워드 임베딩 수행하고 char_data에는 문자임베딩 후 CNN or BiLSTM을 활용하여 단어에 대한 벡터 획득\n",
    "3. 각 임베딩 벡터를 concatenate한 후에 BiLSTM 수행\n",
    "\n",
    "=> 마지막에 CRF층을 추가하면 성능향상 기대"
   ]
  }
 ],
 "metadata": {
  "kernelspec": {
   "display_name": "machine-learning",
   "language": "python",
   "name": "machine-learning"
  },
  "language_info": {
   "codemirror_mode": {
    "name": "ipython",
    "version": 3
   },
   "file_extension": ".py",
   "mimetype": "text/x-python",
   "name": "python",
   "nbconvert_exporter": "python",
   "pygments_lexer": "ipython3",
   "version": "3.7.15"
  }
 },
 "nbformat": 4,
 "nbformat_minor": 5
}
