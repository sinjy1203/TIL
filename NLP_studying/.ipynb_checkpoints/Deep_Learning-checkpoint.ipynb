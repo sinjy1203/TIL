{
 "cells": [
  {
   "cell_type": "markdown",
   "id": "09d4d8f9",
   "metadata": {},
   "source": [
    "## 다층 퍼셉트론(MultiLayer Perceptron, MLP)으로 텍스트 분류하기"
   ]
  },
  {
   "cell_type": "code",
   "execution_count": 1,
   "id": "d6e6806d",
   "metadata": {},
   "outputs": [
    {
     "data": {
      "text/plain": [
       "{'바나나': 1,\n",
       " '먹고': 2,\n",
       " '싶은': 3,\n",
       " '사과': 4,\n",
       " '길고': 5,\n",
       " '노란': 6,\n",
       " '저는': 7,\n",
       " '과일이': 8,\n",
       " '좋아요': 9}"
      ]
     },
     "execution_count": 1,
     "metadata": {},
     "output_type": "execute_result"
    }
   ],
   "source": [
    "import numpy as np\n",
    "from tensorflow.keras.preprocessing.text import Tokenizer\n",
    "\n",
    "texts = ['먹고 싶은 사과', '먹고 싶은 바나나', '길고 노란 바나나 바나나', '저는 과일이 좋아요']\n",
    "\n",
    "tokenizer = Tokenizer()\n",
    "tokenizer.fit_on_texts(texts)\n",
    "tokenizer.word_index"
   ]
  },
  {
   "cell_type": "code",
   "execution_count": 2,
   "id": "dfcfbc33",
   "metadata": {},
   "outputs": [
    {
     "data": {
      "text/plain": [
       "array([[0., 0., 1., 1., 1., 0., 0., 0., 0., 0.],\n",
       "       [0., 1., 1., 1., 0., 0., 0., 0., 0., 0.],\n",
       "       [0., 2., 0., 0., 0., 1., 1., 0., 0., 0.],\n",
       "       [0., 0., 0., 0., 0., 0., 0., 1., 1., 1.]])"
      ]
     },
     "execution_count": 2,
     "metadata": {},
     "output_type": "execute_result"
    }
   ],
   "source": [
    "## mode: count => DTM\n",
    "tokenizer.texts_to_matrix(texts, mode='count')"
   ]
  },
  {
   "cell_type": "markdown",
   "id": "7ad62cf1",
   "metadata": {},
   "source": [
    "### 뉴스 그룹 데이터"
   ]
  },
  {
   "cell_type": "code",
   "execution_count": 3,
   "id": "fdacf3cb",
   "metadata": {},
   "outputs": [
    {
     "data": {
      "text/plain": [
       "dict_keys(['data', 'filenames', 'target_names', 'target', 'DESCR'])"
      ]
     },
     "execution_count": 3,
     "metadata": {},
     "output_type": "execute_result"
    }
   ],
   "source": [
    "import pandas as pd\n",
    "from sklearn.datasets import fetch_20newsgroups\n",
    "import matplotlib.pyplot as plt\n",
    "from tensorflow.keras.preprocessing.text import Tokenizer\n",
    "from tensorflow.keras.utils import to_categorical\n",
    "\n",
    "newsdata = fetch_20newsgroups(subset='train')\n",
    "newsdata.keys()"
   ]
  },
  {
   "cell_type": "code",
   "execution_count": 4,
   "id": "776d6cf8",
   "metadata": {},
   "outputs": [
    {
     "data": {
      "text/plain": [
       "11314"
      ]
     },
     "execution_count": 4,
     "metadata": {},
     "output_type": "execute_result"
    }
   ],
   "source": [
    "len(newsdata.data)"
   ]
  },
  {
   "cell_type": "code",
   "execution_count": 5,
   "id": "6625c7ac",
   "metadata": {},
   "outputs": [
    {
     "data": {
      "text/plain": [
       "['alt.atheism',\n",
       " 'comp.graphics',\n",
       " 'comp.os.ms-windows.misc',\n",
       " 'comp.sys.ibm.pc.hardware',\n",
       " 'comp.sys.mac.hardware',\n",
       " 'comp.windows.x',\n",
       " 'misc.forsale',\n",
       " 'rec.autos',\n",
       " 'rec.motorcycles',\n",
       " 'rec.sport.baseball',\n",
       " 'rec.sport.hockey',\n",
       " 'sci.crypt',\n",
       " 'sci.electronics',\n",
       " 'sci.med',\n",
       " 'sci.space',\n",
       " 'soc.religion.christian',\n",
       " 'talk.politics.guns',\n",
       " 'talk.politics.mideast',\n",
       " 'talk.politics.misc',\n",
       " 'talk.religion.misc']"
      ]
     },
     "execution_count": 5,
     "metadata": {},
     "output_type": "execute_result"
    }
   ],
   "source": [
    "newsdata.target_names"
   ]
  },
  {
   "cell_type": "markdown",
   "id": "1843e9b1",
   "metadata": {},
   "source": [
    "**목적**\\\n",
    "테스트 데이터의 이메일 본문을 보고 20개 주제 중 어떤 주제인지 맞추기"
   ]
  },
  {
   "cell_type": "code",
   "execution_count": 7,
   "id": "ec236c3a",
   "metadata": {},
   "outputs": [
    {
     "data": {
      "text/html": [
       "<div>\n",
       "<style scoped>\n",
       "    .dataframe tbody tr th:only-of-type {\n",
       "        vertical-align: middle;\n",
       "    }\n",
       "\n",
       "    .dataframe tbody tr th {\n",
       "        vertical-align: top;\n",
       "    }\n",
       "\n",
       "    .dataframe thead th {\n",
       "        text-align: right;\n",
       "    }\n",
       "</style>\n",
       "<table border=\"1\" class=\"dataframe\">\n",
       "  <thead>\n",
       "    <tr style=\"text-align: right;\">\n",
       "      <th></th>\n",
       "      <th>email</th>\n",
       "      <th>target</th>\n",
       "    </tr>\n",
       "  </thead>\n",
       "  <tbody>\n",
       "    <tr>\n",
       "      <th>0</th>\n",
       "      <td>From: lerxst@wam.umd.edu (where's my thing)\\nS...</td>\n",
       "      <td>7</td>\n",
       "    </tr>\n",
       "    <tr>\n",
       "      <th>1</th>\n",
       "      <td>From: guykuo@carson.u.washington.edu (Guy Kuo)...</td>\n",
       "      <td>4</td>\n",
       "    </tr>\n",
       "    <tr>\n",
       "      <th>2</th>\n",
       "      <td>From: twillis@ec.ecn.purdue.edu (Thomas E Will...</td>\n",
       "      <td>4</td>\n",
       "    </tr>\n",
       "    <tr>\n",
       "      <th>3</th>\n",
       "      <td>From: jgreen@amber (Joe Green)\\nSubject: Re: W...</td>\n",
       "      <td>1</td>\n",
       "    </tr>\n",
       "    <tr>\n",
       "      <th>4</th>\n",
       "      <td>From: jcm@head-cfa.harvard.edu (Jonathan McDow...</td>\n",
       "      <td>14</td>\n",
       "    </tr>\n",
       "  </tbody>\n",
       "</table>\n",
       "</div>"
      ],
      "text/plain": [
       "                                               email  target\n",
       "0  From: lerxst@wam.umd.edu (where's my thing)\\nS...       7\n",
       "1  From: guykuo@carson.u.washington.edu (Guy Kuo)...       4\n",
       "2  From: twillis@ec.ecn.purdue.edu (Thomas E Will...       4\n",
       "3  From: jgreen@amber (Joe Green)\\nSubject: Re: W...       1\n",
       "4  From: jcm@head-cfa.harvard.edu (Jonathan McDow...      14"
      ]
     },
     "execution_count": 7,
     "metadata": {},
     "output_type": "execute_result"
    }
   ],
   "source": [
    "## 이메일 본문인 data와 target을 데이터프레임으로 만들기\n",
    "data = pd.DataFrame(newsdata.data, columns=['email'])\n",
    "data['target'] = pd.Series(newsdata.target)\n",
    "data[:5]"
   ]
  },
  {
   "cell_type": "code",
   "execution_count": 8,
   "id": "09b0538f",
   "metadata": {},
   "outputs": [
    {
     "data": {
      "text/plain": [
       "False"
      ]
     },
     "execution_count": 8,
     "metadata": {},
     "output_type": "execute_result"
    }
   ],
   "source": [
    "## null check\n",
    "data.isnull().values.any()"
   ]
  },
  {
   "cell_type": "code",
   "execution_count": 9,
   "id": "f9ac0b4e",
   "metadata": {},
   "outputs": [
    {
     "name": "stdout",
     "output_type": "stream",
     "text": [
      "중복 제외한 email 수:  11314\n",
      "중복 제외한 target 수:  20\n"
     ]
    }
   ],
   "source": [
    "## distinct data\n",
    "print('중복 제외한 email 수: ', data['email'].nunique())\n",
    "print('중복 제외한 target 수: ', data['target'].nunique())"
   ]
  },
  {
   "cell_type": "code",
   "execution_count": 10,
   "id": "ad4e91df",
   "metadata": {},
   "outputs": [
    {
     "data": {
      "text/plain": [
       "<AxesSubplot:>"
      ]
     },
     "execution_count": 10,
     "metadata": {},
     "output_type": "execute_result"
    },
    {
     "data": {
      "image/png": "[encoded data removed]",
      "text/plain": [
       "<Figure size 432x288 with 1 Axes>"
      ]
     },
     "metadata": {
      "needs_background": "light"
     },
     "output_type": "display_data"
    }
   ],
   "source": [
    "## label balance check\n",
    "data['target'].value_counts().plot(kind='bar')"
   ]
  },
  {
   "cell_type": "code",
   "execution_count": 11,
   "id": "f2ed86ef",
   "metadata": {},
   "outputs": [],
   "source": [
    "## test dataset\n",
    "newsdata_test = fetch_20newsgroups(subset='test', shuffle=True)\n",
    "train_email = data['email']\n",
    "train_label = data['target']\n",
    "test_email = newsdata_test.data\n",
    "test_label = newsdata_test.target"
   ]
  },
  {
   "cell_type": "code",
   "execution_count": 12,
   "id": "cab0fec5",
   "metadata": {},
   "outputs": [],
   "source": [
    "vocab_size = 10000\n",
    "num_classes = 20\n",
    "\n",
    "def prepare_data(train_data, test_data, mode):\n",
    "    # 상위 vocab_size만큼만 사용하여 정수 인코딩\n",
    "    tokenizer = Tokenizer(num_words=vocab_size)\n",
    "    tokenizer.fit_on_texts(train_data)\n",
    "    \n",
    "    # n x vocab_size 행렬 생성 \n",
    "    X_train = tokenizer.texts_to_matrix(train_data, mode=mode)\n",
    "    X_test = tokenizer.texts_to_matrix(test_data, mode=mode)\n",
    "    \n",
    "    return X_train, X_test, tokenizer.index_word"
   ]
  },
  {
   "cell_type": "code",
   "execution_count": 13,
   "id": "c060458e",
   "metadata": {},
   "outputs": [],
   "source": [
    "# mode=binary => 단어 존재여부\n",
    "X_train, X_test, index_to_word = prepare_data(train_email, test_email, 'binary')\n",
    "# label one-hot encoding\n",
    "y_train = to_categorical(train_label, num_classes) \n",
    "y_test = to_categorical(test_label, num_classes)"
   ]
  },
  {
   "cell_type": "markdown",
   "id": "23a60011",
   "metadata": {},
   "source": [
    "### Modeling & training"
   ]
  },
  {
   "cell_type": "code",
   "execution_count": 16,
   "id": "7472934f",
   "metadata": {},
   "outputs": [],
   "source": [
    "from tensorflow.keras.models import Sequential\n",
    "from tensorflow.keras.layers import Dense, Dropout\n",
    "\n",
    "def fit_and_evaluate(X_train, y_train, X_test, y_test):\n",
    "    model = Sequential()\n",
    "    model.add(Dense(256, input_shape=(vocab_size, ), activation='relu'))\n",
    "    model.add(Dropout(0.5))\n",
    "    model.add(Dense(128, activation='relu'))\n",
    "    model.add(Dropout(0.5))\n",
    "    model.add(Dense(num_classes, activation='softmax'))\n",
    "    \n",
    "    model.compile(loss='categorical_crossentropy', optimizer='adam', metrics=['accuracy'])\n",
    "    model.fit(X_train, y_train, batch_size=128, epochs=5, verbose=0, validation_split=0.1)\n",
    "    score = model.evaluate(X_test, y_test, batch_size=128, verbose=0)\n",
    "    return score[1]"
   ]
  },
  {
   "cell_type": "markdown",
   "id": "c494cfc6",
   "metadata": {},
   "source": [
    "### testing (with mode)"
   ]
  },
  {
   "cell_type": "code",
   "execution_count": 17,
   "id": "bd2e3aa8",
   "metadata": {},
   "outputs": [
    {
     "name": "stdout",
     "output_type": "stream",
     "text": [
      "binary 테스트 정확도:  0.833244800567627\n",
      "count 테스트 정확도:  0.8248804807662964\n",
      "tfidf 테스트 정확도:  0.8300583958625793\n",
      "freq 테스트 정확도:  0.6922464370727539\n"
     ]
    }
   ],
   "source": [
    "modes = ['binary', 'count', 'tfidf', 'freq']\n",
    "\n",
    "for mode in modes:\n",
    "    X_train, X_test, _ = prepare_data(train_email, test_email, mode)\n",
    "    score = fit_and_evaluate(X_train, y_train, X_test, y_test)\n",
    "    print(mode, '테스트 정확도: ', score)"
   ]
  },
  {
   "cell_type": "markdown",
   "id": "eae39af3",
   "metadata": {},
   "source": [
    "## 피드 포워드 신경망 언어 모델(Neural Network Language Model, NNLM)"
   ]
  },
  {
   "cell_type": "markdown",
   "id": "00b9b7f2",
   "metadata": {},
   "source": [
    "**언어모델링**\\\n",
    "주어진 문맥으로부터 아직 모르는 단어를 예측하는 것\\\n",
    "확률 할당\\\n",
    "=> sparsity problem\n",
    "\n",
    "**해결방법**\\\n",
    "단어의 의미를 파악 => NNLM\n",
    "\n",
    "**단점**\\\n",
    "고정된 길이의 입력"
   ]
  }
 ],
 "metadata": {
  "kernelspec": {
   "display_name": "machine-learning",
   "language": "python",
   "name": "machine-learning"
  },
  "language_info": {
   "codemirror_mode": {
    "name": "ipython",
    "version": 3
   },
   "file_extension": ".py",
   "mimetype": "text/x-python",
   "name": "python",
   "nbconvert_exporter": "python",
   "pygments_lexer": "ipython3",
   "version": "3.7.11"
  }
 },
 "nbformat": 4,
 "nbformat_minor": 5
}
