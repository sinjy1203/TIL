{
 "cells": [
  {
   "cell_type": "markdown",
   "id": "526e2ac9",
   "metadata": {
    "id": "526e2ac9"
   },
   "source": [
    "# RNN을 이용한 인코더-디코더\n",
    "- 번역기, 텍스트 요약에 활용"
   ]
  },
  {
   "cell_type": "markdown",
   "id": "fa182f54",
   "metadata": {
    "id": "fa182f54"
   },
   "source": [
    "## Sequence-to-Sequence\n",
    "- 챗봇, 기계번역, 내용요약, stt(Speech to Text)\n",
    "\n",
    "![](https://wikidocs.net/images/page/24996/%EB%8B%A8%EC%96%B4%ED%86%A0%ED%81%B0%EB%93%A4%EC%9D%B4.PNG)\n",
    "1. 인코더 RNN 마지막 시점의 은닉상태가 **컨텍스트 벡터**\n",
    "2. 컨텍스트 벡터는 디코더 RNN 첫번째 시점의 은닉상태에 사용\n",
    "3. 디코더는 RNNLM(다음 시점의 단어를 예측하는 모델)\n",
    "4. 훈련과정에서는 기존 정답을 RNN의 인풋으로 사용\n",
    "5. 테스트과정에서는 전시점의 RNN의 예측을 다음 시점의 인풋으로 사용"
   ]
  },
  {
   "cell_type": "markdown",
   "id": "15e653d7",
   "metadata": {
    "id": "15e653d7"
   },
   "source": [
    "### 교사 강요(Teacher forcing)\n",
    "- 이전 디코더셀의 출력을 현재 디코더셀의 입력으로 활용 (예측시)\n",
    "- 이전 시점의 실제값을 현재 디코더셀의 입력으로 활용 (훈련시, 교사강요)\n",
    "- 이전 예측이 틀려서 다음 셀의 예측의 영향을 주는 것을 막기 위한 전략"
   ]
  },
  {
   "cell_type": "markdown",
   "id": "e5f18097",
   "metadata": {
    "id": "e5f18097"
   },
   "source": [
    "## Character-Level Neural Machine Translation (실습)"
   ]
  },
  {
   "cell_type": "markdown",
   "id": "adb82a9a",
   "metadata": {
    "id": "adb82a9a"
   },
   "source": [
    "### 병렬 코퍼스 데이터에 대한 전처리"
   ]
  },
  {
   "cell_type": "code",
   "execution_count": 1,
   "id": "cdc3b78c",
   "metadata": {
    "executionInfo": {
     "elapsed": 7471,
     "status": "ok",
     "timestamp": 1672279620315,
     "user": {
      "displayName": "신정열",
      "userId": "17568906488684043814"
     },
     "user_tz": -540
    },
    "id": "cdc3b78c"
   },
   "outputs": [],
   "source": [
    "import os\n",
    "import shutil\n",
    "import zipfile\n",
    "from pathlib import Path\n",
    "\n",
    "import pandas as pd\n",
    "import tensorflow as tf\n",
    "import urllib3\n",
    "from tensorflow.keras.preprocessing.sequence import pad_sequences\n",
    "from tensorflow.keras.utils import to_categorical\n",
    "from pathlib import Path"
   ]
  },
  {
   "cell_type": "code",
   "execution_count": 2,
   "id": "spFsvdSxQNXN",
   "metadata": {
    "colab": {
     "base_uri": "https://localhost:8080/"
    },
    "executionInfo": {
     "elapsed": 3660,
     "status": "ok",
     "timestamp": 1672279623971,
     "user": {
      "displayName": "신정열",
      "userId": "17568906488684043814"
     },
     "user_tz": -540
    },
    "id": "spFsvdSxQNXN",
    "outputId": "a61299d0-d136-4c2c-e098-e0d3879c25cc"
   },
   "outputs": [],
   "source": [
    "# from google.colab import drive\n",
    "# drive.mount('/content/drive')"
   ]
  },
  {
   "cell_type": "code",
   "execution_count": 3,
   "id": "4e0d1bb2",
   "metadata": {
    "colab": {
     "base_uri": "https://localhost:8080/"
    },
    "executionInfo": {
     "elapsed": 2417,
     "status": "ok",
     "timestamp": 1672279626378,
     "user": {
      "displayName": "신정열",
      "userId": "17568906488684043814"
     },
     "user_tz": -540
    },
    "id": "4e0d1bb2",
    "outputId": "372e7253-11c8-463b-d1b9-facbd9e9b827"
   },
   "outputs": [
    {
     "data": {
      "text/plain": [
       "(197463, 2)"
      ]
     },
     "execution_count": 3,
     "metadata": {},
     "output_type": "execute_result"
    }
   ],
   "source": [
    "# data_dir = Path('/content/drive/MyDrive/Colab Notebooks')\n",
    "data_dir = Path('C:/Users/011/sinjy1203/data')\n",
    "lines = pd.read_csv(data_dir / 'fra.txt', names=['src', 'tar', 'lic'], sep='\\t')\n",
    "del lines['lic']\n",
    "lines.shape"
   ]
  },
  {
   "cell_type": "code",
   "execution_count": 4,
   "id": "c646e5c9",
   "metadata": {
    "colab": {
     "base_uri": "https://localhost:8080/",
     "height": 206
    },
    "executionInfo": {
     "elapsed": 11,
     "status": "ok",
     "timestamp": 1672279626378,
     "user": {
      "displayName": "신정열",
      "userId": "17568906488684043814"
     },
     "user_tz": -540
    },
    "id": "c646e5c9",
    "outputId": "a158cbf1-9680-47cc-86ee-811d4a2f1ef6"
   },
   "outputs": [
    {
     "data": {
      "text/html": [
       "<div>\n",
       "<style scoped>\n",
       "    .dataframe tbody tr th:only-of-type {\n",
       "        vertical-align: middle;\n",
       "    }\n",
       "\n",
       "    .dataframe tbody tr th {\n",
       "        vertical-align: top;\n",
       "    }\n",
       "\n",
       "    .dataframe thead th {\n",
       "        text-align: right;\n",
       "    }\n",
       "</style>\n",
       "<table border=\"1\" class=\"dataframe\">\n",
       "  <thead>\n",
       "    <tr style=\"text-align: right;\">\n",
       "      <th></th>\n",
       "      <th>src</th>\n",
       "      <th>tar</th>\n",
       "    </tr>\n",
       "  </thead>\n",
       "  <tbody>\n",
       "    <tr>\n",
       "      <th>0</th>\n",
       "      <td>Go.</td>\n",
       "      <td>Va !</td>\n",
       "    </tr>\n",
       "    <tr>\n",
       "      <th>1</th>\n",
       "      <td>Go.</td>\n",
       "      <td>Marche.</td>\n",
       "    </tr>\n",
       "    <tr>\n",
       "      <th>2</th>\n",
       "      <td>Go.</td>\n",
       "      <td>En route !</td>\n",
       "    </tr>\n",
       "    <tr>\n",
       "      <th>3</th>\n",
       "      <td>Go.</td>\n",
       "      <td>Bouge !</td>\n",
       "    </tr>\n",
       "    <tr>\n",
       "      <th>4</th>\n",
       "      <td>Hi.</td>\n",
       "      <td>Salut !</td>\n",
       "    </tr>\n",
       "  </tbody>\n",
       "</table>\n",
       "</div>"
      ],
      "text/plain": [
       "   src         tar\n",
       "0  Go.        Va !\n",
       "1  Go.     Marche.\n",
       "2  Go.  En route !\n",
       "3  Go.     Bouge !\n",
       "4  Hi.     Salut !"
      ]
     },
     "execution_count": 4,
     "metadata": {},
     "output_type": "execute_result"
    }
   ],
   "source": [
    "lines.head()"
   ]
  },
  {
   "cell_type": "code",
   "execution_count": 5,
   "id": "e8f1801b",
   "metadata": {
    "colab": {
     "base_uri": "https://localhost:8080/",
     "height": 363
    },
    "executionInfo": {
     "elapsed": 9,
     "status": "ok",
     "timestamp": 1672279626379,
     "user": {
      "displayName": "신정열",
      "userId": "17568906488684043814"
     },
     "user_tz": -540
    },
    "id": "e8f1801b",
    "outputId": "75b0272b-75d4-4546-b438-0c33c6650c4d"
   },
   "outputs": [
    {
     "data": {
      "text/html": [
       "<div>\n",
       "<style scoped>\n",
       "    .dataframe tbody tr th:only-of-type {\n",
       "        vertical-align: middle;\n",
       "    }\n",
       "\n",
       "    .dataframe tbody tr th {\n",
       "        vertical-align: top;\n",
       "    }\n",
       "\n",
       "    .dataframe thead th {\n",
       "        text-align: right;\n",
       "    }\n",
       "</style>\n",
       "<table border=\"1\" class=\"dataframe\">\n",
       "  <thead>\n",
       "    <tr style=\"text-align: right;\">\n",
       "      <th></th>\n",
       "      <th>src</th>\n",
       "      <th>tar</th>\n",
       "    </tr>\n",
       "  </thead>\n",
       "  <tbody>\n",
       "    <tr>\n",
       "      <th>0</th>\n",
       "      <td>Go.</td>\n",
       "      <td>Va !</td>\n",
       "    </tr>\n",
       "    <tr>\n",
       "      <th>1</th>\n",
       "      <td>Go.</td>\n",
       "      <td>Marche.</td>\n",
       "    </tr>\n",
       "    <tr>\n",
       "      <th>2</th>\n",
       "      <td>Go.</td>\n",
       "      <td>En route !</td>\n",
       "    </tr>\n",
       "    <tr>\n",
       "      <th>3</th>\n",
       "      <td>Go.</td>\n",
       "      <td>Bouge !</td>\n",
       "    </tr>\n",
       "    <tr>\n",
       "      <th>4</th>\n",
       "      <td>Hi.</td>\n",
       "      <td>Salut !</td>\n",
       "    </tr>\n",
       "    <tr>\n",
       "      <th>5</th>\n",
       "      <td>Hi.</td>\n",
       "      <td>Salut.</td>\n",
       "    </tr>\n",
       "    <tr>\n",
       "      <th>6</th>\n",
       "      <td>Run!</td>\n",
       "      <td>Cours !</td>\n",
       "    </tr>\n",
       "    <tr>\n",
       "      <th>7</th>\n",
       "      <td>Run!</td>\n",
       "      <td>Courez !</td>\n",
       "    </tr>\n",
       "    <tr>\n",
       "      <th>8</th>\n",
       "      <td>Run!</td>\n",
       "      <td>Prenez vos jambes à vos cous !</td>\n",
       "    </tr>\n",
       "    <tr>\n",
       "      <th>9</th>\n",
       "      <td>Run!</td>\n",
       "      <td>File !</td>\n",
       "    </tr>\n",
       "  </tbody>\n",
       "</table>\n",
       "</div>"
      ],
      "text/plain": [
       "    src                             tar\n",
       "0   Go.                            Va !\n",
       "1   Go.                         Marche.\n",
       "2   Go.                      En route !\n",
       "3   Go.                         Bouge !\n",
       "4   Hi.                         Salut !\n",
       "5   Hi.                          Salut.\n",
       "6  Run!                         Cours !\n",
       "7  Run!                        Courez !\n",
       "8  Run!  Prenez vos jambes à vos cous !\n",
       "9  Run!                          File !"
      ]
     },
     "execution_count": 5,
     "metadata": {},
     "output_type": "execute_result"
    }
   ],
   "source": [
    "lines = lines.loc[:, 'src':'tar']\n",
    "lines = lines[0:60000]\n",
    "lines.head(10)"
   ]
  },
  {
   "cell_type": "code",
   "execution_count": 6,
   "id": "d6708c31",
   "metadata": {
    "colab": {
     "base_uri": "https://localhost:8080/",
     "height": 363
    },
    "executionInfo": {
     "elapsed": 8,
     "status": "ok",
     "timestamp": 1672279626379,
     "user": {
      "displayName": "신정열",
      "userId": "17568906488684043814"
     },
     "user_tz": -540
    },
    "id": "d6708c31",
    "outputId": "44035c65-a7e9-493f-bfbd-65e494415f9b"
   },
   "outputs": [
    {
     "data": {
      "text/html": [
       "<div>\n",
       "<style scoped>\n",
       "    .dataframe tbody tr th:only-of-type {\n",
       "        vertical-align: middle;\n",
       "    }\n",
       "\n",
       "    .dataframe tbody tr th {\n",
       "        vertical-align: top;\n",
       "    }\n",
       "\n",
       "    .dataframe thead th {\n",
       "        text-align: right;\n",
       "    }\n",
       "</style>\n",
       "<table border=\"1\" class=\"dataframe\">\n",
       "  <thead>\n",
       "    <tr style=\"text-align: right;\">\n",
       "      <th></th>\n",
       "      <th>src</th>\n",
       "      <th>tar</th>\n",
       "    </tr>\n",
       "  </thead>\n",
       "  <tbody>\n",
       "    <tr>\n",
       "      <th>5758</th>\n",
       "      <td>She went out.</td>\n",
       "      <td>Elle sortit.</td>\n",
       "    </tr>\n",
       "    <tr>\n",
       "      <th>10203</th>\n",
       "      <td>He's an author.</td>\n",
       "      <td>Il est auteur.</td>\n",
       "    </tr>\n",
       "    <tr>\n",
       "      <th>6027</th>\n",
       "      <td>This is ours.</td>\n",
       "      <td>C'est à nous.</td>\n",
       "    </tr>\n",
       "    <tr>\n",
       "      <th>29452</th>\n",
       "      <td>I accept the offer.</td>\n",
       "      <td>J'accepte la proposition.</td>\n",
       "    </tr>\n",
       "    <tr>\n",
       "      <th>18018</th>\n",
       "      <td>Have you decided?</td>\n",
       "      <td>T'es-tu décidée ?</td>\n",
       "    </tr>\n",
       "    <tr>\n",
       "      <th>36940</th>\n",
       "      <td>I'm perfectly happy.</td>\n",
       "      <td>Je suis parfaitement heureux.</td>\n",
       "    </tr>\n",
       "    <tr>\n",
       "      <th>28168</th>\n",
       "      <td>You're very funny.</td>\n",
       "      <td>Tu es très drôle.</td>\n",
       "    </tr>\n",
       "    <tr>\n",
       "      <th>23891</th>\n",
       "      <td>I got my hair cut.</td>\n",
       "      <td>Je me suis fait couper les cheveux.</td>\n",
       "    </tr>\n",
       "    <tr>\n",
       "      <th>34430</th>\n",
       "      <td>Are you that stupid?</td>\n",
       "      <td>Êtes-vous aussi bêtes ?</td>\n",
       "    </tr>\n",
       "    <tr>\n",
       "      <th>53940</th>\n",
       "      <td>Where should I put it?</td>\n",
       "      <td>Où devrais-je le mettre ?</td>\n",
       "    </tr>\n",
       "  </tbody>\n",
       "</table>\n",
       "</div>"
      ],
      "text/plain": [
       "                          src                                  tar\n",
       "5758            She went out.                         Elle sortit.\n",
       "10203         He's an author.                       Il est auteur.\n",
       "6027            This is ours.                        C'est à nous.\n",
       "29452     I accept the offer.            J'accepte la proposition.\n",
       "18018       Have you decided?                    T'es-tu décidée ?\n",
       "36940    I'm perfectly happy.        Je suis parfaitement heureux.\n",
       "28168      You're very funny.                    Tu es très drôle.\n",
       "23891      I got my hair cut.  Je me suis fait couper les cheveux.\n",
       "34430    Are you that stupid?              Êtes-vous aussi bêtes ?\n",
       "53940  Where should I put it?            Où devrais-je le mettre ?"
      ]
     },
     "execution_count": 6,
     "metadata": {},
     "output_type": "execute_result"
    }
   ],
   "source": [
    "lines.sample(10)"
   ]
  },
  {
   "cell_type": "code",
   "execution_count": 7,
   "id": "86a6621f",
   "metadata": {
    "colab": {
     "base_uri": "https://localhost:8080/",
     "height": 363
    },
    "executionInfo": {
     "elapsed": 8,
     "status": "ok",
     "timestamp": 1672279626379,
     "user": {
      "displayName": "신정열",
      "userId": "17568906488684043814"
     },
     "user_tz": -540
    },
    "id": "86a6621f",
    "outputId": "344b5644-1d18-442e-eab7-0ba6b31f938d"
   },
   "outputs": [
    {
     "data": {
      "text/html": [
       "<div>\n",
       "<style scoped>\n",
       "    .dataframe tbody tr th:only-of-type {\n",
       "        vertical-align: middle;\n",
       "    }\n",
       "\n",
       "    .dataframe tbody tr th {\n",
       "        vertical-align: top;\n",
       "    }\n",
       "\n",
       "    .dataframe thead th {\n",
       "        text-align: right;\n",
       "    }\n",
       "</style>\n",
       "<table border=\"1\" class=\"dataframe\">\n",
       "  <thead>\n",
       "    <tr style=\"text-align: right;\">\n",
       "      <th></th>\n",
       "      <th>src</th>\n",
       "      <th>tar</th>\n",
       "    </tr>\n",
       "  </thead>\n",
       "  <tbody>\n",
       "    <tr>\n",
       "      <th>54972</th>\n",
       "      <td>Can you say that again?</td>\n",
       "      <td>\\t Pouvez-vous répéter cela ? \\n</td>\n",
       "    </tr>\n",
       "    <tr>\n",
       "      <th>58616</th>\n",
       "      <td>Most of these are mine.</td>\n",
       "      <td>\\t Il y en a la plupart à moi. \\n</td>\n",
       "    </tr>\n",
       "    <tr>\n",
       "      <th>5901</th>\n",
       "      <td>That's great!</td>\n",
       "      <td>\\t Super ! \\n</td>\n",
       "    </tr>\n",
       "    <tr>\n",
       "      <th>21069</th>\n",
       "      <td>Tom is effective.</td>\n",
       "      <td>\\t Tom est efficace. \\n</td>\n",
       "    </tr>\n",
       "    <tr>\n",
       "      <th>11396</th>\n",
       "      <td>Let me do this.</td>\n",
       "      <td>\\t Laissez-moi faire ça. \\n</td>\n",
       "    </tr>\n",
       "    <tr>\n",
       "      <th>17397</th>\n",
       "      <td>Are you a lawyer?</td>\n",
       "      <td>\\t Êtes-vous avocat ? \\n</td>\n",
       "    </tr>\n",
       "    <tr>\n",
       "      <th>25797</th>\n",
       "      <td>Sorry, I was busy.</td>\n",
       "      <td>\\t Désolé, j'étais occupé. \\n</td>\n",
       "    </tr>\n",
       "    <tr>\n",
       "      <th>689</th>\n",
       "      <td>I'm tidy.</td>\n",
       "      <td>\\t Je suis ordonné. \\n</td>\n",
       "    </tr>\n",
       "    <tr>\n",
       "      <th>32188</th>\n",
       "      <td>They must be happy.</td>\n",
       "      <td>\\t Ils sont heureux, sans aucun doute. \\n</td>\n",
       "    </tr>\n",
       "    <tr>\n",
       "      <th>3560</th>\n",
       "      <td>Is she gone?</td>\n",
       "      <td>\\t S'en est-elle allée ? \\n</td>\n",
       "    </tr>\n",
       "  </tbody>\n",
       "</table>\n",
       "</div>"
      ],
      "text/plain": [
       "                           src                                        tar\n",
       "54972  Can you say that again?           \\t Pouvez-vous répéter cela ? \\n\n",
       "58616  Most of these are mine.          \\t Il y en a la plupart à moi. \\n\n",
       "5901             That's great!                              \\t Super ! \\n\n",
       "21069        Tom is effective.                    \\t Tom est efficace. \\n\n",
       "11396          Let me do this.                \\t Laissez-moi faire ça. \\n\n",
       "17397        Are you a lawyer?                   \\t Êtes-vous avocat ? \\n\n",
       "25797       Sorry, I was busy.              \\t Désolé, j'étais occupé. \\n\n",
       "689                  I'm tidy.                     \\t Je suis ordonné. \\n\n",
       "32188      They must be happy.  \\t Ils sont heureux, sans aucun doute. \\n\n",
       "3560              Is she gone?                \\t S'en est-elle allée ? \\n"
      ]
     },
     "execution_count": 7,
     "metadata": {},
     "output_type": "execute_result"
    }
   ],
   "source": [
    "# 시작과 종료를 의미하는 <sos>와 <eos> 추가\n",
    "# 여기서는 \\t와 \\n을 각각 시작 종료 심볼로 간주\n",
    "lines.tar = lines.tar.apply(lambda x: '\\t ' + x + ' \\n')\n",
    "lines.sample(10)"
   ]
  },
  {
   "cell_type": "code",
   "execution_count": 8,
   "id": "d38e6e8f",
   "metadata": {
    "executionInfo": {
     "elapsed": 3353,
     "status": "ok",
     "timestamp": 1672279629725,
     "user": {
      "displayName": "신정열",
      "userId": "17568906488684043814"
     },
     "user_tz": -540
    },
    "id": "d38e6e8f"
   },
   "outputs": [],
   "source": [
    "# 문자 집합 생성\n",
    "src_vocab = set()\n",
    "for line in lines.src:\n",
    "    for char in line:\n",
    "        src_vocab.add(char)\n",
    "\n",
    "tar_vocab = set()\n",
    "for line in lines.tar:\n",
    "    for char in line:\n",
    "        tar_vocab.add(char)"
   ]
  },
  {
   "cell_type": "code",
   "execution_count": 9,
   "id": "d0be4fde",
   "metadata": {
    "colab": {
     "base_uri": "https://localhost:8080/"
    },
    "executionInfo": {
     "elapsed": 10,
     "status": "ok",
     "timestamp": 1672279629725,
     "user": {
      "displayName": "신정열",
      "userId": "17568906488684043814"
     },
     "user_tz": -540
    },
    "id": "d0be4fde",
    "outputId": "169aa0e0-f9df-410c-a9e1-2487e38b7786"
   },
   "outputs": [
    {
     "data": {
      "text/plain": [
       "(79, 105)"
      ]
     },
     "execution_count": 9,
     "metadata": {},
     "output_type": "execute_result"
    }
   ],
   "source": [
    "src_vocab_size = len(src_vocab) + 1 # padding때문에 1개 추가\n",
    "tar_vocab_size = len(tar_vocab) + 1 \n",
    "src_vocab_size, tar_vocab_size"
   ]
  },
  {
   "cell_type": "code",
   "execution_count": 10,
   "id": "4b4b6e61",
   "metadata": {
    "colab": {
     "base_uri": "https://localhost:8080/"
    },
    "executionInfo": {
     "elapsed": 9,
     "status": "ok",
     "timestamp": 1672279629726,
     "user": {
      "displayName": "신정열",
      "userId": "17568906488684043814"
     },
     "user_tz": -540
    },
    "id": "4b4b6e61",
    "outputId": "ca0e2a2f-33c7-4e05-e61f-d43385ecaf8b"
   },
   "outputs": [
    {
     "name": "stdout",
     "output_type": "stream",
     "text": [
      "{'T': 1, ':': 2, 'U': 3, 'D': 4, 'r': 5, 'h': 6, 'g': 7, '9': 8, 'a': 9, 'V': 10, 'l': 11, 'j': 12, '1': 13, 'P': 14, 'E': 15, 'z': 16, 'Z': 17, 'A': 18, 'L': 19, 'F': 20, 'f': 21, 'q': 22, '-': 23, 'n': 24, 'I': 25, '€': 26, 'b': 27, 'd': 28, '\"': 29, ' ': 30, 'p': 31, 'v': 32, '’': 33, 'w': 34, '3': 35, '%': 36, \"'\": 37, 'k': 38, 'G': 39, '?': 40, 'O': 41, 'R': 42, '.': 43, 't': 44, '8': 45, 'N': 46, '6': 47, 'C': 48, '/': 49, '2': 50, 'J': 51, 'S': 52, 'W': 53, 'K': 54, 'M': 55, 'c': 56, 'x': 57, '$': 58, 'u': 59, 'o': 60, 'Y': 61, '&': 62, '7': 63, 'Q': 64, 'i': 65, 's': 66, 'é': 67, '5': 68, 'y': 69, 'm': 70, ',': 71, 'H': 72, '!': 73, 'B': 74, 'e': 75, '4': 76, 'X': 77, '0': 78}\n",
      "{'T': 1, 'ë': 2, ':': 3, 'U': 4, 'D': 5, '»': 6, 'r': 7, 'h': 8, '\\xa0': 9, 'g': 10, '9': 11, 'a': 12, 'V': 13, 'l': 14, 'j': 15, '1': 16, 'P': 17, 'E': 18, 'z': 19, 'î': 20, 'Ô': 21, 'Z': 22, 'A': 23, 'ô': 24, ')': 25, 'L': 26, 'F': 27, 'f': 28, 'à': 29, '\\u2009': 30, 'è': 31, 'q': 32, '-': 33, 'Ê': 34, 'n': 35, 'I': 36, 'b': 37, 'd': 38, '\"': 39, ' ': 40, 'v': 41, 'p': 42, '’': 43, '‘': 44, 'w': 45, '3': 46, '\\t': 47, '\\u200b': 48, '%': 49, \"'\": 50, 'É': 51, '\\n': 52, 'k': 53, 'G': 54, '(': 55, '?': 56, '«': 57, 'â': 58, 'O': 59, 'R': 60, '.': 61, 't': 62, '8': 63, 'N': 64, '6': 65, 'ï': 66, 'ç': 67, 'C': 68, '2': 69, 'J': 70, 'S': 71, 'W': 72, 'K': 73, 'M': 74, 'c': 75, 'x': 76, '$': 77, 'û': 78, 'u': 79, 'o': 80, '&': 81, 'Q': 82, 'œ': 83, 'Y': 84, '7': 85, 'i': 86, 's': 87, 'é': 88, '5': 89, 'y': 90, 'Ç': 91, 'ê': 92, '\\u202f': 93, 'ù': 94, 'm': 95, ',': 96, 'H': 97, 'À': 98, '!': 99, 'B': 100, 'e': 101, '4': 102, 'X': 103, '0': 104}\n"
     ]
    }
   ],
   "source": [
    "src_to_index = dict([(word, i+1) for i, word in enumerate(src_vocab)])\n",
    "tar_to_index = dict([(word, i+1) for i, word in enumerate(tar_vocab)])\n",
    "print(src_to_index)\n",
    "print(tar_to_index)"
   ]
  },
  {
   "cell_type": "code",
   "execution_count": 11,
   "id": "497c026d",
   "metadata": {
    "colab": {
     "base_uri": "https://localhost:8080/"
    },
    "executionInfo": {
     "elapsed": 5,
     "status": "ok",
     "timestamp": 1672279629726,
     "user": {
      "displayName": "신정열",
      "userId": "17568906488684043814"
     },
     "user_tz": -540
    },
    "id": "497c026d",
    "outputId": "a78943b2-72b3-48b9-be5b-62ac7b68f24a"
   },
   "outputs": [
    {
     "data": {
      "text/plain": [
       "[[39, 60, 43], [39, 60, 43], [39, 60, 43], [39, 60, 43], [72, 65, 43]]"
      ]
     },
     "execution_count": 11,
     "metadata": {},
     "output_type": "execute_result"
    }
   ],
   "source": [
    "# integer encoding (encoder)\n",
    "encoder_input = []\n",
    "\n",
    "for line in lines.src:\n",
    "    encoded_line = []\n",
    "    for char in line:\n",
    "        encoded_line.append(src_to_index[char])\n",
    "    encoder_input.append(encoded_line)\n",
    "encoder_input[:5]"
   ]
  },
  {
   "cell_type": "code",
   "execution_count": 12,
   "id": "1d8732e9",
   "metadata": {
    "colab": {
     "base_uri": "https://localhost:8080/"
    },
    "executionInfo": {
     "elapsed": 593,
     "status": "ok",
     "timestamp": 1672279630316,
     "user": {
      "displayName": "신정열",
      "userId": "17568906488684043814"
     },
     "user_tz": -540
    },
    "id": "1d8732e9",
    "outputId": "7a41ba05-5465-4323-f28d-efbd7d5c727b"
   },
   "outputs": [
    {
     "data": {
      "text/plain": [
       "[[47, 40, 13, 12, 40, 99, 40, 52],\n",
       " [47, 40, 74, 12, 7, 75, 8, 101, 61, 40, 52],\n",
       " [47, 40, 18, 35, 40, 7, 80, 79, 62, 101, 40, 99, 40, 52],\n",
       " [47, 40, 100, 80, 79, 10, 101, 40, 99, 40, 52],\n",
       " [47, 40, 71, 12, 14, 79, 62, 40, 99, 40, 52]]"
      ]
     },
     "execution_count": 12,
     "metadata": {},
     "output_type": "execute_result"
    }
   ],
   "source": [
    "# decoder encoding (decoder)\n",
    "decoder_input = []\n",
    "for line in lines.tar:\n",
    "    decoded_line = []\n",
    "    for char in line:\n",
    "        decoded_line.append(tar_to_index[char])\n",
    "    decoder_input.append(decoded_line)\n",
    "decoder_input[:5]"
   ]
  },
  {
   "cell_type": "code",
   "execution_count": 13,
   "id": "f80e4d70",
   "metadata": {
    "colab": {
     "base_uri": "https://localhost:8080/"
    },
    "executionInfo": {
     "elapsed": 1001,
     "status": "ok",
     "timestamp": 1672279631315,
     "user": {
      "displayName": "신정열",
      "userId": "17568906488684043814"
     },
     "user_tz": -540
    },
    "id": "f80e4d70",
    "outputId": "04fb0ad1-1c8e-45c4-ef28-4e6bffc4309b"
   },
   "outputs": [
    {
     "data": {
      "text/plain": [
       "[[40, 13, 12, 40, 99, 40, 52],\n",
       " [40, 74, 12, 7, 75, 8, 101, 61, 40, 52],\n",
       " [40, 18, 35, 40, 7, 80, 79, 62, 101, 40, 99, 40, 52],\n",
       " [40, 100, 80, 79, 10, 101, 40, 99, 40, 52],\n",
       " [40, 71, 12, 14, 79, 62, 40, 99, 40, 52]]"
      ]
     },
     "execution_count": 13,
     "metadata": {},
     "output_type": "execute_result"
    }
   ],
   "source": [
    "# target data\n",
    "decoder_target = []\n",
    "for line in lines.tar:\n",
    "    timestep = 0\n",
    "    decoded_line = []\n",
    "    for char in line:\n",
    "        if timestep > 0:\n",
    "            decoded_line.append(tar_to_index[char])\n",
    "        timestep += 1\n",
    "    decoder_target.append(decoded_line)\n",
    "decoder_target[:5]"
   ]
  },
  {
   "cell_type": "code",
   "execution_count": 14,
   "id": "1221d56d",
   "metadata": {
    "colab": {
     "base_uri": "https://localhost:8080/"
    },
    "executionInfo": {
     "elapsed": 4,
     "status": "ok",
     "timestamp": 1672279631316,
     "user": {
      "displayName": "신정열",
      "userId": "17568906488684043814"
     },
     "user_tz": -540
    },
    "id": "1221d56d",
    "outputId": "4d5749c2-1694-462a-ca93-8acba4cbfc9a"
   },
   "outputs": [
    {
     "data": {
      "text/plain": [
       "(23, 76)"
      ]
     },
     "execution_count": 14,
     "metadata": {},
     "output_type": "execute_result"
    }
   ],
   "source": [
    "# padding\n",
    "max_src_len = max([len(line) for line in lines.src])\n",
    "max_tar_len = max([len(line) for line in lines.tar])\n",
    "max_src_len, max_tar_len"
   ]
  },
  {
   "cell_type": "code",
   "execution_count": 16,
   "id": "b737d0a7",
   "metadata": {
    "executionInfo": {
     "elapsed": 3268,
     "status": "ok",
     "timestamp": 1672279634582,
     "user": {
      "displayName": "신정열",
      "userId": "17568906488684043814"
     },
     "user_tz": -540
    },
    "id": "b737d0a7"
   },
   "outputs": [],
   "source": [
    "encoder_input = pad_sequences(encoder_input, maxlen=max_src_len, padding='post')\n",
    "decoder_input = pad_sequences(decoder_input, maxlen=max_tar_len, padding='post')\n",
    "decoder_target = pad_sequences(decoder_target, maxlen=max_tar_len, padding='post')"
   ]
  },
  {
   "cell_type": "code",
   "execution_count": 19,
   "id": "7bc35a20",
   "metadata": {},
   "outputs": [
    {
     "data": {
      "text/plain": [
       "array([47, 40, 13, 12, 40, 99, 40, 52,  0,  0,  0,  0,  0,  0,  0,  0,  0,\n",
       "        0,  0,  0,  0,  0,  0,  0,  0,  0,  0,  0,  0,  0,  0,  0,  0,  0,\n",
       "        0,  0,  0,  0,  0,  0,  0,  0,  0,  0,  0,  0,  0,  0,  0,  0,  0,\n",
       "        0,  0,  0,  0,  0,  0,  0,  0,  0,  0,  0,  0,  0,  0,  0,  0,  0,\n",
       "        0,  0,  0,  0,  0,  0,  0,  0])"
      ]
     },
     "execution_count": 19,
     "metadata": {},
     "output_type": "execute_result"
    }
   ],
   "source": [
    "decoder_input[0]"
   ]
  },
  {
   "cell_type": "code",
   "execution_count": 20,
   "id": "d14a38ce",
   "metadata": {},
   "outputs": [
    {
     "data": {
      "text/plain": [
       "array([40, 13, 12, 40, 99, 40, 52,  0,  0,  0,  0,  0,  0,  0,  0,  0,  0,\n",
       "        0,  0,  0,  0,  0,  0,  0,  0,  0,  0,  0,  0,  0,  0,  0,  0,  0,\n",
       "        0,  0,  0,  0,  0,  0,  0,  0,  0,  0,  0,  0,  0,  0,  0,  0,  0,\n",
       "        0,  0,  0,  0,  0,  0,  0,  0,  0,  0,  0,  0,  0,  0,  0,  0,  0,\n",
       "        0,  0,  0,  0,  0,  0,  0,  0])"
      ]
     },
     "execution_count": 20,
     "metadata": {},
     "output_type": "execute_result"
    }
   ],
   "source": [
    "decoder_target[0]"
   ]
  },
  {
   "cell_type": "code",
   "execution_count": 16,
   "id": "5cc8b1fd",
   "metadata": {
    "executionInfo": {
     "elapsed": 890,
     "status": "ok",
     "timestamp": 1672279635464,
     "user": {
      "displayName": "신정열",
      "userId": "17568906488684043814"
     },
     "user_tz": -540
    },
    "id": "5cc8b1fd"
   },
   "outputs": [],
   "source": [
    "encoder_input = to_categorical(encoder_input)\n",
    "decoder_input = to_categorical(decoder_input)\n",
    "decoder_target = to_categorical(decoder_target)"
   ]
  },
  {
   "cell_type": "code",
   "execution_count": 17,
   "id": "5ab0c560",
   "metadata": {
    "colab": {
     "base_uri": "https://localhost:8080/"
    },
    "executionInfo": {
     "elapsed": 8,
     "status": "ok",
     "timestamp": 1672279635464,
     "user": {
      "displayName": "신정열",
      "userId": "17568906488684043814"
     },
     "user_tz": -540
    },
    "id": "5ab0c560",
    "outputId": "a364a893-eda4-4a33-fc93-dd75d0e1b1c5"
   },
   "outputs": [
    {
     "data": {
      "text/plain": [
       "(60000, 23, 79)"
      ]
     },
     "execution_count": 17,
     "metadata": {},
     "output_type": "execute_result"
    }
   ],
   "source": [
    "encoder_input.shape"
   ]
  },
  {
   "cell_type": "code",
   "execution_count": 18,
   "id": "86c015ae",
   "metadata": {
    "colab": {
     "base_uri": "https://localhost:8080/"
    },
    "executionInfo": {
     "elapsed": 5,
     "status": "ok",
     "timestamp": 1672279635464,
     "user": {
      "displayName": "신정열",
      "userId": "17568906488684043814"
     },
     "user_tz": -540
    },
    "id": "86c015ae",
    "outputId": "ada24124-6ec3-4879-e2b6-1b974ee8aaa4"
   },
   "outputs": [
    {
     "data": {
      "text/plain": [
       "(60000, 76, 105)"
      ]
     },
     "execution_count": 18,
     "metadata": {},
     "output_type": "execute_result"
    }
   ],
   "source": [
    "decoder_input.shape"
   ]
  },
  {
   "cell_type": "code",
   "execution_count": 19,
   "id": "b77386c9",
   "metadata": {
    "colab": {
     "base_uri": "https://localhost:8080/"
    },
    "executionInfo": {
     "elapsed": 3,
     "status": "ok",
     "timestamp": 1672279635464,
     "user": {
      "displayName": "신정열",
      "userId": "17568906488684043814"
     },
     "user_tz": -540
    },
    "id": "b77386c9",
    "outputId": "ceb3483e-1612-4f79-d4eb-6eaf778a4e4b"
   },
   "outputs": [
    {
     "data": {
      "text/plain": [
       "(60000, 76, 105)"
      ]
     },
     "execution_count": 19,
     "metadata": {},
     "output_type": "execute_result"
    }
   ],
   "source": [
    "decoder_target.shape"
   ]
  },
  {
   "cell_type": "markdown",
   "id": "22f06a8a",
   "metadata": {
    "id": "22f06a8a"
   },
   "source": [
    "### training seq2seq model"
   ]
  },
  {
   "cell_type": "code",
   "execution_count": 20,
   "id": "c5c19e9f",
   "metadata": {
    "executionInfo": {
     "elapsed": 3,
     "status": "ok",
     "timestamp": 1672279635465,
     "user": {
      "displayName": "신정열",
      "userId": "17568906488684043814"
     },
     "user_tz": -540
    },
    "id": "c5c19e9f"
   },
   "outputs": [],
   "source": [
    "from tensorflow.keras.layers import Input, LSTM, Embedding, Dense\n",
    "from tensorflow.keras.models import Model\n",
    "import numpy as np"
   ]
  },
  {
   "cell_type": "code",
   "execution_count": 21,
   "id": "9592f128",
   "metadata": {
    "executionInfo": {
     "elapsed": 4258,
     "status": "ok",
     "timestamp": 1672279639721,
     "user": {
      "displayName": "신정열",
      "userId": "17568906488684043814"
     },
     "user_tz": -540
    },
    "id": "9592f128"
   },
   "outputs": [],
   "source": [
    "encoder_inputs = Input(shape=(None, src_vocab_size))\n",
    "encoder_lstm = LSTM(units=256, return_state=True)\n",
    "\n",
    "encoder_outputs, state_h, state_c = encoder_lstm(encoder_inputs)\n",
    "\n",
    "encoder_states = [state_h, state_c]"
   ]
  },
  {
   "cell_type": "code",
   "execution_count": 22,
   "id": "72ea3e84",
   "metadata": {
    "executionInfo": {
     "elapsed": 16,
     "status": "ok",
     "timestamp": 1672279639722,
     "user": {
      "displayName": "신정열",
      "userId": "17568906488684043814"
     },
     "user_tz": -540
    },
    "id": "72ea3e84"
   },
   "outputs": [],
   "source": [
    "decoder_inputs = Input(shape=(None, tar_vocab_size))\n",
    "decoder_lstm = LSTM(units=256, return_sequences=True, return_state=True)\n",
    "\n",
    "decoder_outputs, _, _ = decoder_lstm(decoder_inputs, initial_state=encoder_states)\n",
    "\n",
    "decoder_softmax_layer = Dense(tar_vocab_size, activation='softmax')\n",
    "decoder_outputs = decoder_softmax_layer(decoder_outputs)\n",
    "\n",
    "model = Model([encoder_inputs, decoder_inputs], decoder_outputs)\n",
    "model.compile(optimizer='rmsprop', loss='categorical_crossentropy')"
   ]
  },
  {
   "cell_type": "code",
   "execution_count": 23,
   "id": "25531e0b",
   "metadata": {
    "colab": {
     "base_uri": "https://localhost:8080/"
    },
    "executionInfo": {
     "elapsed": 552,
     "status": "ok",
     "timestamp": 1672279640259,
     "user": {
      "displayName": "신정열",
      "userId": "17568906488684043814"
     },
     "user_tz": -540
    },
    "id": "25531e0b",
    "outputId": "08a9f174-fde1-4258-e87b-f1ddc1bb4d02"
   },
   "outputs": [
    {
     "name": "stdout",
     "output_type": "stream",
     "text": [
      "Model: \"model\"\n",
      "__________________________________________________________________________________________________\n",
      " Layer (type)                   Output Shape         Param #     Connected to                     \n",
      "==================================================================================================\n",
      " input_1 (InputLayer)           [(None, None, 79)]   0           []                               \n",
      "                                                                                                  \n",
      " input_2 (InputLayer)           [(None, None, 105)]  0           []                               \n",
      "                                                                                                  \n",
      " lstm (LSTM)                    [(None, 256),        344064      ['input_1[0][0]']                \n",
      "                                 (None, 256),                                                     \n",
      "                                 (None, 256)]                                                     \n",
      "                                                                                                  \n",
      " lstm_1 (LSTM)                  [(None, None, 256),  370688      ['input_2[0][0]',                \n",
      "                                 (None, 256),                     'lstm[0][1]',                   \n",
      "                                 (None, 256)]                     'lstm[0][2]']                   \n",
      "                                                                                                  \n",
      " dense (Dense)                  (None, None, 105)    26985       ['lstm_1[0][0]']                 \n",
      "                                                                                                  \n",
      "==================================================================================================\n",
      "Total params: 741,737\n",
      "Trainable params: 741,737\n",
      "Non-trainable params: 0\n",
      "__________________________________________________________________________________________________\n"
     ]
    }
   ],
   "source": [
    "model.summary()"
   ]
  },
  {
   "cell_type": "code",
   "execution_count": 24,
   "id": "57222759",
   "metadata": {
    "colab": {
     "base_uri": "https://localhost:8080/"
    },
    "executionInfo": {
     "elapsed": 438329,
     "status": "ok",
     "timestamp": 1672280078587,
     "user": {
      "displayName": "신정열",
      "userId": "17568906488684043814"
     },
     "user_tz": -540
    },
    "id": "57222759",
    "outputId": "1c7f9381-a46b-4207-c355-b55a4d284155"
   },
   "outputs": [
    {
     "name": "stdout",
     "output_type": "stream",
     "text": [
      "Epoch 1/40\n",
      "750/750 [==============================] - 16s 16ms/step - loss: 0.7389 - val_loss: 0.6588\n",
      "Epoch 2/40\n",
      "750/750 [==============================] - 13s 18ms/step - loss: 0.4534 - val_loss: 0.5324\n",
      "Epoch 3/40\n",
      "750/750 [==============================] - 11s 14ms/step - loss: 0.3795 - val_loss: 0.4721\n",
      "Epoch 4/40\n",
      "750/750 [==============================] - 11s 14ms/step - loss: 0.3377 - val_loss: 0.4357\n",
      "Epoch 5/40\n",
      "750/750 [==============================] - 10s 14ms/step - loss: 0.3099 - val_loss: 0.4122\n",
      "Epoch 6/40\n",
      "750/750 [==============================] - 11s 14ms/step - loss: 0.2898 - val_loss: 0.3960\n",
      "Epoch 7/40\n",
      "750/750 [==============================] - 10s 14ms/step - loss: 0.2734 - val_loss: 0.3838\n",
      "Epoch 8/40\n",
      "750/750 [==============================] - 11s 14ms/step - loss: 0.2604 - val_loss: 0.3707\n",
      "Epoch 9/40\n",
      "750/750 [==============================] - 12s 16ms/step - loss: 0.2494 - val_loss: 0.3655\n",
      "Epoch 10/40\n",
      "750/750 [==============================] - 11s 15ms/step - loss: 0.2396 - val_loss: 0.3608\n",
      "Epoch 11/40\n",
      "750/750 [==============================] - 11s 15ms/step - loss: 0.2310 - val_loss: 0.3580\n",
      "Epoch 12/40\n",
      "750/750 [==============================] - 12s 16ms/step - loss: 0.2235 - val_loss: 0.3549\n",
      "Epoch 13/40\n",
      "750/750 [==============================] - 10s 14ms/step - loss: 0.2168 - val_loss: 0.3527\n",
      "Epoch 14/40\n",
      "750/750 [==============================] - 10s 14ms/step - loss: 0.2105 - val_loss: 0.3511\n",
      "Epoch 15/40\n",
      "750/750 [==============================] - 12s 16ms/step - loss: 0.2048 - val_loss: 0.3505\n",
      "Epoch 16/40\n",
      "750/750 [==============================] - 12s 15ms/step - loss: 0.1995 - val_loss: 0.3514\n",
      "Epoch 17/40\n",
      "750/750 [==============================] - 10s 14ms/step - loss: 0.1947 - val_loss: 0.3503\n",
      "Epoch 18/40\n",
      "750/750 [==============================] - 11s 15ms/step - loss: 0.1901 - val_loss: 0.3498\n",
      "Epoch 19/40\n",
      "750/750 [==============================] - 11s 15ms/step - loss: 0.1858 - val_loss: 0.3524\n",
      "Epoch 20/40\n",
      "750/750 [==============================] - 10s 14ms/step - loss: 0.1820 - val_loss: 0.3529\n",
      "Epoch 21/40\n",
      "750/750 [==============================] - 11s 15ms/step - loss: 0.1781 - val_loss: 0.3551\n",
      "Epoch 22/40\n",
      "750/750 [==============================] - 11s 15ms/step - loss: 0.1745 - val_loss: 0.3562\n",
      "Epoch 23/40\n",
      "750/750 [==============================] - 11s 14ms/step - loss: 0.1712 - val_loss: 0.3579\n",
      "Epoch 24/40\n",
      "750/750 [==============================] - 10s 14ms/step - loss: 0.1680 - val_loss: 0.3612\n",
      "Epoch 25/40\n",
      "750/750 [==============================] - 10s 14ms/step - loss: 0.1650 - val_loss: 0.3619\n",
      "Epoch 26/40\n",
      "750/750 [==============================] - 10s 14ms/step - loss: 0.1620 - val_loss: 0.3657\n",
      "Epoch 27/40\n",
      "750/750 [==============================] - 10s 14ms/step - loss: 0.1592 - val_loss: 0.3664\n",
      "Epoch 28/40\n",
      "750/750 [==============================] - 10s 14ms/step - loss: 0.1567 - val_loss: 0.3688\n",
      "Epoch 29/40\n",
      "750/750 [==============================] - 10s 14ms/step - loss: 0.1540 - val_loss: 0.3730\n",
      "Epoch 30/40\n",
      "750/750 [==============================] - 10s 14ms/step - loss: 0.1516 - val_loss: 0.3751\n",
      "Epoch 31/40\n",
      "750/750 [==============================] - 11s 14ms/step - loss: 0.1494 - val_loss: 0.3780\n",
      "Epoch 32/40\n",
      "750/750 [==============================] - 10s 14ms/step - loss: 0.1471 - val_loss: 0.3792\n",
      "Epoch 33/40\n",
      "750/750 [==============================] - 10s 14ms/step - loss: 0.1450 - val_loss: 0.3823\n",
      "Epoch 34/40\n",
      "750/750 [==============================] - 11s 15ms/step - loss: 0.1429 - val_loss: 0.3853\n",
      "Epoch 35/40\n",
      "750/750 [==============================] - 11s 15ms/step - loss: 0.1410 - val_loss: 0.3890\n",
      "Epoch 36/40\n",
      "750/750 [==============================] - 10s 14ms/step - loss: 0.1391 - val_loss: 0.3906\n",
      "Epoch 37/40\n",
      "750/750 [==============================] - 10s 14ms/step - loss: 0.1372 - val_loss: 0.3946\n",
      "Epoch 38/40\n",
      "750/750 [==============================] - 10s 14ms/step - loss: 0.1355 - val_loss: 0.3959\n",
      "Epoch 39/40\n",
      "750/750 [==============================] - 10s 14ms/step - loss: 0.1338 - val_loss: 0.4002\n",
      "Epoch 40/40\n",
      "750/750 [==============================] - 10s 14ms/step - loss: 0.1322 - val_loss: 0.4017\n"
     ]
    },
    {
     "data": {
      "text/plain": [
       "<keras.callbacks.History at 0x7f55682b0cd0>"
      ]
     },
     "execution_count": 24,
     "metadata": {},
     "output_type": "execute_result"
    }
   ],
   "source": [
    "model.fit(x=[encoder_input, decoder_input], y=decoder_target, batch_size=64,\n",
    "         epochs=40, validation_split=0.2)"
   ]
  },
  {
   "cell_type": "code",
   "execution_count": 25,
   "id": "UIWEuy6ik_hr",
   "metadata": {
    "colab": {
     "base_uri": "https://localhost:8080/"
    },
    "executionInfo": {
     "elapsed": 7569,
     "status": "ok",
     "timestamp": 1672280086145,
     "user": {
      "displayName": "신정열",
      "userId": "17568906488684043814"
     },
     "user_tz": -540
    },
    "id": "UIWEuy6ik_hr",
    "outputId": "a2eb1463-a98a-4c64-9467-55f3b9aee92c"
   },
   "outputs": [
    {
     "name": "stderr",
     "output_type": "stream",
     "text": [
      "WARNING:absl:Found untraced functions such as lstm_cell_layer_call_fn, lstm_cell_layer_call_and_return_conditional_losses, lstm_cell_1_layer_call_fn, lstm_cell_1_layer_call_and_return_conditional_losses while saving (showing 4 of 4). These functions will not be directly callable after loading.\n"
     ]
    }
   ],
   "source": [
    "model_dir = data_dir / 'weights'\n",
    "model.save(model_dir)"
   ]
  },
  {
   "cell_type": "markdown",
   "id": "6fd2b7a3",
   "metadata": {
    "id": "6fd2b7a3"
   },
   "source": [
    "### seq2seq 동작\n",
    "- 매 시점마다 이전 시점의 예측과 상태를 입력으로 사용\n",
    "- <eos> 또는 최대길이 도달할 경우 반복 멈춤"
   ]
  },
  {
   "cell_type": "code",
   "execution_count": 26,
   "id": "6c323352",
   "metadata": {
    "executionInfo": {
     "elapsed": 21,
     "status": "ok",
     "timestamp": 1672280086146,
     "user": {
      "displayName": "신정열",
      "userId": "17568906488684043814"
     },
     "user_tz": -540
    },
    "id": "6c323352"
   },
   "outputs": [],
   "source": [
    "encoder_model = Model(inputs=encoder_inputs, outputs=encoder_states)"
   ]
  },
  {
   "cell_type": "code",
   "execution_count": 27,
   "id": "6rJNO-bTTNlw",
   "metadata": {
    "executionInfo": {
     "elapsed": 19,
     "status": "ok",
     "timestamp": 1672280086146,
     "user": {
      "displayName": "신정열",
      "userId": "17568906488684043814"
     },
     "user_tz": -540
    },
    "id": "6rJNO-bTTNlw"
   },
   "outputs": [],
   "source": [
    "decoder_state_input_h = Input(shape=(256,))\n",
    "decoder_state_input_c = Input(shape=(256,))\n",
    "decoder_states_inputs = [decoder_state_input_h, decoder_state_input_c]\n",
    "\n",
    "decoder_outputs, state_h, state_c = decoder_lstm(decoder_inputs, initial_state=decoder_states_inputs)\n",
    "\n",
    "decoder_states = [state_h, state_c]\n",
    "decoder_outputs = decoder_softmax_layer(decoder_outputs)\n",
    "decoder_model = Model(inputs=[decoder_inputs] + decoder_states_inputs, outputs=[decoder_outputs] + decoder_states)"
   ]
  },
  {
   "cell_type": "code",
   "execution_count": 28,
   "id": "Wv6lX0OmZ8yU",
   "metadata": {
    "executionInfo": {
     "elapsed": 20,
     "status": "ok",
     "timestamp": 1672280086147,
     "user": {
      "displayName": "신정열",
      "userId": "17568906488684043814"
     },
     "user_tz": -540
    },
    "id": "Wv6lX0OmZ8yU"
   },
   "outputs": [],
   "source": [
    "index_to_src = dict((i, char) for char, i in src_to_index.items())\n",
    "index_to_tar = dict((i, char) for char, i in tar_to_index.items())"
   ]
  },
  {
   "cell_type": "code",
   "execution_count": 36,
   "id": "zlBWbUlma0Yc",
   "metadata": {
    "executionInfo": {
     "elapsed": 942,
     "status": "ok",
     "timestamp": 1672280448482,
     "user": {
      "displayName": "신정열",
      "userId": "17568906488684043814"
     },
     "user_tz": -540
    },
    "id": "zlBWbUlma0Yc"
   },
   "outputs": [],
   "source": [
    "def decode_sequence(input_seq):\n",
    "    states_value = encoder_model.predict(input_seq, verbose=0)\n",
    "    \n",
    "    target_seq = np.zeros((1, 1, tar_vocab_size))\n",
    "    target_seq[0, 0, tar_to_index['\\t']] = 1\n",
    "\n",
    "    stop_condition = False\n",
    "    decoded_sentence = \"\"\n",
    "\n",
    "    while not stop_condition:\n",
    "        output_tokens, h, c = decoder_model.predict([target_seq] + states_value)\n",
    "        sampled_token_index = np.argmax(output_tokens[0, -1, :])\n",
    "        sampled_char = index_to_tar[sampled_token_index]\n",
    "\n",
    "        decoded_sentence += sampled_char\n",
    "\n",
    "        if sampled_char == '\\n' or len(decoded_sentence) > max_tar_len:\n",
    "            stop_condition = True\n",
    "        \n",
    "        target_seq = np.zeros((1, 1, tar_vocab_size))\n",
    "        target_seq[0, 0, sampled_token_index] = 1.\n",
    "\n",
    "        states_value = [h, c]\n",
    "    \n",
    "    return decoded_sentence"
   ]
  },
  {
   "cell_type": "code",
   "execution_count": 37,
   "id": "0DdWGF4JnaX1",
   "metadata": {
    "colab": {
     "base_uri": "https://localhost:8080/"
    },
    "executionInfo": {
     "elapsed": 3528,
     "status": "ok",
     "timestamp": 1672280453978,
     "user": {
      "displayName": "신정열",
      "userId": "17568906488684043814"
     },
     "user_tz": -540
    },
    "id": "0DdWGF4JnaX1",
    "outputId": "eb3483f0-30ee-4bc4-b993-dd506485167c"
   },
   "outputs": [
    {
     "name": "stdout",
     "output_type": "stream",
     "text": [
      "1/1 [==============================] - 0s 16ms/step\n",
      "1/1 [==============================] - 0s 18ms/step\n",
      "1/1 [==============================] - 0s 19ms/step\n",
      "1/1 [==============================] - 0s 14ms/step\n",
      "1/1 [==============================] - 0s 15ms/step\n",
      "1/1 [==============================] - 0s 16ms/step\n",
      "1/1 [==============================] - 0s 15ms/step\n",
      "-----------------------------------\n",
      "입력문장:  Go.\n",
      "정답문장:  Bouge ! \n",
      "번역문장:  Va ! \n",
      "1/1 [==============================] - 0s 16ms/step\n",
      "1/1 [==============================] - 0s 17ms/step\n",
      "1/1 [==============================] - 0s 18ms/step\n",
      "1/1 [==============================] - 0s 16ms/step\n",
      "1/1 [==============================] - 0s 15ms/step\n",
      "1/1 [==============================] - 0s 17ms/step\n",
      "1/1 [==============================] - 0s 15ms/step\n",
      "1/1 [==============================] - 0s 18ms/step\n",
      "1/1 [==============================] - 0s 16ms/step\n",
      "1/1 [==============================] - 0s 18ms/step\n",
      "-----------------------------------\n",
      "입력문장:  Hello!\n",
      "정답문장:  Bonjour ! \n",
      "번역문장:  Salut ! \n",
      "1/1 [==============================] - 0s 17ms/step\n",
      "1/1 [==============================] - 0s 20ms/step\n",
      "1/1 [==============================] - 0s 16ms/step\n",
      "1/1 [==============================] - 0s 15ms/step\n",
      "1/1 [==============================] - 0s 16ms/step\n",
      "1/1 [==============================] - 0s 15ms/step\n",
      "1/1 [==============================] - 0s 19ms/step\n",
      "1/1 [==============================] - 0s 15ms/step\n",
      "1/1 [==============================] - 0s 16ms/step\n",
      "1/1 [==============================] - 0s 17ms/step\n",
      "1/1 [==============================] - 0s 16ms/step\n",
      "1/1 [==============================] - 0s 15ms/step\n",
      "1/1 [==============================] - 0s 18ms/step\n",
      "-----------------------------------\n",
      "입력문장:  Got it?\n",
      "정답문장:  T'as capté ? \n",
      "번역문장:  Pours-im ! \n",
      "1/1 [==============================] - 0s 14ms/step\n",
      "1/1 [==============================] - 0s 21ms/step\n",
      "1/1 [==============================] - 0s 17ms/step\n",
      "1/1 [==============================] - 0s 16ms/step\n",
      "1/1 [==============================] - 0s 15ms/step\n",
      "1/1 [==============================] - 0s 15ms/step\n",
      "1/1 [==============================] - 0s 16ms/step\n",
      "1/1 [==============================] - 0s 15ms/step\n",
      "1/1 [==============================] - 0s 17ms/step\n",
      "1/1 [==============================] - 0s 15ms/step\n",
      "1/1 [==============================] - 0s 17ms/step\n",
      "1/1 [==============================] - 0s 20ms/step\n",
      "-----------------------------------\n",
      "입력문장:  Hang on.\n",
      "정답문장:  Tiens bon ! \n",
      "번역문장:  Attendez. \n",
      "1/1 [==============================] - 0s 17ms/step\n",
      "1/1 [==============================] - 0s 17ms/step\n",
      "1/1 [==============================] - 0s 15ms/step\n",
      "1/1 [==============================] - 0s 17ms/step\n",
      "1/1 [==============================] - 0s 17ms/step\n",
      "1/1 [==============================] - 0s 17ms/step\n",
      "1/1 [==============================] - 0s 15ms/step\n",
      "1/1 [==============================] - 0s 16ms/step\n",
      "1/1 [==============================] - 0s 16ms/step\n",
      "1/1 [==============================] - 0s 15ms/step\n",
      "1/1 [==============================] - 0s 15ms/step\n",
      "1/1 [==============================] - 0s 16ms/step\n",
      "1/1 [==============================] - 0s 16ms/step\n",
      "1/1 [==============================] - 0s 20ms/step\n",
      "1/1 [==============================] - 0s 20ms/step\n",
      "1/1 [==============================] - 0s 17ms/step\n",
      "1/1 [==============================] - 0s 19ms/step\n",
      "1/1 [==============================] - 0s 16ms/step\n",
      "-----------------------------------\n",
      "입력문장:  Here's $5.\n",
      "정답문장:  Voilà cinq dollars. \n",
      "번역문장:  Voilà conferme. \n"
     ]
    }
   ],
   "source": [
    "from IPython.utils.py3compat import decode\n",
    "for seq_index in [3, 50, 100, 300, 1001]:\n",
    "    input_seq = encoder_input[seq_index:seq_index+1]\n",
    "    decoded_sentence = decode_sequence(input_seq)\n",
    "\n",
    "    print(35*'-')\n",
    "    print('입력문장: ', lines.src[seq_index])\n",
    "    print('정답문장: ', lines.tar[seq_index][2: len(lines.tar[seq_index])-1])\n",
    "    print('번역문장: ', decoded_sentence[1:len(decoded_sentence)-1])"
   ]
  },
  {
   "cell_type": "markdown",
   "id": "f9ed7bcb",
   "metadata": {
    "id": "2Se27Sznqv5E"
   },
   "source": [
    "## Word-Level Neural Machine Translation"
   ]
  },
  {
   "cell_type": "markdown",
   "id": "ab2c254c",
   "metadata": {},
   "source": [
    "### 데이터로드 및 전처리"
   ]
  },
  {
   "cell_type": "code",
   "execution_count": 1,
   "id": "7a3f3c1c",
   "metadata": {},
   "outputs": [],
   "source": [
    "import os\n",
    "import re\n",
    "import shutil\n",
    "import zipfile\n",
    "\n",
    "import numpy as np\n",
    "import pandas as pd\n",
    "import tensorflow as tf\n",
    "import unicodedata\n",
    "import urllib3\n",
    "from tensorflow.keras.layers import Embedding, GRU, Dense\n",
    "from tensorflow.keras.preprocessing.sequence import pad_sequences\n",
    "from tensorflow.keras.preprocessing.text import Tokenizer"
   ]
  },
  {
   "cell_type": "code",
   "execution_count": 2,
   "id": "aca633e3",
   "metadata": {},
   "outputs": [
    {
     "data": {
      "text/plain": [
       "(197463, 2)"
      ]
     },
     "execution_count": 2,
     "metadata": {},
     "output_type": "execute_result"
    }
   ],
   "source": [
    "from pathlib import Path\n",
    "# data_dir = Path('/content/drive/MyDrive/Colab Notebooks')\n",
    "data_dir = Path('C:/Users/011/sinjy1203/data')\n",
    "lines = pd.read_csv(data_dir / 'fra.txt', names=['src', 'tar', 'lic'], sep='\\t')\n",
    "del lines['lic']\n",
    "lines.shape"
   ]
  },
  {
   "cell_type": "code",
   "execution_count": 3,
   "id": "3594c9c1",
   "metadata": {},
   "outputs": [],
   "source": [
    "num_samples = 33000"
   ]
  },
  {
   "cell_type": "code",
   "execution_count": 4,
   "id": "28d43245",
   "metadata": {},
   "outputs": [],
   "source": [
    "## preprocess func\n",
    "# 프랑스 악센트 제거\n",
    "def to_ascii(s):\n",
    "    return ''.join(c for c in unicodedata.normalize('NFD', s) if unicodedata.category(c) != 'Mn')\n",
    "\n",
    "# 악센트 제거, 구두점등을 처리\n",
    "def preprocess_sentence(sent):\n",
    "    sent = to_ascii(sent.lower())\n",
    "    sent = re.sub(r\"([?.!,¿])\", r\" \\1\", sent)\n",
    "    sent = re.sub(r\"[^a-zA-Z!.?]+\", r\" \", sent)\n",
    "    sent = re.sub(r\"\\s+\", \" \", sent)\n",
    "    return sent"
   ]
  },
  {
   "cell_type": "code",
   "execution_count": 5,
   "id": "66db9017",
   "metadata": {},
   "outputs": [],
   "source": [
    "## 시작토큰 <sos>, 종료 토큰 <eos> 추가\n",
    "def load_preprocessed_data():\n",
    "    encoder_input, decoder_input, decoder_target = [], [], []\n",
    "    \n",
    "    with open(data_dir / 'fra.txt', 'r', encoding='UTF8') as lines:\n",
    "        for i, line in enumerate(lines):\n",
    "            src_line, tar_line, _ = line.strip().split('\\t')\n",
    "            src_line = [w for w in preprocess_sentence(src_line).split()]\n",
    "            \n",
    "            tar_line = preprocess_sentence(tar_line)\n",
    "            tar_line_in = [w for w in (\"<sos> \" + tar_line).split()]\n",
    "            tar_line_out = [w for w in (tar_line + ' <eos>').split()]\n",
    "            \n",
    "            encoder_input.append(src_line)\n",
    "            decoder_input.append(tar_line_in)\n",
    "            decoder_target.append(tar_line_out)\n",
    "            \n",
    "            if i == num_samples - 1:\n",
    "                break\n",
    "    \n",
    "    return encoder_input, decoder_input, decoder_target"
   ]
  },
  {
   "cell_type": "code",
   "execution_count": 6,
   "id": "4fef53d9",
   "metadata": {},
   "outputs": [],
   "source": [
    "sents_en_in, sents_fra_in, sents_fra_out = load_preprocessed_data()"
   ]
  },
  {
   "cell_type": "code",
   "execution_count": 7,
   "id": "75e2498e",
   "metadata": {},
   "outputs": [
    {
     "data": {
      "text/plain": [
       "[['go', '.'], ['go', '.'], ['go', '.'], ['go', '.'], ['hi', '.']]"
      ]
     },
     "execution_count": 7,
     "metadata": {},
     "output_type": "execute_result"
    }
   ],
   "source": [
    "sents_en_in[:5]"
   ]
  },
  {
   "cell_type": "code",
   "execution_count": 8,
   "id": "6b1f1436",
   "metadata": {},
   "outputs": [
    {
     "data": {
      "text/plain": [
       "[['<sos>', 'va', '!'],\n",
       " ['<sos>', 'marche', '.'],\n",
       " ['<sos>', 'en', 'route', '!'],\n",
       " ['<sos>', 'bouge', '!'],\n",
       " ['<sos>', 'salut', '!']]"
      ]
     },
     "execution_count": 8,
     "metadata": {},
     "output_type": "execute_result"
    }
   ],
   "source": [
    "sents_fra_in[:5]"
   ]
  },
  {
   "cell_type": "code",
   "execution_count": 9,
   "id": "a87d029a",
   "metadata": {},
   "outputs": [
    {
     "data": {
      "text/plain": [
       "[['va', '!', '<eos>'],\n",
       " ['marche', '.', '<eos>'],\n",
       " ['en', 'route', '!', '<eos>'],\n",
       " ['bouge', '!', '<eos>'],\n",
       " ['salut', '!', '<eos>']]"
      ]
     },
     "execution_count": 9,
     "metadata": {},
     "output_type": "execute_result"
    }
   ],
   "source": [
    "sents_fra_out[:5]"
   ]
  },
  {
   "cell_type": "code",
   "execution_count": 10,
   "id": "3a1713cf",
   "metadata": {},
   "outputs": [],
   "source": [
    "## tokenizer(정수 인코딩), padding\n",
    "tokenizer_en = Tokenizer(filters='', lower=False)\n",
    "tokenizer_en.fit_on_texts(sents_en_in)\n",
    "encoder_input = tokenizer_en.texts_to_sequences(sents_en_in)\n",
    "encoder_input = pad_sequences(encoder_input, padding='post')\n",
    "\n",
    "tokenizer_fra = Tokenizer(filters=\"\", lower=False)\n",
    "tokenizer_fra.fit_on_texts(sents_fra_in)\n",
    "tokenizer_fra.fit_on_texts(sents_fra_out)\n",
    "\n",
    "decoder_input = tokenizer_fra.texts_to_sequences(sents_fra_in)\n",
    "decoder_input = pad_sequences(decoder_input, padding='post')\n",
    "\n",
    "decoder_target = tokenizer_fra.texts_to_sequences(sents_fra_out)\n",
    "decoder_target = pad_sequences(decoder_target, padding='post')"
   ]
  },
  {
   "cell_type": "code",
   "execution_count": 11,
   "id": "8a913696",
   "metadata": {},
   "outputs": [
    {
     "data": {
      "text/plain": [
       "(33000, 8)"
      ]
     },
     "execution_count": 11,
     "metadata": {},
     "output_type": "execute_result"
    }
   ],
   "source": [
    "encoder_input.shape"
   ]
  },
  {
   "cell_type": "code",
   "execution_count": 12,
   "id": "ee07e7b8",
   "metadata": {},
   "outputs": [
    {
     "data": {
      "text/plain": [
       "(33000, 16)"
      ]
     },
     "execution_count": 12,
     "metadata": {},
     "output_type": "execute_result"
    }
   ],
   "source": [
    "decoder_input.shape"
   ]
  },
  {
   "cell_type": "code",
   "execution_count": 13,
   "id": "c0297ce7",
   "metadata": {},
   "outputs": [
    {
     "data": {
      "text/plain": [
       "(33000, 16)"
      ]
     },
     "execution_count": 13,
     "metadata": {},
     "output_type": "execute_result"
    }
   ],
   "source": [
    "decoder_target.shape"
   ]
  },
  {
   "cell_type": "code",
   "execution_count": 14,
   "id": "af02e6d3",
   "metadata": {},
   "outputs": [
    {
     "name": "stdout",
     "output_type": "stream",
     "text": [
      "4672 8137\n"
     ]
    }
   ],
   "source": [
    "src_vocab_size = len(tokenizer_en.word_index) + 1\n",
    "tar_vocab_size = len(tokenizer_fra.word_index) + 1\n",
    "print(src_vocab_size, tar_vocab_size)"
   ]
  },
  {
   "cell_type": "code",
   "execution_count": 15,
   "id": "488737b8",
   "metadata": {},
   "outputs": [],
   "source": [
    "src_to_index = tokenizer_en.word_index\n",
    "index_to_src = tokenizer_en.index_word\n",
    "tar_to_index = tokenizer_fra.word_index\n",
    "index_to_tar = tokenizer_fra.index_word"
   ]
  },
  {
   "cell_type": "markdown",
   "id": "7347e9bb",
   "metadata": {},
   "source": [
    "### shuffle & train test split"
   ]
  },
  {
   "cell_type": "code",
   "execution_count": 16,
   "id": "f9973629",
   "metadata": {},
   "outputs": [
    {
     "data": {
      "text/plain": [
       "array([ 4867, 16711,  4496, ..., 18883,  3424, 13275])"
      ]
     },
     "execution_count": 16,
     "metadata": {},
     "output_type": "execute_result"
    }
   ],
   "source": [
    "## indices shuffle\n",
    "indices = np.arange(encoder_input.shape[0])\n",
    "np.random.shuffle(indices)\n",
    "indices"
   ]
  },
  {
   "cell_type": "code",
   "execution_count": 17,
   "id": "c484f56a",
   "metadata": {},
   "outputs": [],
   "source": [
    "encoder_input = encoder_input[indices]\n",
    "decoder_input = decoder_input[indices]\n",
    "decoder_target = decoder_target[indices]"
   ]
  },
  {
   "cell_type": "code",
   "execution_count": 18,
   "id": "96349e52",
   "metadata": {},
   "outputs": [
    {
     "data": {
      "text/plain": [
       "array([ 20, 211,  96,   1,   0,   0,   0,   0])"
      ]
     },
     "execution_count": 18,
     "metadata": {},
     "output_type": "execute_result"
    }
   ],
   "source": [
    "encoder_input[30997]"
   ]
  },
  {
   "cell_type": "code",
   "execution_count": 19,
   "id": "aceff117",
   "metadata": {},
   "outputs": [
    {
     "data": {
      "text/plain": [
       "array([  2,  40, 978,  81,  33, 142,   1,   0,   0,   0,   0,   0,   0,\n",
       "         0,   0,   0])"
      ]
     },
     "execution_count": 19,
     "metadata": {},
     "output_type": "execute_result"
    }
   ],
   "source": [
    "decoder_input[30997]"
   ]
  },
  {
   "cell_type": "code",
   "execution_count": 22,
   "id": "68d43a09",
   "metadata": {},
   "outputs": [
    {
     "data": {
      "text/plain": [
       "array([ 40, 978,  81,  33, 142,   1,   0,   0,   0,   0,   0,   0,   0,\n",
       "         0,   0])"
      ]
     },
     "execution_count": 22,
     "metadata": {},
     "output_type": "execute_result"
    }
   ],
   "source": [
    "decoder_input[30997][1:]"
   ]
  },
  {
   "cell_type": "code",
   "execution_count": 23,
   "id": "dac8e5eb",
   "metadata": {},
   "outputs": [
    {
     "data": {
      "text/plain": [
       "array([ 40, 978,  81,  33, 142,   1,   3,   0,   0,   0,   0,   0,   0,\n",
       "         0,   0])"
      ]
     },
     "execution_count": 23,
     "metadata": {},
     "output_type": "execute_result"
    }
   ],
   "source": [
    "decoder_target[30997][:-1]"
   ]
  },
  {
   "cell_type": "code",
   "execution_count": 24,
   "id": "c71e5379",
   "metadata": {},
   "outputs": [],
   "source": [
    "## 0.2% test split\n",
    "n_of_val = int(33000*0.1)\n",
    "\n",
    "encoder_input_train = encoder_input[:-n_of_val]\n",
    "decoder_input_train = decoder_input[:-n_of_val]\n",
    "decoder_target_train = decoder_target[:-n_of_val]\n",
    "\n",
    "encoder_input_test = encoder_input[-n_of_val:]\n",
    "decoder_input_test = decoder_input[-n_of_val:]\n",
    "decoder_target_test = decoder_target[-n_of_val:]"
   ]
  },
  {
   "cell_type": "code",
   "execution_count": 25,
   "id": "ffa6177d",
   "metadata": {},
   "outputs": [
    {
     "data": {
      "text/plain": [
       "(29700, 8)"
      ]
     },
     "execution_count": 25,
     "metadata": {},
     "output_type": "execute_result"
    }
   ],
   "source": [
    "encoder_input_train.shape"
   ]
  },
  {
   "cell_type": "markdown",
   "id": "e248569f",
   "metadata": {},
   "source": [
    "### modeling"
   ]
  },
  {
   "cell_type": "code",
   "execution_count": 26,
   "id": "ddb1474c",
   "metadata": {},
   "outputs": [],
   "source": [
    "from tensorflow.keras.layers import Input, LSTM, Embedding, Dense, Masking\n",
    "from tensorflow.keras.models import Model"
   ]
  },
  {
   "cell_type": "markdown",
   "id": "768806ff",
   "metadata": {},
   "source": [
    "**masking**: mask_value(padding_value)를 연산에 제외하는 역할"
   ]
  },
  {
   "cell_type": "code",
   "execution_count": 28,
   "id": "91cb02bd",
   "metadata": {},
   "outputs": [],
   "source": [
    "embedding_dim = 64\n",
    "hidden_units = 64\n",
    "\n",
    "## 인코더\n",
    "encoder_inputs = Input(shape=(None,))\n",
    "enc_emb = Embedding(src_vocab_size, embedding_dim)(encoder_inputs)\n",
    "enc_masking = Masking(mask_value=0.0)(enc_emb)\n",
    "\n",
    "encoder_lstm = LSTM(hidden_units, return_state=True)\n",
    "encoder_outputs, state_h, state_c = encoder_lstm(enc_masking)\n",
    "\n",
    "encoder_states = [state_h, state_c]"
   ]
  },
  {
   "cell_type": "code",
   "execution_count": 31,
   "id": "6f0cd915",
   "metadata": {},
   "outputs": [],
   "source": [
    "## 디코더\n",
    "decoder_inputs = Input(shape=(None,))\n",
    "dec_emb_layer = Embedding(tar_vocab_size, hidden_units)\n",
    "dec_emb = dec_emb_layer(decoder_inputs)\n",
    "dec_masking = Masking(mask_value=0.0)(dec_emb)\n",
    "\n",
    "decoder_lstm = LSTM(hidden_units, return_sequences=True, return_state=True)\n",
    "\n",
    "decoder_outputs, _, _ = decoder_lstm(dec_masking, \n",
    "                                   initial_state=encoder_states)\n",
    "\n",
    "decoder_dense = Dense(tar_vocab_size, activation='softmax')\n",
    "\n",
    "model = Model([encoder_inputs, decoder_inputs], decoder_outputs)\n",
    "model.compile(optimizer='adam', loss='sparse_categorical_crossentropy', \n",
    "              metrics=['acc'])"
   ]
  },
  {
   "cell_type": "code",
   "execution_count": null,
   "id": "0ab45974",
   "metadata": {},
   "outputs": [],
   "source": [
    "model.fit(x=[encoder_input_train, decoder_input_train], y=decoder_target_train, \n",
    "         validation_data=([encoder_input_test, decoder_input_test], \n",
    "                         decoder_target_test), \n",
    "         batch_size=128, epochs=50)"
   ]
  }
 ],
 "metadata": {
  "accelerator": "GPU",
  "colab": {
   "provenance": []
  },
  "gpuClass": "standard",
  "kernelspec": {
   "display_name": "machine-learning",
   "language": "python",
   "name": "machine-learning"
  },
  "language_info": {
   "codemirror_mode": {
    "name": "ipython",
    "version": 3
   },
   "file_extension": ".py",
   "mimetype": "text/x-python",
   "name": "python",
   "nbconvert_exporter": "python",
   "pygments_lexer": "ipython3",
   "version": "3.7.15"
  }
 },
 "nbformat": 4,
 "nbformat_minor": 5
}
