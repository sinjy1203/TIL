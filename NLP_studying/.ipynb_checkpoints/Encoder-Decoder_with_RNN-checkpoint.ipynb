{
 "cells": [
  {
   "cell_type": "markdown",
   "id": "526e2ac9",
   "metadata": {
    "id": "526e2ac9"
   },
   "source": [
    "# RNN을 이용한 인코더-디코더\n",
    "- 번역기, 텍스트 요약에 활용"
   ]
  },
  {
   "cell_type": "markdown",
   "id": "fa182f54",
   "metadata": {
    "id": "fa182f54"
   },
   "source": [
    "## Sequence-to-Sequence\n",
    "- 챗봇, 기계번역, 내용요약, stt(Speech to Text)\n",
    "\n",
    "![](https://wikidocs.net/images/page/24996/%EB%8B%A8%EC%96%B4%ED%86%A0%ED%81%B0%EB%93%A4%EC%9D%B4.PNG)\n",
    "1. 인코더 RNN 마지막 시점의 은닉상태가 **컨텍스트 벡터**\n",
    "2. 컨텍스트 벡터는 디코더 RNN 첫번째 시점의 은닉상태에 사용\n",
    "3. 디코더는 RNNLM(다음 시점의 단어를 예측하는 모델)\n",
    "4. 훈련과정에서는 기존 정답을 RNN의 인풋으로 사용\n",
    "5. 테스트과정에서는 전시점의 RNN의 예측을 다음 시점의 인풋으로 사용"
   ]
  },
  {
   "cell_type": "markdown",
   "id": "15e653d7",
   "metadata": {
    "id": "15e653d7"
   },
   "source": [
    "### 교사 강요(Teacher forcing)\n",
    "- 이전 디코더셀의 출력을 현재 디코더셀의 입력으로 활용 (예측시)\n",
    "- 이전 시점의 실제값을 현재 디코더셀의 입력으로 활용 (훈련시, 교사강요)\n",
    "- 이전 예측이 틀려서 다음 셀의 예측의 영향을 주는 것을 막기 위한 전략"
   ]
  },
  {
   "cell_type": "markdown",
   "id": "e5f18097",
   "metadata": {
    "id": "e5f18097"
   },
   "source": [
    "## Character-Level Neural Machine Translation (실습)"
   ]
  },
  {
   "cell_type": "markdown",
   "id": "adb82a9a",
   "metadata": {
    "id": "adb82a9a"
   },
   "source": [
    "### 병렬 코퍼스 데이터에 대한 전처리"
   ]
  },
  {
   "cell_type": "code",
   "execution_count": null,
   "id": "cdc3b78c",
   "metadata": {
    "id": "cdc3b78c"
   },
   "outputs": [],
   "source": [
    "import os\n",
    "import shutil\n",
    "import zipfile\n",
    "from pathlib import Path\n",
    "\n",
    "import pandas as pd\n",
    "import tensorflow as tf\n",
    "import urllib3\n",
    "from tensorflow.keras.preprocessing.sequence import pad_sequences\n",
    "from tensorflow.keras.utils import to_categorical\n",
    "from pathlib import Path"
   ]
  },
  {
   "cell_type": "code",
   "execution_count": null,
   "id": "spFsvdSxQNXN",
   "metadata": {
    "id": "spFsvdSxQNXN"
   },
   "outputs": [],
   "source": [
    "# from google.colab import drive\n",
    "# drive.mount('/content/drive')"
   ]
  },
  {
   "cell_type": "code",
   "execution_count": null,
   "id": "4e0d1bb2",
   "metadata": {
    "colab": {
     "base_uri": "https://localhost:8080/"
    },
    "executionInfo": {
     "elapsed": 2417,
     "status": "ok",
     "timestamp": 1672279626378,
     "user": {
      "displayName": "신정열",
      "userId": "17568906488684043814"
     },
     "user_tz": -540
    },
    "id": "4e0d1bb2",
    "outputId": "372e7253-11c8-463b-d1b9-facbd9e9b827"
   },
   "outputs": [
    {
     "data": {
      "text/plain": [
       "(197463, 2)"
      ]
     },
     "execution_count": 3,
     "metadata": {},
     "output_type": "execute_result"
    }
   ],
   "source": [
    "# data_dir = Path('/content/drive/MyDrive/Colab Notebooks')\n",
    "data_dir = Path('C:/Users/011/sinjy1203/data')\n",
    "lines = pd.read_csv(data_dir / 'fra.txt', names=['src', 'tar', 'lic'], sep='\\t')\n",
    "del lines['lic']\n",
    "lines.shape"
   ]
  },
  {
   "cell_type": "code",
   "execution_count": null,
   "id": "c646e5c9",
   "metadata": {
    "colab": {
     "base_uri": "https://localhost:8080/",
     "height": 206
    },
    "executionInfo": {
     "elapsed": 11,
     "status": "ok",
     "timestamp": 1672279626378,
     "user": {
      "displayName": "신정열",
      "userId": "17568906488684043814"
     },
     "user_tz": -540
    },
    "id": "c646e5c9",
    "outputId": "a158cbf1-9680-47cc-86ee-811d4a2f1ef6"
   },
   "outputs": [
    {
     "data": {
      "text/html": [
       "<div>\n",
       "<style scoped>\n",
       "    .dataframe tbody tr th:only-of-type {\n",
       "        vertical-align: middle;\n",
       "    }\n",
       "\n",
       "    .dataframe tbody tr th {\n",
       "        vertical-align: top;\n",
       "    }\n",
       "\n",
       "    .dataframe thead th {\n",
       "        text-align: right;\n",
       "    }\n",
       "</style>\n",
       "<table border=\"1\" class=\"dataframe\">\n",
       "  <thead>\n",
       "    <tr style=\"text-align: right;\">\n",
       "      <th></th>\n",
       "      <th>src</th>\n",
       "      <th>tar</th>\n",
       "    </tr>\n",
       "  </thead>\n",
       "  <tbody>\n",
       "    <tr>\n",
       "      <th>0</th>\n",
       "      <td>Go.</td>\n",
       "      <td>Va !</td>\n",
       "    </tr>\n",
       "    <tr>\n",
       "      <th>1</th>\n",
       "      <td>Go.</td>\n",
       "      <td>Marche.</td>\n",
       "    </tr>\n",
       "    <tr>\n",
       "      <th>2</th>\n",
       "      <td>Go.</td>\n",
       "      <td>En route !</td>\n",
       "    </tr>\n",
       "    <tr>\n",
       "      <th>3</th>\n",
       "      <td>Go.</td>\n",
       "      <td>Bouge !</td>\n",
       "    </tr>\n",
       "    <tr>\n",
       "      <th>4</th>\n",
       "      <td>Hi.</td>\n",
       "      <td>Salut !</td>\n",
       "    </tr>\n",
       "  </tbody>\n",
       "</table>\n",
       "</div>"
      ],
      "text/plain": [
       "   src         tar\n",
       "0  Go.        Va !\n",
       "1  Go.     Marche.\n",
       "2  Go.  En route !\n",
       "3  Go.     Bouge !\n",
       "4  Hi.     Salut !"
      ]
     },
     "execution_count": 4,
     "metadata": {},
     "output_type": "execute_result"
    }
   ],
   "source": [
    "lines.head()"
   ]
  },
  {
   "cell_type": "code",
   "execution_count": null,
   "id": "e8f1801b",
   "metadata": {
    "colab": {
     "base_uri": "https://localhost:8080/",
     "height": 363
    },
    "executionInfo": {
     "elapsed": 9,
     "status": "ok",
     "timestamp": 1672279626379,
     "user": {
      "displayName": "신정열",
      "userId": "17568906488684043814"
     },
     "user_tz": -540
    },
    "id": "e8f1801b",
    "outputId": "75b0272b-75d4-4546-b438-0c33c6650c4d"
   },
   "outputs": [
    {
     "data": {
      "text/html": [
       "<div>\n",
       "<style scoped>\n",
       "    .dataframe tbody tr th:only-of-type {\n",
       "        vertical-align: middle;\n",
       "    }\n",
       "\n",
       "    .dataframe tbody tr th {\n",
       "        vertical-align: top;\n",
       "    }\n",
       "\n",
       "    .dataframe thead th {\n",
       "        text-align: right;\n",
       "    }\n",
       "</style>\n",
       "<table border=\"1\" class=\"dataframe\">\n",
       "  <thead>\n",
       "    <tr style=\"text-align: right;\">\n",
       "      <th></th>\n",
       "      <th>src</th>\n",
       "      <th>tar</th>\n",
       "    </tr>\n",
       "  </thead>\n",
       "  <tbody>\n",
       "    <tr>\n",
       "      <th>0</th>\n",
       "      <td>Go.</td>\n",
       "      <td>Va !</td>\n",
       "    </tr>\n",
       "    <tr>\n",
       "      <th>1</th>\n",
       "      <td>Go.</td>\n",
       "      <td>Marche.</td>\n",
       "    </tr>\n",
       "    <tr>\n",
       "      <th>2</th>\n",
       "      <td>Go.</td>\n",
       "      <td>En route !</td>\n",
       "    </tr>\n",
       "    <tr>\n",
       "      <th>3</th>\n",
       "      <td>Go.</td>\n",
       "      <td>Bouge !</td>\n",
       "    </tr>\n",
       "    <tr>\n",
       "      <th>4</th>\n",
       "      <td>Hi.</td>\n",
       "      <td>Salut !</td>\n",
       "    </tr>\n",
       "    <tr>\n",
       "      <th>5</th>\n",
       "      <td>Hi.</td>\n",
       "      <td>Salut.</td>\n",
       "    </tr>\n",
       "    <tr>\n",
       "      <th>6</th>\n",
       "      <td>Run!</td>\n",
       "      <td>Cours !</td>\n",
       "    </tr>\n",
       "    <tr>\n",
       "      <th>7</th>\n",
       "      <td>Run!</td>\n",
       "      <td>Courez !</td>\n",
       "    </tr>\n",
       "    <tr>\n",
       "      <th>8</th>\n",
       "      <td>Run!</td>\n",
       "      <td>Prenez vos jambes à vos cous !</td>\n",
       "    </tr>\n",
       "    <tr>\n",
       "      <th>9</th>\n",
       "      <td>Run!</td>\n",
       "      <td>File !</td>\n",
       "    </tr>\n",
       "  </tbody>\n",
       "</table>\n",
       "</div>"
      ],
      "text/plain": [
       "    src                             tar\n",
       "0   Go.                            Va !\n",
       "1   Go.                         Marche.\n",
       "2   Go.                      En route !\n",
       "3   Go.                         Bouge !\n",
       "4   Hi.                         Salut !\n",
       "5   Hi.                          Salut.\n",
       "6  Run!                         Cours !\n",
       "7  Run!                        Courez !\n",
       "8  Run!  Prenez vos jambes à vos cous !\n",
       "9  Run!                          File !"
      ]
     },
     "execution_count": 5,
     "metadata": {},
     "output_type": "execute_result"
    }
   ],
   "source": [
    "lines = lines.loc[:, 'src':'tar']\n",
    "lines = lines[0:60000]\n",
    "lines.head(10)"
   ]
  },
  {
   "cell_type": "code",
   "execution_count": null,
   "id": "d6708c31",
   "metadata": {
    "colab": {
     "base_uri": "https://localhost:8080/",
     "height": 363
    },
    "executionInfo": {
     "elapsed": 8,
     "status": "ok",
     "timestamp": 1672279626379,
     "user": {
      "displayName": "신정열",
      "userId": "17568906488684043814"
     },
     "user_tz": -540
    },
    "id": "d6708c31",
    "outputId": "44035c65-a7e9-493f-bfbd-65e494415f9b"
   },
   "outputs": [
    {
     "data": {
      "text/html": [
       "<div>\n",
       "<style scoped>\n",
       "    .dataframe tbody tr th:only-of-type {\n",
       "        vertical-align: middle;\n",
       "    }\n",
       "\n",
       "    .dataframe tbody tr th {\n",
       "        vertical-align: top;\n",
       "    }\n",
       "\n",
       "    .dataframe thead th {\n",
       "        text-align: right;\n",
       "    }\n",
       "</style>\n",
       "<table border=\"1\" class=\"dataframe\">\n",
       "  <thead>\n",
       "    <tr style=\"text-align: right;\">\n",
       "      <th></th>\n",
       "      <th>src</th>\n",
       "      <th>tar</th>\n",
       "    </tr>\n",
       "  </thead>\n",
       "  <tbody>\n",
       "    <tr>\n",
       "      <th>5758</th>\n",
       "      <td>She went out.</td>\n",
       "      <td>Elle sortit.</td>\n",
       "    </tr>\n",
       "    <tr>\n",
       "      <th>10203</th>\n",
       "      <td>He's an author.</td>\n",
       "      <td>Il est auteur.</td>\n",
       "    </tr>\n",
       "    <tr>\n",
       "      <th>6027</th>\n",
       "      <td>This is ours.</td>\n",
       "      <td>C'est à nous.</td>\n",
       "    </tr>\n",
       "    <tr>\n",
       "      <th>29452</th>\n",
       "      <td>I accept the offer.</td>\n",
       "      <td>J'accepte la proposition.</td>\n",
       "    </tr>\n",
       "    <tr>\n",
       "      <th>18018</th>\n",
       "      <td>Have you decided?</td>\n",
       "      <td>T'es-tu décidée ?</td>\n",
       "    </tr>\n",
       "    <tr>\n",
       "      <th>36940</th>\n",
       "      <td>I'm perfectly happy.</td>\n",
       "      <td>Je suis parfaitement heureux.</td>\n",
       "    </tr>\n",
       "    <tr>\n",
       "      <th>28168</th>\n",
       "      <td>You're very funny.</td>\n",
       "      <td>Tu es très drôle.</td>\n",
       "    </tr>\n",
       "    <tr>\n",
       "      <th>23891</th>\n",
       "      <td>I got my hair cut.</td>\n",
       "      <td>Je me suis fait couper les cheveux.</td>\n",
       "    </tr>\n",
       "    <tr>\n",
       "      <th>34430</th>\n",
       "      <td>Are you that stupid?</td>\n",
       "      <td>Êtes-vous aussi bêtes ?</td>\n",
       "    </tr>\n",
       "    <tr>\n",
       "      <th>53940</th>\n",
       "      <td>Where should I put it?</td>\n",
       "      <td>Où devrais-je le mettre ?</td>\n",
       "    </tr>\n",
       "  </tbody>\n",
       "</table>\n",
       "</div>"
      ],
      "text/plain": [
       "                          src                                  tar\n",
       "5758            She went out.                         Elle sortit.\n",
       "10203         He's an author.                       Il est auteur.\n",
       "6027            This is ours.                        C'est à nous.\n",
       "29452     I accept the offer.            J'accepte la proposition.\n",
       "18018       Have you decided?                    T'es-tu décidée ?\n",
       "36940    I'm perfectly happy.        Je suis parfaitement heureux.\n",
       "28168      You're very funny.                    Tu es très drôle.\n",
       "23891      I got my hair cut.  Je me suis fait couper les cheveux.\n",
       "34430    Are you that stupid?              Êtes-vous aussi bêtes ?\n",
       "53940  Where should I put it?            Où devrais-je le mettre ?"
      ]
     },
     "execution_count": 6,
     "metadata": {},
     "output_type": "execute_result"
    }
   ],
   "source": [
    "lines.sample(10)"
   ]
  },
  {
   "cell_type": "code",
   "execution_count": null,
   "id": "86a6621f",
   "metadata": {
    "colab": {
     "base_uri": "https://localhost:8080/",
     "height": 363
    },
    "executionInfo": {
     "elapsed": 8,
     "status": "ok",
     "timestamp": 1672279626379,
     "user": {
      "displayName": "신정열",
      "userId": "17568906488684043814"
     },
     "user_tz": -540
    },
    "id": "86a6621f",
    "outputId": "344b5644-1d18-442e-eab7-0ba6b31f938d"
   },
   "outputs": [
    {
     "data": {
      "text/html": [
       "<div>\n",
       "<style scoped>\n",
       "    .dataframe tbody tr th:only-of-type {\n",
       "        vertical-align: middle;\n",
       "    }\n",
       "\n",
       "    .dataframe tbody tr th {\n",
       "        vertical-align: top;\n",
       "    }\n",
       "\n",
       "    .dataframe thead th {\n",
       "        text-align: right;\n",
       "    }\n",
       "</style>\n",
       "<table border=\"1\" class=\"dataframe\">\n",
       "  <thead>\n",
       "    <tr style=\"text-align: right;\">\n",
       "      <th></th>\n",
       "      <th>src</th>\n",
       "      <th>tar</th>\n",
       "    </tr>\n",
       "  </thead>\n",
       "  <tbody>\n",
       "    <tr>\n",
       "      <th>54972</th>\n",
       "      <td>Can you say that again?</td>\n",
       "      <td>\\t Pouvez-vous répéter cela ? \\n</td>\n",
       "    </tr>\n",
       "    <tr>\n",
       "      <th>58616</th>\n",
       "      <td>Most of these are mine.</td>\n",
       "      <td>\\t Il y en a la plupart à moi. \\n</td>\n",
       "    </tr>\n",
       "    <tr>\n",
       "      <th>5901</th>\n",
       "      <td>That's great!</td>\n",
       "      <td>\\t Super ! \\n</td>\n",
       "    </tr>\n",
       "    <tr>\n",
       "      <th>21069</th>\n",
       "      <td>Tom is effective.</td>\n",
       "      <td>\\t Tom est efficace. \\n</td>\n",
       "    </tr>\n",
       "    <tr>\n",
       "      <th>11396</th>\n",
       "      <td>Let me do this.</td>\n",
       "      <td>\\t Laissez-moi faire ça. \\n</td>\n",
       "    </tr>\n",
       "    <tr>\n",
       "      <th>17397</th>\n",
       "      <td>Are you a lawyer?</td>\n",
       "      <td>\\t Êtes-vous avocat ? \\n</td>\n",
       "    </tr>\n",
       "    <tr>\n",
       "      <th>25797</th>\n",
       "      <td>Sorry, I was busy.</td>\n",
       "      <td>\\t Désolé, j'étais occupé. \\n</td>\n",
       "    </tr>\n",
       "    <tr>\n",
       "      <th>689</th>\n",
       "      <td>I'm tidy.</td>\n",
       "      <td>\\t Je suis ordonné. \\n</td>\n",
       "    </tr>\n",
       "    <tr>\n",
       "      <th>32188</th>\n",
       "      <td>They must be happy.</td>\n",
       "      <td>\\t Ils sont heureux, sans aucun doute. \\n</td>\n",
       "    </tr>\n",
       "    <tr>\n",
       "      <th>3560</th>\n",
       "      <td>Is she gone?</td>\n",
       "      <td>\\t S'en est-elle allée ? \\n</td>\n",
       "    </tr>\n",
       "  </tbody>\n",
       "</table>\n",
       "</div>"
      ],
      "text/plain": [
       "                           src                                        tar\n",
       "54972  Can you say that again?           \\t Pouvez-vous répéter cela ? \\n\n",
       "58616  Most of these are mine.          \\t Il y en a la plupart à moi. \\n\n",
       "5901             That's great!                              \\t Super ! \\n\n",
       "21069        Tom is effective.                    \\t Tom est efficace. \\n\n",
       "11396          Let me do this.                \\t Laissez-moi faire ça. \\n\n",
       "17397        Are you a lawyer?                   \\t Êtes-vous avocat ? \\n\n",
       "25797       Sorry, I was busy.              \\t Désolé, j'étais occupé. \\n\n",
       "689                  I'm tidy.                     \\t Je suis ordonné. \\n\n",
       "32188      They must be happy.  \\t Ils sont heureux, sans aucun doute. \\n\n",
       "3560              Is she gone?                \\t S'en est-elle allée ? \\n"
      ]
     },
     "execution_count": 7,
     "metadata": {},
     "output_type": "execute_result"
    }
   ],
   "source": [
    "# 시작과 종료를 의미하는 <sos>와 <eos> 추가\n",
    "# 여기서는 \\t와 \\n을 각각 시작 종료 심볼로 간주\n",
    "lines.tar = lines.tar.apply(lambda x: '\\t ' + x + ' \\n')\n",
    "lines.sample(10)"
   ]
  },
  {
   "cell_type": "code",
   "execution_count": null,
   "id": "d38e6e8f",
   "metadata": {
    "id": "d38e6e8f"
   },
   "outputs": [],
   "source": [
    "# 문자 집합 생성\n",
    "src_vocab = set()\n",
    "for line in lines.src:\n",
    "    for char in line:\n",
    "        src_vocab.add(char)\n",
    "\n",
    "tar_vocab = set()\n",
    "for line in lines.tar:\n",
    "    for char in line:\n",
    "        tar_vocab.add(char)"
   ]
  },
  {
   "cell_type": "code",
   "execution_count": null,
   "id": "d0be4fde",
   "metadata": {
    "colab": {
     "base_uri": "https://localhost:8080/"
    },
    "executionInfo": {
     "elapsed": 10,
     "status": "ok",
     "timestamp": 1672279629725,
     "user": {
      "displayName": "신정열",
      "userId": "17568906488684043814"
     },
     "user_tz": -540
    },
    "id": "d0be4fde",
    "outputId": "169aa0e0-f9df-410c-a9e1-2487e38b7786"
   },
   "outputs": [
    {
     "data": {
      "text/plain": [
       "(79, 105)"
      ]
     },
     "execution_count": 9,
     "metadata": {},
     "output_type": "execute_result"
    }
   ],
   "source": [
    "src_vocab_size = len(src_vocab) + 1 # padding때문에 1개 추가\n",
    "tar_vocab_size = len(tar_vocab) + 1 \n",
    "src_vocab_size, tar_vocab_size"
   ]
  },
  {
   "cell_type": "code",
   "execution_count": null,
   "id": "4b4b6e61",
   "metadata": {
    "colab": {
     "base_uri": "https://localhost:8080/"
    },
    "executionInfo": {
     "elapsed": 9,
     "status": "ok",
     "timestamp": 1672279629726,
     "user": {
      "displayName": "신정열",
      "userId": "17568906488684043814"
     },
     "user_tz": -540
    },
    "id": "4b4b6e61",
    "outputId": "ca0e2a2f-33c7-4e05-e61f-d43385ecaf8b"
   },
   "outputs": [
    {
     "name": "stdout",
     "output_type": "stream",
     "text": [
      "{'T': 1, ':': 2, 'U': 3, 'D': 4, 'r': 5, 'h': 6, 'g': 7, '9': 8, 'a': 9, 'V': 10, 'l': 11, 'j': 12, '1': 13, 'P': 14, 'E': 15, 'z': 16, 'Z': 17, 'A': 18, 'L': 19, 'F': 20, 'f': 21, 'q': 22, '-': 23, 'n': 24, 'I': 25, '€': 26, 'b': 27, 'd': 28, '\"': 29, ' ': 30, 'p': 31, 'v': 32, '’': 33, 'w': 34, '3': 35, '%': 36, \"'\": 37, 'k': 38, 'G': 39, '?': 40, 'O': 41, 'R': 42, '.': 43, 't': 44, '8': 45, 'N': 46, '6': 47, 'C': 48, '/': 49, '2': 50, 'J': 51, 'S': 52, 'W': 53, 'K': 54, 'M': 55, 'c': 56, 'x': 57, '$': 58, 'u': 59, 'o': 60, 'Y': 61, '&': 62, '7': 63, 'Q': 64, 'i': 65, 's': 66, 'é': 67, '5': 68, 'y': 69, 'm': 70, ',': 71, 'H': 72, '!': 73, 'B': 74, 'e': 75, '4': 76, 'X': 77, '0': 78}\n",
      "{'T': 1, 'ë': 2, ':': 3, 'U': 4, 'D': 5, '»': 6, 'r': 7, 'h': 8, '\\xa0': 9, 'g': 10, '9': 11, 'a': 12, 'V': 13, 'l': 14, 'j': 15, '1': 16, 'P': 17, 'E': 18, 'z': 19, 'î': 20, 'Ô': 21, 'Z': 22, 'A': 23, 'ô': 24, ')': 25, 'L': 26, 'F': 27, 'f': 28, 'à': 29, '\\u2009': 30, 'è': 31, 'q': 32, '-': 33, 'Ê': 34, 'n': 35, 'I': 36, 'b': 37, 'd': 38, '\"': 39, ' ': 40, 'v': 41, 'p': 42, '’': 43, '‘': 44, 'w': 45, '3': 46, '\\t': 47, '\\u200b': 48, '%': 49, \"'\": 50, 'É': 51, '\\n': 52, 'k': 53, 'G': 54, '(': 55, '?': 56, '«': 57, 'â': 58, 'O': 59, 'R': 60, '.': 61, 't': 62, '8': 63, 'N': 64, '6': 65, 'ï': 66, 'ç': 67, 'C': 68, '2': 69, 'J': 70, 'S': 71, 'W': 72, 'K': 73, 'M': 74, 'c': 75, 'x': 76, '$': 77, 'û': 78, 'u': 79, 'o': 80, '&': 81, 'Q': 82, 'œ': 83, 'Y': 84, '7': 85, 'i': 86, 's': 87, 'é': 88, '5': 89, 'y': 90, 'Ç': 91, 'ê': 92, '\\u202f': 93, 'ù': 94, 'm': 95, ',': 96, 'H': 97, 'À': 98, '!': 99, 'B': 100, 'e': 101, '4': 102, 'X': 103, '0': 104}\n"
     ]
    }
   ],
   "source": [
    "src_to_index = dict([(word, i+1) for i, word in enumerate(src_vocab)])\n",
    "tar_to_index = dict([(word, i+1) for i, word in enumerate(tar_vocab)])\n",
    "print(src_to_index)\n",
    "print(tar_to_index)"
   ]
  },
  {
   "cell_type": "code",
   "execution_count": null,
   "id": "497c026d",
   "metadata": {
    "colab": {
     "base_uri": "https://localhost:8080/"
    },
    "executionInfo": {
     "elapsed": 5,
     "status": "ok",
     "timestamp": 1672279629726,
     "user": {
      "displayName": "신정열",
      "userId": "17568906488684043814"
     },
     "user_tz": -540
    },
    "id": "497c026d",
    "outputId": "a78943b2-72b3-48b9-be5b-62ac7b68f24a"
   },
   "outputs": [
    {
     "data": {
      "text/plain": [
       "[[39, 60, 43], [39, 60, 43], [39, 60, 43], [39, 60, 43], [72, 65, 43]]"
      ]
     },
     "execution_count": 11,
     "metadata": {},
     "output_type": "execute_result"
    }
   ],
   "source": [
    "# integer encoding (encoder)\n",
    "encoder_input = []\n",
    "\n",
    "for line in lines.src:\n",
    "    encoded_line = []\n",
    "    for char in line:\n",
    "        encoded_line.append(src_to_index[char])\n",
    "    encoder_input.append(encoded_line)\n",
    "encoder_input[:5]"
   ]
  },
  {
   "cell_type": "code",
   "execution_count": null,
   "id": "1d8732e9",
   "metadata": {
    "colab": {
     "base_uri": "https://localhost:8080/"
    },
    "executionInfo": {
     "elapsed": 593,
     "status": "ok",
     "timestamp": 1672279630316,
     "user": {
      "displayName": "신정열",
      "userId": "17568906488684043814"
     },
     "user_tz": -540
    },
    "id": "1d8732e9",
    "outputId": "7a41ba05-5465-4323-f28d-efbd7d5c727b"
   },
   "outputs": [
    {
     "data": {
      "text/plain": [
       "[[47, 40, 13, 12, 40, 99, 40, 52],\n",
       " [47, 40, 74, 12, 7, 75, 8, 101, 61, 40, 52],\n",
       " [47, 40, 18, 35, 40, 7, 80, 79, 62, 101, 40, 99, 40, 52],\n",
       " [47, 40, 100, 80, 79, 10, 101, 40, 99, 40, 52],\n",
       " [47, 40, 71, 12, 14, 79, 62, 40, 99, 40, 52]]"
      ]
     },
     "execution_count": 12,
     "metadata": {},
     "output_type": "execute_result"
    }
   ],
   "source": [
    "# decoder encoding (decoder)\n",
    "decoder_input = []\n",
    "for line in lines.tar:\n",
    "    decoded_line = []\n",
    "    for char in line:\n",
    "        decoded_line.append(tar_to_index[char])\n",
    "    decoder_input.append(decoded_line)\n",
    "decoder_input[:5]"
   ]
  },
  {
   "cell_type": "code",
   "execution_count": null,
   "id": "f80e4d70",
   "metadata": {
    "colab": {
     "base_uri": "https://localhost:8080/"
    },
    "executionInfo": {
     "elapsed": 1001,
     "status": "ok",
     "timestamp": 1672279631315,
     "user": {
      "displayName": "신정열",
      "userId": "17568906488684043814"
     },
     "user_tz": -540
    },
    "id": "f80e4d70",
    "outputId": "04fb0ad1-1c8e-45c4-ef28-4e6bffc4309b"
   },
   "outputs": [
    {
     "data": {
      "text/plain": [
       "[[40, 13, 12, 40, 99, 40, 52],\n",
       " [40, 74, 12, 7, 75, 8, 101, 61, 40, 52],\n",
       " [40, 18, 35, 40, 7, 80, 79, 62, 101, 40, 99, 40, 52],\n",
       " [40, 100, 80, 79, 10, 101, 40, 99, 40, 52],\n",
       " [40, 71, 12, 14, 79, 62, 40, 99, 40, 52]]"
      ]
     },
     "execution_count": 13,
     "metadata": {},
     "output_type": "execute_result"
    }
   ],
   "source": [
    "# target data\n",
    "decoder_target = []\n",
    "for line in lines.tar:\n",
    "    timestep = 0\n",
    "    decoded_line = []\n",
    "    for char in line:\n",
    "        if timestep > 0:\n",
    "            decoded_line.append(tar_to_index[char])\n",
    "        timestep += 1\n",
    "    decoder_target.append(decoded_line)\n",
    "decoder_target[:5]"
   ]
  },
  {
   "cell_type": "code",
   "execution_count": null,
   "id": "1221d56d",
   "metadata": {
    "colab": {
     "base_uri": "https://localhost:8080/"
    },
    "executionInfo": {
     "elapsed": 4,
     "status": "ok",
     "timestamp": 1672279631316,
     "user": {
      "displayName": "신정열",
      "userId": "17568906488684043814"
     },
     "user_tz": -540
    },
    "id": "1221d56d",
    "outputId": "4d5749c2-1694-462a-ca93-8acba4cbfc9a"
   },
   "outputs": [
    {
     "data": {
      "text/plain": [
       "(23, 76)"
      ]
     },
     "execution_count": 14,
     "metadata": {},
     "output_type": "execute_result"
    }
   ],
   "source": [
    "# padding\n",
    "max_src_len = max([len(line) for line in lines.src])\n",
    "max_tar_len = max([len(line) for line in lines.tar])\n",
    "max_src_len, max_tar_len"
   ]
  },
  {
   "cell_type": "code",
   "execution_count": null,
   "id": "b737d0a7",
   "metadata": {
    "id": "b737d0a7"
   },
   "outputs": [],
   "source": [
    "encoder_input = pad_sequences(encoder_input, maxlen=max_src_len, padding='post')\n",
    "decoder_input = pad_sequences(decoder_input, maxlen=max_tar_len, padding='post')\n",
    "decoder_target = pad_sequences(decoder_target, maxlen=max_tar_len, padding='post')"
   ]
  },
  {
   "cell_type": "code",
   "execution_count": null,
   "id": "7bc35a20",
   "metadata": {
    "id": "7bc35a20",
    "outputId": "e2b441ee-c106-43f5-80f9-393bab076c37"
   },
   "outputs": [
    {
     "data": {
      "text/plain": [
       "array([47, 40, 13, 12, 40, 99, 40, 52,  0,  0,  0,  0,  0,  0,  0,  0,  0,\n",
       "        0,  0,  0,  0,  0,  0,  0,  0,  0,  0,  0,  0,  0,  0,  0,  0,  0,\n",
       "        0,  0,  0,  0,  0,  0,  0,  0,  0,  0,  0,  0,  0,  0,  0,  0,  0,\n",
       "        0,  0,  0,  0,  0,  0,  0,  0,  0,  0,  0,  0,  0,  0,  0,  0,  0,\n",
       "        0,  0,  0,  0,  0,  0,  0,  0])"
      ]
     },
     "execution_count": 19,
     "metadata": {},
     "output_type": "execute_result"
    }
   ],
   "source": [
    "decoder_input[0]"
   ]
  },
  {
   "cell_type": "code",
   "execution_count": null,
   "id": "d14a38ce",
   "metadata": {
    "id": "d14a38ce",
    "outputId": "2c5f4dac-4a86-48dd-fdea-7cbc2e1c5c2c"
   },
   "outputs": [
    {
     "data": {
      "text/plain": [
       "array([40, 13, 12, 40, 99, 40, 52,  0,  0,  0,  0,  0,  0,  0,  0,  0,  0,\n",
       "        0,  0,  0,  0,  0,  0,  0,  0,  0,  0,  0,  0,  0,  0,  0,  0,  0,\n",
       "        0,  0,  0,  0,  0,  0,  0,  0,  0,  0,  0,  0,  0,  0,  0,  0,  0,\n",
       "        0,  0,  0,  0,  0,  0,  0,  0,  0,  0,  0,  0,  0,  0,  0,  0,  0,\n",
       "        0,  0,  0,  0,  0,  0,  0,  0])"
      ]
     },
     "execution_count": 20,
     "metadata": {},
     "output_type": "execute_result"
    }
   ],
   "source": [
    "decoder_target[0]"
   ]
  },
  {
   "cell_type": "code",
   "execution_count": null,
   "id": "5cc8b1fd",
   "metadata": {
    "id": "5cc8b1fd"
   },
   "outputs": [],
   "source": [
    "encoder_input = to_categorical(encoder_input)\n",
    "decoder_input = to_categorical(decoder_input)\n",
    "decoder_target = to_categorical(decoder_target)"
   ]
  },
  {
   "cell_type": "code",
   "execution_count": null,
   "id": "5ab0c560",
   "metadata": {
    "colab": {
     "base_uri": "https://localhost:8080/"
    },
    "executionInfo": {
     "elapsed": 8,
     "status": "ok",
     "timestamp": 1672279635464,
     "user": {
      "displayName": "신정열",
      "userId": "17568906488684043814"
     },
     "user_tz": -540
    },
    "id": "5ab0c560",
    "outputId": "a364a893-eda4-4a33-fc93-dd75d0e1b1c5"
   },
   "outputs": [
    {
     "data": {
      "text/plain": [
       "(60000, 23, 79)"
      ]
     },
     "execution_count": 17,
     "metadata": {},
     "output_type": "execute_result"
    }
   ],
   "source": [
    "encoder_input.shape"
   ]
  },
  {
   "cell_type": "code",
   "execution_count": null,
   "id": "86c015ae",
   "metadata": {
    "colab": {
     "base_uri": "https://localhost:8080/"
    },
    "executionInfo": {
     "elapsed": 5,
     "status": "ok",
     "timestamp": 1672279635464,
     "user": {
      "displayName": "신정열",
      "userId": "17568906488684043814"
     },
     "user_tz": -540
    },
    "id": "86c015ae",
    "outputId": "ada24124-6ec3-4879-e2b6-1b974ee8aaa4"
   },
   "outputs": [
    {
     "data": {
      "text/plain": [
       "(60000, 76, 105)"
      ]
     },
     "execution_count": 18,
     "metadata": {},
     "output_type": "execute_result"
    }
   ],
   "source": [
    "decoder_input.shape"
   ]
  },
  {
   "cell_type": "code",
   "execution_count": null,
   "id": "b77386c9",
   "metadata": {
    "colab": {
     "base_uri": "https://localhost:8080/"
    },
    "executionInfo": {
     "elapsed": 3,
     "status": "ok",
     "timestamp": 1672279635464,
     "user": {
      "displayName": "신정열",
      "userId": "17568906488684043814"
     },
     "user_tz": -540
    },
    "id": "b77386c9",
    "outputId": "ceb3483e-1612-4f79-d4eb-6eaf778a4e4b"
   },
   "outputs": [
    {
     "data": {
      "text/plain": [
       "(60000, 76, 105)"
      ]
     },
     "execution_count": 19,
     "metadata": {},
     "output_type": "execute_result"
    }
   ],
   "source": [
    "decoder_target.shape"
   ]
  },
  {
   "cell_type": "markdown",
   "id": "22f06a8a",
   "metadata": {
    "id": "22f06a8a"
   },
   "source": [
    "### training seq2seq model"
   ]
  },
  {
   "cell_type": "code",
   "execution_count": null,
   "id": "c5c19e9f",
   "metadata": {
    "id": "c5c19e9f"
   },
   "outputs": [],
   "source": [
    "from tensorflow.keras.layers import Input, LSTM, Embedding, Dense\n",
    "from tensorflow.keras.models import Model\n",
    "import numpy as np"
   ]
  },
  {
   "cell_type": "code",
   "execution_count": null,
   "id": "9592f128",
   "metadata": {
    "id": "9592f128"
   },
   "outputs": [],
   "source": [
    "encoder_inputs = Input(shape=(None, src_vocab_size))\n",
    "encoder_lstm = LSTM(units=256, return_state=True)\n",
    "\n",
    "encoder_outputs, state_h, state_c = encoder_lstm(encoder_inputs)\n",
    "\n",
    "encoder_states = [state_h, state_c]"
   ]
  },
  {
   "cell_type": "code",
   "execution_count": null,
   "id": "72ea3e84",
   "metadata": {
    "id": "72ea3e84"
   },
   "outputs": [],
   "source": [
    "decoder_inputs = Input(shape=(None, tar_vocab_size))\n",
    "decoder_lstm = LSTM(units=256, return_sequences=True, return_state=True)\n",
    "\n",
    "decoder_outputs, _, _ = decoder_lstm(decoder_inputs, initial_state=encoder_states)\n",
    "\n",
    "decoder_softmax_layer = Dense(tar_vocab_size, activation='softmax')\n",
    "decoder_outputs = decoder_softmax_layer(decoder_outputs)\n",
    "\n",
    "model = Model([encoder_inputs, decoder_inputs], decoder_outputs)\n",
    "model.compile(optimizer='rmsprop', loss='categorical_crossentropy')"
   ]
  },
  {
   "cell_type": "code",
   "execution_count": null,
   "id": "25531e0b",
   "metadata": {
    "colab": {
     "base_uri": "https://localhost:8080/"
    },
    "executionInfo": {
     "elapsed": 552,
     "status": "ok",
     "timestamp": 1672279640259,
     "user": {
      "displayName": "신정열",
      "userId": "17568906488684043814"
     },
     "user_tz": -540
    },
    "id": "25531e0b",
    "outputId": "08a9f174-fde1-4258-e87b-f1ddc1bb4d02"
   },
   "outputs": [
    {
     "name": "stdout",
     "output_type": "stream",
     "text": [
      "Model: \"model\"\n",
      "__________________________________________________________________________________________________\n",
      " Layer (type)                   Output Shape         Param #     Connected to                     \n",
      "==================================================================================================\n",
      " input_1 (InputLayer)           [(None, None, 79)]   0           []                               \n",
      "                                                                                                  \n",
      " input_2 (InputLayer)           [(None, None, 105)]  0           []                               \n",
      "                                                                                                  \n",
      " lstm (LSTM)                    [(None, 256),        344064      ['input_1[0][0]']                \n",
      "                                 (None, 256),                                                     \n",
      "                                 (None, 256)]                                                     \n",
      "                                                                                                  \n",
      " lstm_1 (LSTM)                  [(None, None, 256),  370688      ['input_2[0][0]',                \n",
      "                                 (None, 256),                     'lstm[0][1]',                   \n",
      "                                 (None, 256)]                     'lstm[0][2]']                   \n",
      "                                                                                                  \n",
      " dense (Dense)                  (None, None, 105)    26985       ['lstm_1[0][0]']                 \n",
      "                                                                                                  \n",
      "==================================================================================================\n",
      "Total params: 741,737\n",
      "Trainable params: 741,737\n",
      "Non-trainable params: 0\n",
      "__________________________________________________________________________________________________\n"
     ]
    }
   ],
   "source": [
    "model.summary()"
   ]
  },
  {
   "cell_type": "code",
   "execution_count": null,
   "id": "57222759",
   "metadata": {
    "colab": {
     "base_uri": "https://localhost:8080/"
    },
    "executionInfo": {
     "elapsed": 438329,
     "status": "ok",
     "timestamp": 1672280078587,
     "user": {
      "displayName": "신정열",
      "userId": "17568906488684043814"
     },
     "user_tz": -540
    },
    "id": "57222759",
    "outputId": "1c7f9381-a46b-4207-c355-b55a4d284155"
   },
   "outputs": [
    {
     "name": "stdout",
     "output_type": "stream",
     "text": [
      "Epoch 1/40\n",
      "750/750 [==============================] - 16s 16ms/step - loss: 0.7389 - val_loss: 0.6588\n",
      "Epoch 2/40\n",
      "750/750 [==============================] - 13s 18ms/step - loss: 0.4534 - val_loss: 0.5324\n",
      "Epoch 3/40\n",
      "750/750 [==============================] - 11s 14ms/step - loss: 0.3795 - val_loss: 0.4721\n",
      "Epoch 4/40\n",
      "750/750 [==============================] - 11s 14ms/step - loss: 0.3377 - val_loss: 0.4357\n",
      "Epoch 5/40\n",
      "750/750 [==============================] - 10s 14ms/step - loss: 0.3099 - val_loss: 0.4122\n",
      "Epoch 6/40\n",
      "750/750 [==============================] - 11s 14ms/step - loss: 0.2898 - val_loss: 0.3960\n",
      "Epoch 7/40\n",
      "750/750 [==============================] - 10s 14ms/step - loss: 0.2734 - val_loss: 0.3838\n",
      "Epoch 8/40\n",
      "750/750 [==============================] - 11s 14ms/step - loss: 0.2604 - val_loss: 0.3707\n",
      "Epoch 9/40\n",
      "750/750 [==============================] - 12s 16ms/step - loss: 0.2494 - val_loss: 0.3655\n",
      "Epoch 10/40\n",
      "750/750 [==============================] - 11s 15ms/step - loss: 0.2396 - val_loss: 0.3608\n",
      "Epoch 11/40\n",
      "750/750 [==============================] - 11s 15ms/step - loss: 0.2310 - val_loss: 0.3580\n",
      "Epoch 12/40\n",
      "750/750 [==============================] - 12s 16ms/step - loss: 0.2235 - val_loss: 0.3549\n",
      "Epoch 13/40\n",
      "750/750 [==============================] - 10s 14ms/step - loss: 0.2168 - val_loss: 0.3527\n",
      "Epoch 14/40\n",
      "750/750 [==============================] - 10s 14ms/step - loss: 0.2105 - val_loss: 0.3511\n",
      "Epoch 15/40\n",
      "750/750 [==============================] - 12s 16ms/step - loss: 0.2048 - val_loss: 0.3505\n",
      "Epoch 16/40\n",
      "750/750 [==============================] - 12s 15ms/step - loss: 0.1995 - val_loss: 0.3514\n",
      "Epoch 17/40\n",
      "750/750 [==============================] - 10s 14ms/step - loss: 0.1947 - val_loss: 0.3503\n",
      "Epoch 18/40\n",
      "750/750 [==============================] - 11s 15ms/step - loss: 0.1901 - val_loss: 0.3498\n",
      "Epoch 19/40\n",
      "750/750 [==============================] - 11s 15ms/step - loss: 0.1858 - val_loss: 0.3524\n",
      "Epoch 20/40\n",
      "750/750 [==============================] - 10s 14ms/step - loss: 0.1820 - val_loss: 0.3529\n",
      "Epoch 21/40\n",
      "750/750 [==============================] - 11s 15ms/step - loss: 0.1781 - val_loss: 0.3551\n",
      "Epoch 22/40\n",
      "750/750 [==============================] - 11s 15ms/step - loss: 0.1745 - val_loss: 0.3562\n",
      "Epoch 23/40\n",
      "750/750 [==============================] - 11s 14ms/step - loss: 0.1712 - val_loss: 0.3579\n",
      "Epoch 24/40\n",
      "750/750 [==============================] - 10s 14ms/step - loss: 0.1680 - val_loss: 0.3612\n",
      "Epoch 25/40\n",
      "750/750 [==============================] - 10s 14ms/step - loss: 0.1650 - val_loss: 0.3619\n",
      "Epoch 26/40\n",
      "750/750 [==============================] - 10s 14ms/step - loss: 0.1620 - val_loss: 0.3657\n",
      "Epoch 27/40\n",
      "750/750 [==============================] - 10s 14ms/step - loss: 0.1592 - val_loss: 0.3664\n",
      "Epoch 28/40\n",
      "750/750 [==============================] - 10s 14ms/step - loss: 0.1567 - val_loss: 0.3688\n",
      "Epoch 29/40\n",
      "750/750 [==============================] - 10s 14ms/step - loss: 0.1540 - val_loss: 0.3730\n",
      "Epoch 30/40\n",
      "750/750 [==============================] - 10s 14ms/step - loss: 0.1516 - val_loss: 0.3751\n",
      "Epoch 31/40\n",
      "750/750 [==============================] - 11s 14ms/step - loss: 0.1494 - val_loss: 0.3780\n",
      "Epoch 32/40\n",
      "750/750 [==============================] - 10s 14ms/step - loss: 0.1471 - val_loss: 0.3792\n",
      "Epoch 33/40\n",
      "750/750 [==============================] - 10s 14ms/step - loss: 0.1450 - val_loss: 0.3823\n",
      "Epoch 34/40\n",
      "750/750 [==============================] - 11s 15ms/step - loss: 0.1429 - val_loss: 0.3853\n",
      "Epoch 35/40\n",
      "750/750 [==============================] - 11s 15ms/step - loss: 0.1410 - val_loss: 0.3890\n",
      "Epoch 36/40\n",
      "750/750 [==============================] - 10s 14ms/step - loss: 0.1391 - val_loss: 0.3906\n",
      "Epoch 37/40\n",
      "750/750 [==============================] - 10s 14ms/step - loss: 0.1372 - val_loss: 0.3946\n",
      "Epoch 38/40\n",
      "750/750 [==============================] - 10s 14ms/step - loss: 0.1355 - val_loss: 0.3959\n",
      "Epoch 39/40\n",
      "750/750 [==============================] - 10s 14ms/step - loss: 0.1338 - val_loss: 0.4002\n",
      "Epoch 40/40\n",
      "750/750 [==============================] - 10s 14ms/step - loss: 0.1322 - val_loss: 0.4017\n"
     ]
    },
    {
     "data": {
      "text/plain": [
       "<keras.callbacks.History at 0x7f55682b0cd0>"
      ]
     },
     "execution_count": 24,
     "metadata": {},
     "output_type": "execute_result"
    }
   ],
   "source": [
    "model.fit(x=[encoder_input, decoder_input], y=decoder_target, batch_size=64,\n",
    "         epochs=40, validation_split=0.2)"
   ]
  },
  {
   "cell_type": "code",
   "execution_count": null,
   "id": "UIWEuy6ik_hr",
   "metadata": {
    "colab": {
     "base_uri": "https://localhost:8080/"
    },
    "executionInfo": {
     "elapsed": 7569,
     "status": "ok",
     "timestamp": 1672280086145,
     "user": {
      "displayName": "신정열",
      "userId": "17568906488684043814"
     },
     "user_tz": -540
    },
    "id": "UIWEuy6ik_hr",
    "outputId": "a2eb1463-a98a-4c64-9467-55f3b9aee92c"
   },
   "outputs": [
    {
     "name": "stderr",
     "output_type": "stream",
     "text": [
      "WARNING:absl:Found untraced functions such as lstm_cell_layer_call_fn, lstm_cell_layer_call_and_return_conditional_losses, lstm_cell_1_layer_call_fn, lstm_cell_1_layer_call_and_return_conditional_losses while saving (showing 4 of 4). These functions will not be directly callable after loading.\n"
     ]
    }
   ],
   "source": [
    "model_dir = data_dir / 'weights'\n",
    "model.save(model_dir)"
   ]
  },
  {
   "cell_type": "markdown",
   "id": "6fd2b7a3",
   "metadata": {
    "id": "6fd2b7a3"
   },
   "source": [
    "### seq2seq 동작\n",
    "- 매 시점마다 이전 시점의 예측과 상태를 입력으로 사용\n",
    "- <eos> 또는 최대길이 도달할 경우 반복 멈춤"
   ]
  },
  {
   "cell_type": "code",
   "execution_count": null,
   "id": "6c323352",
   "metadata": {
    "id": "6c323352"
   },
   "outputs": [],
   "source": [
    "encoder_model = Model(inputs=encoder_inputs, outputs=encoder_states)"
   ]
  },
  {
   "cell_type": "code",
   "execution_count": null,
   "id": "6rJNO-bTTNlw",
   "metadata": {
    "id": "6rJNO-bTTNlw"
   },
   "outputs": [],
   "source": [
    "decoder_state_input_h = Input(shape=(256,))\n",
    "decoder_state_input_c = Input(shape=(256,))\n",
    "decoder_states_inputs = [decoder_state_input_h, decoder_state_input_c]\n",
    "\n",
    "decoder_outputs, state_h, state_c = decoder_lstm(decoder_inputs, initial_state=decoder_states_inputs)\n",
    "\n",
    "decoder_states = [state_h, state_c]\n",
    "decoder_outputs = decoder_softmax_layer(decoder_outputs)\n",
    "decoder_model = Model(inputs=[decoder_inputs] + decoder_states_inputs, outputs=[decoder_outputs] + decoder_states)"
   ]
  },
  {
   "cell_type": "code",
   "execution_count": null,
   "id": "Wv6lX0OmZ8yU",
   "metadata": {
    "id": "Wv6lX0OmZ8yU"
   },
   "outputs": [],
   "source": [
    "index_to_src = dict((i, char) for char, i in src_to_index.items())\n",
    "index_to_tar = dict((i, char) for char, i in tar_to_index.items())"
   ]
  },
  {
   "cell_type": "code",
   "execution_count": null,
   "id": "zlBWbUlma0Yc",
   "metadata": {
    "id": "zlBWbUlma0Yc"
   },
   "outputs": [],
   "source": [
    "def decode_sequence(input_seq):\n",
    "    states_value = encoder_model.predict(input_seq, verbose=0)\n",
    "    \n",
    "    target_seq = np.zeros((1, 1, tar_vocab_size))\n",
    "    target_seq[0, 0, tar_to_index['\\t']] = 1\n",
    "\n",
    "    stop_condition = False\n",
    "    decoded_sentence = \"\"\n",
    "\n",
    "    while not stop_condition:\n",
    "        output_tokens, h, c = decoder_model.predict([target_seq] + states_value)\n",
    "        sampled_token_index = np.argmax(output_tokens[0, -1, :])\n",
    "        sampled_char = index_to_tar[sampled_token_index]\n",
    "\n",
    "        decoded_sentence += sampled_char\n",
    "\n",
    "        if sampled_char == '\\n' or len(decoded_sentence) > max_tar_len:\n",
    "            stop_condition = True\n",
    "        \n",
    "        target_seq = np.zeros((1, 1, tar_vocab_size))\n",
    "        target_seq[0, 0, sampled_token_index] = 1.\n",
    "\n",
    "        states_value = [h, c]\n",
    "    \n",
    "    return decoded_sentence"
   ]
  },
  {
   "cell_type": "code",
   "execution_count": null,
   "id": "0DdWGF4JnaX1",
   "metadata": {
    "colab": {
     "base_uri": "https://localhost:8080/"
    },
    "executionInfo": {
     "elapsed": 3528,
     "status": "ok",
     "timestamp": 1672280453978,
     "user": {
      "displayName": "신정열",
      "userId": "17568906488684043814"
     },
     "user_tz": -540
    },
    "id": "0DdWGF4JnaX1",
    "outputId": "eb3483f0-30ee-4bc4-b993-dd506485167c"
   },
   "outputs": [
    {
     "name": "stdout",
     "output_type": "stream",
     "text": [
      "1/1 [==============================] - 0s 16ms/step\n",
      "1/1 [==============================] - 0s 18ms/step\n",
      "1/1 [==============================] - 0s 19ms/step\n",
      "1/1 [==============================] - 0s 14ms/step\n",
      "1/1 [==============================] - 0s 15ms/step\n",
      "1/1 [==============================] - 0s 16ms/step\n",
      "1/1 [==============================] - 0s 15ms/step\n",
      "-----------------------------------\n",
      "입력문장:  Go.\n",
      "정답문장:  Bouge ! \n",
      "번역문장:  Va ! \n",
      "1/1 [==============================] - 0s 16ms/step\n",
      "1/1 [==============================] - 0s 17ms/step\n",
      "1/1 [==============================] - 0s 18ms/step\n",
      "1/1 [==============================] - 0s 16ms/step\n",
      "1/1 [==============================] - 0s 15ms/step\n",
      "1/1 [==============================] - 0s 17ms/step\n",
      "1/1 [==============================] - 0s 15ms/step\n",
      "1/1 [==============================] - 0s 18ms/step\n",
      "1/1 [==============================] - 0s 16ms/step\n",
      "1/1 [==============================] - 0s 18ms/step\n",
      "-----------------------------------\n",
      "입력문장:  Hello!\n",
      "정답문장:  Bonjour ! \n",
      "번역문장:  Salut ! \n",
      "1/1 [==============================] - 0s 17ms/step\n",
      "1/1 [==============================] - 0s 20ms/step\n",
      "1/1 [==============================] - 0s 16ms/step\n",
      "1/1 [==============================] - 0s 15ms/step\n",
      "1/1 [==============================] - 0s 16ms/step\n",
      "1/1 [==============================] - 0s 15ms/step\n",
      "1/1 [==============================] - 0s 19ms/step\n",
      "1/1 [==============================] - 0s 15ms/step\n",
      "1/1 [==============================] - 0s 16ms/step\n",
      "1/1 [==============================] - 0s 17ms/step\n",
      "1/1 [==============================] - 0s 16ms/step\n",
      "1/1 [==============================] - 0s 15ms/step\n",
      "1/1 [==============================] - 0s 18ms/step\n",
      "-----------------------------------\n",
      "입력문장:  Got it?\n",
      "정답문장:  T'as capté ? \n",
      "번역문장:  Pours-im ! \n",
      "1/1 [==============================] - 0s 14ms/step\n",
      "1/1 [==============================] - 0s 21ms/step\n",
      "1/1 [==============================] - 0s 17ms/step\n",
      "1/1 [==============================] - 0s 16ms/step\n",
      "1/1 [==============================] - 0s 15ms/step\n",
      "1/1 [==============================] - 0s 15ms/step\n",
      "1/1 [==============================] - 0s 16ms/step\n",
      "1/1 [==============================] - 0s 15ms/step\n",
      "1/1 [==============================] - 0s 17ms/step\n",
      "1/1 [==============================] - 0s 15ms/step\n",
      "1/1 [==============================] - 0s 17ms/step\n",
      "1/1 [==============================] - 0s 20ms/step\n",
      "-----------------------------------\n",
      "입력문장:  Hang on.\n",
      "정답문장:  Tiens bon ! \n",
      "번역문장:  Attendez. \n",
      "1/1 [==============================] - 0s 17ms/step\n",
      "1/1 [==============================] - 0s 17ms/step\n",
      "1/1 [==============================] - 0s 15ms/step\n",
      "1/1 [==============================] - 0s 17ms/step\n",
      "1/1 [==============================] - 0s 17ms/step\n",
      "1/1 [==============================] - 0s 17ms/step\n",
      "1/1 [==============================] - 0s 15ms/step\n",
      "1/1 [==============================] - 0s 16ms/step\n",
      "1/1 [==============================] - 0s 16ms/step\n",
      "1/1 [==============================] - 0s 15ms/step\n",
      "1/1 [==============================] - 0s 15ms/step\n",
      "1/1 [==============================] - 0s 16ms/step\n",
      "1/1 [==============================] - 0s 16ms/step\n",
      "1/1 [==============================] - 0s 20ms/step\n",
      "1/1 [==============================] - 0s 20ms/step\n",
      "1/1 [==============================] - 0s 17ms/step\n",
      "1/1 [==============================] - 0s 19ms/step\n",
      "1/1 [==============================] - 0s 16ms/step\n",
      "-----------------------------------\n",
      "입력문장:  Here's $5.\n",
      "정답문장:  Voilà cinq dollars. \n",
      "번역문장:  Voilà conferme. \n"
     ]
    }
   ],
   "source": [
    "from IPython.utils.py3compat import decode\n",
    "for seq_index in [3, 50, 100, 300, 1001]:\n",
    "    input_seq = encoder_input[seq_index:seq_index+1]\n",
    "    decoded_sentence = decode_sequence(input_seq)\n",
    "\n",
    "    print(35*'-')\n",
    "    print('입력문장: ', lines.src[seq_index])\n",
    "    print('정답문장: ', lines.tar[seq_index][2: len(lines.tar[seq_index])-1])\n",
    "    print('번역문장: ', decoded_sentence[1:len(decoded_sentence)-1])"
   ]
  },
  {
   "cell_type": "markdown",
   "id": "f9ed7bcb",
   "metadata": {
    "id": "f9ed7bcb"
   },
   "source": [
    "## Word-Level Neural Machine Translation"
   ]
  },
  {
   "cell_type": "markdown",
   "id": "ab2c254c",
   "metadata": {
    "id": "ab2c254c"
   },
   "source": [
    "### 데이터로드 및 전처리"
   ]
  },
  {
   "cell_type": "code",
   "execution_count": 1,
   "id": "7a3f3c1c",
   "metadata": {
    "executionInfo": {
     "elapsed": 2906,
     "status": "ok",
     "timestamp": 1672362954015,
     "user": {
      "displayName": "신정열",
      "userId": "17568906488684043814"
     },
     "user_tz": -540
    },
    "id": "7a3f3c1c"
   },
   "outputs": [],
   "source": [
    "import os\n",
    "import re\n",
    "import shutil\n",
    "import zipfile\n",
    "\n",
    "import numpy as np\n",
    "import pandas as pd\n",
    "import tensorflow as tf\n",
    "import unicodedata\n",
    "import urllib3\n",
    "from tensorflow.keras.layers import Embedding, GRU, Dense\n",
    "from tensorflow.keras.preprocessing.sequence import pad_sequences\n",
    "from tensorflow.keras.preprocessing.text import Tokenizer"
   ]
  },
  {
   "cell_type": "code",
   "execution_count": 2,
   "id": "sioxQ6A-UOdp",
   "metadata": {
    "colab": {
     "base_uri": "https://localhost:8080/"
    },
    "executionInfo": {
     "elapsed": 148572,
     "status": "ok",
     "timestamp": 1672363102583,
     "user": {
      "displayName": "신정열",
      "userId": "17568906488684043814"
     },
     "user_tz": -540
    },
    "id": "sioxQ6A-UOdp",
    "outputId": "74e0b90b-b180-4d39-ed32-551380d29a74"
   },
   "outputs": [
    {
     "name": "stdout",
     "output_type": "stream",
     "text": [
      "Mounted at /content/drive\n"
     ]
    }
   ],
   "source": [
    "from google.colab import drive\n",
    "drive.mount('/content/drive')"
   ]
  },
  {
   "cell_type": "code",
   "execution_count": 3,
   "id": "aca633e3",
   "metadata": {
    "colab": {
     "base_uri": "https://localhost:8080/"
    },
    "executionInfo": {
     "elapsed": 2398,
     "status": "ok",
     "timestamp": 1672363167268,
     "user": {
      "displayName": "신정열",
      "userId": "17568906488684043814"
     },
     "user_tz": -540
    },
    "id": "aca633e3",
    "outputId": "58d8941f-fc13-490a-e0b6-6c98c9a2f10a"
   },
   "outputs": [
    {
     "data": {
      "text/plain": [
       "(197463, 2)"
      ]
     },
     "execution_count": 3,
     "metadata": {},
     "output_type": "execute_result"
    }
   ],
   "source": [
    "from pathlib import Path\n",
    "data_dir = Path('/content/drive/MyDrive/Colab Notebooks')\n",
    "# data_dir = Path('C:/Users/011/sinjy1203/data')\n",
    "lines = pd.read_csv(data_dir / 'fra.txt', names=['src', 'tar', 'lic'], sep='\\t')\n",
    "del lines['lic']\n",
    "lines.shape"
   ]
  },
  {
   "cell_type": "code",
   "execution_count": 4,
   "id": "3594c9c1",
   "metadata": {
    "executionInfo": {
     "elapsed": 4,
     "status": "ok",
     "timestamp": 1672363167269,
     "user": {
      "displayName": "신정열",
      "userId": "17568906488684043814"
     },
     "user_tz": -540
    },
    "id": "3594c9c1"
   },
   "outputs": [],
   "source": [
    "num_samples = 33000"
   ]
  },
  {
   "cell_type": "code",
   "execution_count": 5,
   "id": "28d43245",
   "metadata": {
    "executionInfo": {
     "elapsed": 3,
     "status": "ok",
     "timestamp": 1672363167269,
     "user": {
      "displayName": "신정열",
      "userId": "17568906488684043814"
     },
     "user_tz": -540
    },
    "id": "28d43245"
   },
   "outputs": [],
   "source": [
    "## preprocess func\n",
    "# 프랑스 악센트 제거\n",
    "def to_ascii(s):\n",
    "    return ''.join(c for c in unicodedata.normalize('NFD', s) if unicodedata.category(c) != 'Mn')\n",
    "\n",
    "# 악센트 제거, 구두점등을 처리\n",
    "def preprocess_sentence(sent):\n",
    "    sent = to_ascii(sent.lower())\n",
    "    sent = re.sub(r\"([?.!,¿])\", r\" \\1\", sent)\n",
    "    sent = re.sub(r\"[^a-zA-Z!.?]+\", r\" \", sent)\n",
    "    sent = re.sub(r\"\\s+\", \" \", sent)\n",
    "    return sent"
   ]
  },
  {
   "cell_type": "code",
   "execution_count": 6,
   "id": "66db9017",
   "metadata": {
    "executionInfo": {
     "elapsed": 3,
     "status": "ok",
     "timestamp": 1672363169503,
     "user": {
      "displayName": "신정열",
      "userId": "17568906488684043814"
     },
     "user_tz": -540
    },
    "id": "66db9017"
   },
   "outputs": [],
   "source": [
    "## 시작토큰 <sos>, 종료 토큰 <eos> 추가\n",
    "def load_preprocessed_data():\n",
    "    encoder_input, decoder_input, decoder_target = [], [], []\n",
    "    \n",
    "    with open(data_dir / 'fra.txt', 'r', encoding='UTF8') as lines:\n",
    "        for i, line in enumerate(lines):\n",
    "            src_line, tar_line, _ = line.strip().split('\\t')\n",
    "            src_line = [w for w in preprocess_sentence(src_line).split()]\n",
    "            \n",
    "            tar_line = preprocess_sentence(tar_line)\n",
    "            tar_line_in = [w for w in (\"<sos> \" + tar_line).split()]\n",
    "            tar_line_out = [w for w in (tar_line + ' <eos>').split()]\n",
    "            \n",
    "            encoder_input.append(src_line)\n",
    "            decoder_input.append(tar_line_in)\n",
    "            decoder_target.append(tar_line_out)\n",
    "            \n",
    "            if i == num_samples - 1:\n",
    "                break\n",
    "    \n",
    "    return encoder_input, decoder_input, decoder_target"
   ]
  },
  {
   "cell_type": "code",
   "execution_count": 7,
   "id": "4fef53d9",
   "metadata": {
    "executionInfo": {
     "elapsed": 544,
     "status": "ok",
     "timestamp": 1672363171139,
     "user": {
      "displayName": "신정열",
      "userId": "17568906488684043814"
     },
     "user_tz": -540
    },
    "id": "4fef53d9"
   },
   "outputs": [],
   "source": [
    "sents_en_in, sents_fra_in, sents_fra_out = load_preprocessed_data()"
   ]
  },
  {
   "cell_type": "code",
   "execution_count": 8,
   "id": "75e2498e",
   "metadata": {
    "colab": {
     "base_uri": "https://localhost:8080/"
    },
    "executionInfo": {
     "elapsed": 7,
     "status": "ok",
     "timestamp": 1672363171140,
     "user": {
      "displayName": "신정열",
      "userId": "17568906488684043814"
     },
     "user_tz": -540
    },
    "id": "75e2498e",
    "outputId": "a0517640-99c7-47d0-e6b0-ffb04c1bce86"
   },
   "outputs": [
    {
     "data": {
      "text/plain": [
       "[['go', '.'], ['go', '.'], ['go', '.'], ['go', '.'], ['hi', '.']]"
      ]
     },
     "execution_count": 8,
     "metadata": {},
     "output_type": "execute_result"
    }
   ],
   "source": [
    "sents_en_in[:5]"
   ]
  },
  {
   "cell_type": "code",
   "execution_count": 9,
   "id": "6b1f1436",
   "metadata": {
    "colab": {
     "base_uri": "https://localhost:8080/"
    },
    "executionInfo": {
     "elapsed": 5,
     "status": "ok",
     "timestamp": 1672363171140,
     "user": {
      "displayName": "신정열",
      "userId": "17568906488684043814"
     },
     "user_tz": -540
    },
    "id": "6b1f1436",
    "outputId": "204f6953-d88e-4299-c719-a633d33029bc"
   },
   "outputs": [
    {
     "data": {
      "text/plain": [
       "[['<sos>', 'va', '!'],\n",
       " ['<sos>', 'marche', '.'],\n",
       " ['<sos>', 'en', 'route', '!'],\n",
       " ['<sos>', 'bouge', '!'],\n",
       " ['<sos>', 'salut', '!']]"
      ]
     },
     "execution_count": 9,
     "metadata": {},
     "output_type": "execute_result"
    }
   ],
   "source": [
    "sents_fra_in[:5]"
   ]
  },
  {
   "cell_type": "code",
   "execution_count": 10,
   "id": "a87d029a",
   "metadata": {
    "colab": {
     "base_uri": "https://localhost:8080/"
    },
    "executionInfo": {
     "elapsed": 3,
     "status": "ok",
     "timestamp": 1672363172683,
     "user": {
      "displayName": "신정열",
      "userId": "17568906488684043814"
     },
     "user_tz": -540
    },
    "id": "a87d029a",
    "outputId": "b2d19415-2036-4bbe-e11b-4ddf7fb3580e"
   },
   "outputs": [
    {
     "data": {
      "text/plain": [
       "[['va', '!', '<eos>'],\n",
       " ['marche', '.', '<eos>'],\n",
       " ['en', 'route', '!', '<eos>'],\n",
       " ['bouge', '!', '<eos>'],\n",
       " ['salut', '!', '<eos>']]"
      ]
     },
     "execution_count": 10,
     "metadata": {},
     "output_type": "execute_result"
    }
   ],
   "source": [
    "sents_fra_out[:5]"
   ]
  },
  {
   "cell_type": "code",
   "execution_count": 11,
   "id": "3a1713cf",
   "metadata": {
    "executionInfo": {
     "elapsed": 1111,
     "status": "ok",
     "timestamp": 1672363173792,
     "user": {
      "displayName": "신정열",
      "userId": "17568906488684043814"
     },
     "user_tz": -540
    },
    "id": "3a1713cf"
   },
   "outputs": [],
   "source": [
    "## tokenizer(정수 인코딩), padding\n",
    "tokenizer_en = Tokenizer(filters='', lower=False)\n",
    "tokenizer_en.fit_on_texts(sents_en_in)\n",
    "encoder_input = tokenizer_en.texts_to_sequences(sents_en_in)\n",
    "encoder_input = pad_sequences(encoder_input, padding='post')\n",
    "\n",
    "tokenizer_fra = Tokenizer(filters=\"\", lower=False)\n",
    "tokenizer_fra.fit_on_texts(sents_fra_in)\n",
    "tokenizer_fra.fit_on_texts(sents_fra_out)\n",
    "\n",
    "decoder_input = tokenizer_fra.texts_to_sequences(sents_fra_in)\n",
    "decoder_input = pad_sequences(decoder_input, padding='post')\n",
    "\n",
    "decoder_target = tokenizer_fra.texts_to_sequences(sents_fra_out)\n",
    "decoder_target = pad_sequences(decoder_target, padding='post')"
   ]
  },
  {
   "cell_type": "code",
   "execution_count": 12,
   "id": "8a913696",
   "metadata": {
    "colab": {
     "base_uri": "https://localhost:8080/"
    },
    "executionInfo": {
     "elapsed": 3,
     "status": "ok",
     "timestamp": 1672363173792,
     "user": {
      "displayName": "신정열",
      "userId": "17568906488684043814"
     },
     "user_tz": -540
    },
    "id": "8a913696",
    "outputId": "760c342a-36c8-41b0-b235-f4096ffb2f4e"
   },
   "outputs": [
    {
     "data": {
      "text/plain": [
       "(33000, 8)"
      ]
     },
     "execution_count": 12,
     "metadata": {},
     "output_type": "execute_result"
    }
   ],
   "source": [
    "encoder_input.shape"
   ]
  },
  {
   "cell_type": "code",
   "execution_count": 13,
   "id": "ee07e7b8",
   "metadata": {
    "colab": {
     "base_uri": "https://localhost:8080/"
    },
    "executionInfo": {
     "elapsed": 7,
     "status": "ok",
     "timestamp": 1672363174242,
     "user": {
      "displayName": "신정열",
      "userId": "17568906488684043814"
     },
     "user_tz": -540
    },
    "id": "ee07e7b8",
    "outputId": "699f487b-f67e-447b-9dcc-abb8643a3530"
   },
   "outputs": [
    {
     "data": {
      "text/plain": [
       "(33000, 16)"
      ]
     },
     "execution_count": 13,
     "metadata": {},
     "output_type": "execute_result"
    }
   ],
   "source": [
    "decoder_input.shape"
   ]
  },
  {
   "cell_type": "code",
   "execution_count": 14,
   "id": "c0297ce7",
   "metadata": {
    "colab": {
     "base_uri": "https://localhost:8080/"
    },
    "executionInfo": {
     "elapsed": 4,
     "status": "ok",
     "timestamp": 1672363174242,
     "user": {
      "displayName": "신정열",
      "userId": "17568906488684043814"
     },
     "user_tz": -540
    },
    "id": "c0297ce7",
    "outputId": "c616e956-ac3e-422d-99f2-8fbd534b9f7a"
   },
   "outputs": [
    {
     "data": {
      "text/plain": [
       "(33000, 16)"
      ]
     },
     "execution_count": 14,
     "metadata": {},
     "output_type": "execute_result"
    }
   ],
   "source": [
    "decoder_target.shape"
   ]
  },
  {
   "cell_type": "code",
   "execution_count": 15,
   "id": "af02e6d3",
   "metadata": {
    "colab": {
     "base_uri": "https://localhost:8080/"
    },
    "executionInfo": {
     "elapsed": 3,
     "status": "ok",
     "timestamp": 1672363174242,
     "user": {
      "displayName": "신정열",
      "userId": "17568906488684043814"
     },
     "user_tz": -540
    },
    "id": "af02e6d3",
    "outputId": "a347e500-3ea5-4139-9aa5-3a3d0e434e16"
   },
   "outputs": [
    {
     "name": "stdout",
     "output_type": "stream",
     "text": [
      "4672 8137\n"
     ]
    }
   ],
   "source": [
    "src_vocab_size = len(tokenizer_en.word_index) + 1\n",
    "tar_vocab_size = len(tokenizer_fra.word_index) + 1\n",
    "print(src_vocab_size, tar_vocab_size)"
   ]
  },
  {
   "cell_type": "code",
   "execution_count": 16,
   "id": "488737b8",
   "metadata": {
    "executionInfo": {
     "elapsed": 3,
     "status": "ok",
     "timestamp": 1672363174243,
     "user": {
      "displayName": "신정열",
      "userId": "17568906488684043814"
     },
     "user_tz": -540
    },
    "id": "488737b8"
   },
   "outputs": [],
   "source": [
    "src_to_index = tokenizer_en.word_index\n",
    "index_to_src = tokenizer_en.index_word\n",
    "tar_to_index = tokenizer_fra.word_index\n",
    "index_to_tar = tokenizer_fra.index_word"
   ]
  },
  {
   "cell_type": "markdown",
   "id": "7347e9bb",
   "metadata": {
    "id": "7347e9bb"
   },
   "source": [
    "### shuffle & train test split"
   ]
  },
  {
   "cell_type": "code",
   "execution_count": 17,
   "id": "f9973629",
   "metadata": {
    "colab": {
     "base_uri": "https://localhost:8080/"
    },
    "executionInfo": {
     "elapsed": 2,
     "status": "ok",
     "timestamp": 1672363175918,
     "user": {
      "displayName": "신정열",
      "userId": "17568906488684043814"
     },
     "user_tz": -540
    },
    "id": "f9973629",
    "outputId": "b9a53e79-ac23-4b9f-b832-10e2988efd2a"
   },
   "outputs": [
    {
     "data": {
      "text/plain": [
       "array([23919, 10332, 32241, ..., 14023,  3859,  9916])"
      ]
     },
     "execution_count": 17,
     "metadata": {},
     "output_type": "execute_result"
    }
   ],
   "source": [
    "## indices shuffle\n",
    "indices = np.arange(encoder_input.shape[0])\n",
    "np.random.shuffle(indices)\n",
    "indices"
   ]
  },
  {
   "cell_type": "code",
   "execution_count": 18,
   "id": "c484f56a",
   "metadata": {
    "executionInfo": {
     "elapsed": 1,
     "status": "ok",
     "timestamp": 1672363176478,
     "user": {
      "displayName": "신정열",
      "userId": "17568906488684043814"
     },
     "user_tz": -540
    },
    "id": "c484f56a"
   },
   "outputs": [],
   "source": [
    "encoder_input = encoder_input[indices]\n",
    "decoder_input = decoder_input[indices]\n",
    "decoder_target = decoder_target[indices]"
   ]
  },
  {
   "cell_type": "code",
   "execution_count": 19,
   "id": "96349e52",
   "metadata": {
    "colab": {
     "base_uri": "https://localhost:8080/"
    },
    "executionInfo": {
     "elapsed": 5,
     "status": "ok",
     "timestamp": 1672363177190,
     "user": {
      "displayName": "신정열",
      "userId": "17568906488684043814"
     },
     "user_tz": -540
    },
    "id": "96349e52",
    "outputId": "77f46abd-5d52-4c16-c5f5-70a62c09a016"
   },
   "outputs": [
    {
     "data": {
      "text/plain": [
       "array([   5,    7, 1688,    1,    0,    0,    0,    0], dtype=int32)"
      ]
     },
     "execution_count": 19,
     "metadata": {},
     "output_type": "execute_result"
    }
   ],
   "source": [
    "encoder_input[30997]"
   ]
  },
  {
   "cell_type": "code",
   "execution_count": 20,
   "id": "aceff117",
   "metadata": {
    "colab": {
     "base_uri": "https://localhost:8080/"
    },
    "executionInfo": {
     "elapsed": 4,
     "status": "ok",
     "timestamp": 1672363177190,
     "user": {
      "displayName": "신정열",
      "userId": "17568906488684043814"
     },
     "user_tz": -540
    },
    "id": "aceff117",
    "outputId": "1b5a65e8-e6a7-4493-fc62-cd98eeddb8db"
   },
   "outputs": [
    {
     "data": {
      "text/plain": [
       "array([   2,    7,    5, 1351,    1,    0,    0,    0,    0,    0,    0,\n",
       "          0,    0,    0,    0,    0], dtype=int32)"
      ]
     },
     "execution_count": 20,
     "metadata": {},
     "output_type": "execute_result"
    }
   ],
   "source": [
    "decoder_input[30997]"
   ]
  },
  {
   "cell_type": "code",
   "execution_count": 21,
   "id": "68d43a09",
   "metadata": {
    "colab": {
     "base_uri": "https://localhost:8080/"
    },
    "executionInfo": {
     "elapsed": 3,
     "status": "ok",
     "timestamp": 1672363177191,
     "user": {
      "displayName": "신정열",
      "userId": "17568906488684043814"
     },
     "user_tz": -540
    },
    "id": "68d43a09",
    "outputId": "2c7c4cad-4322-40d9-ac7d-7b7feb17a4a8"
   },
   "outputs": [
    {
     "data": {
      "text/plain": [
       "array([   7,    5, 1351,    1,    0,    0,    0,    0,    0,    0,    0,\n",
       "          0,    0,    0,    0], dtype=int32)"
      ]
     },
     "execution_count": 21,
     "metadata": {},
     "output_type": "execute_result"
    }
   ],
   "source": [
    "decoder_input[30997][1:]"
   ]
  },
  {
   "cell_type": "code",
   "execution_count": 22,
   "id": "dac8e5eb",
   "metadata": {
    "colab": {
     "base_uri": "https://localhost:8080/"
    },
    "executionInfo": {
     "elapsed": 2,
     "status": "ok",
     "timestamp": 1672363177779,
     "user": {
      "displayName": "신정열",
      "userId": "17568906488684043814"
     },
     "user_tz": -540
    },
    "id": "dac8e5eb",
    "outputId": "02bce783-e9ec-4d03-9197-62eb77df19f3"
   },
   "outputs": [
    {
     "data": {
      "text/plain": [
       "array([   7,    5, 1351,    1,    3,    0,    0,    0,    0,    0,    0,\n",
       "          0,    0,    0,    0], dtype=int32)"
      ]
     },
     "execution_count": 22,
     "metadata": {},
     "output_type": "execute_result"
    }
   ],
   "source": [
    "decoder_target[30997][:-1]"
   ]
  },
  {
   "cell_type": "code",
   "execution_count": 23,
   "id": "c71e5379",
   "metadata": {
    "executionInfo": {
     "elapsed": 1,
     "status": "ok",
     "timestamp": 1672363177779,
     "user": {
      "displayName": "신정열",
      "userId": "17568906488684043814"
     },
     "user_tz": -540
    },
    "id": "c71e5379"
   },
   "outputs": [],
   "source": [
    "## 0.2% test split\n",
    "n_of_val = int(33000*0.1)\n",
    "\n",
    "encoder_input_train = encoder_input[:-n_of_val]\n",
    "decoder_input_train = decoder_input[:-n_of_val]\n",
    "decoder_target_train = decoder_target[:-n_of_val]\n",
    "\n",
    "encoder_input_test = encoder_input[-n_of_val:]\n",
    "decoder_input_test = decoder_input[-n_of_val:]\n",
    "decoder_target_test = decoder_target[-n_of_val:]"
   ]
  },
  {
   "cell_type": "code",
   "execution_count": 24,
   "id": "ffa6177d",
   "metadata": {
    "colab": {
     "base_uri": "https://localhost:8080/"
    },
    "executionInfo": {
     "elapsed": 4,
     "status": "ok",
     "timestamp": 1672363179559,
     "user": {
      "displayName": "신정열",
      "userId": "17568906488684043814"
     },
     "user_tz": -540
    },
    "id": "ffa6177d",
    "outputId": "5fa8885b-06d3-44a0-d06b-758a3bc45ef7"
   },
   "outputs": [
    {
     "data": {
      "text/plain": [
       "(29700, 8)"
      ]
     },
     "execution_count": 24,
     "metadata": {},
     "output_type": "execute_result"
    }
   ],
   "source": [
    "encoder_input_train.shape"
   ]
  },
  {
   "cell_type": "markdown",
   "id": "e248569f",
   "metadata": {
    "id": "e248569f"
   },
   "source": [
    "### modeling"
   ]
  },
  {
   "cell_type": "code",
   "execution_count": 25,
   "id": "ddb1474c",
   "metadata": {
    "executionInfo": {
     "elapsed": 3,
     "status": "ok",
     "timestamp": 1672363180523,
     "user": {
      "displayName": "신정열",
      "userId": "17568906488684043814"
     },
     "user_tz": -540
    },
    "id": "ddb1474c"
   },
   "outputs": [],
   "source": [
    "from tensorflow.keras.layers import Input, LSTM, Embedding, Dense, Masking\n",
    "from tensorflow.keras.models import Model"
   ]
  },
  {
   "cell_type": "markdown",
   "id": "768806ff",
   "metadata": {
    "id": "768806ff"
   },
   "source": [
    "**masking**: mask_value(padding_value)를 연산에 제외하는 역할"
   ]
  },
  {
   "cell_type": "code",
   "execution_count": 26,
   "id": "91cb02bd",
   "metadata": {
    "executionInfo": {
     "elapsed": 4132,
     "status": "ok",
     "timestamp": 1672363296068,
     "user": {
      "displayName": "신정열",
      "userId": "17568906488684043814"
     },
     "user_tz": -540
    },
    "id": "91cb02bd"
   },
   "outputs": [],
   "source": [
    "embedding_dim = 64\n",
    "hidden_units = 64\n",
    "\n",
    "## 인코더\n",
    "encoder_inputs = Input(shape=(None,))\n",
    "enc_emb = Embedding(src_vocab_size, embedding_dim, mask_zero=True)(encoder_inputs)\n",
    "\n",
    "encoder_lstm = LSTM(hidden_units, return_state=True)\n",
    "encoder_outputs, state_h, state_c = encoder_lstm(enc_emb)\n",
    "\n",
    "encoder_states = [state_h, state_c]"
   ]
  },
  {
   "cell_type": "code",
   "execution_count": 27,
   "id": "6f0cd915",
   "metadata": {
    "executionInfo": {
     "elapsed": 1108,
     "status": "ok",
     "timestamp": 1672363337021,
     "user": {
      "displayName": "신정열",
      "userId": "17568906488684043814"
     },
     "user_tz": -540
    },
    "id": "6f0cd915"
   },
   "outputs": [],
   "source": [
    "## 디코더\n",
    "decoder_inputs = Input(shape=(None,))\n",
    "dec_emb_layer = Embedding(tar_vocab_size, hidden_units, mask_zero=True)\n",
    "dec_emb = dec_emb_layer(decoder_inputs)\n",
    "\n",
    "decoder_lstm = LSTM(hidden_units, return_sequences=True, return_state=True)\n",
    "\n",
    "decoder_outputs, _, _ = decoder_lstm(dec_emb, \n",
    "                                   initial_state=encoder_states)\n",
    "\n",
    "decoder_dense = Dense(tar_vocab_size, activation='softmax')\n",
    "decoder_outputs = decoder_dense(decoder_outputs)\n",
    "\n",
    "model = Model([encoder_inputs, decoder_inputs], decoder_outputs)\n",
    "model.compile(optimizer='adam', loss='sparse_categorical_crossentropy', \n",
    "              metrics=['acc'])"
   ]
  },
  {
   "cell_type": "code",
   "execution_count": 28,
   "id": "0ab45974",
   "metadata": {
    "colab": {
     "base_uri": "https://localhost:8080/"
    },
    "executionInfo": {
     "elapsed": 353108,
     "status": "ok",
     "timestamp": 1672363694257,
     "user": {
      "displayName": "신정열",
      "userId": "17568906488684043814"
     },
     "user_tz": -540
    },
    "id": "0ab45974",
    "outputId": "7e323ed6-1745-4502-bace-a23b43c3416e"
   },
   "outputs": [
    {
     "name": "stdout",
     "output_type": "stream",
     "text": [
      "Epoch 1/50\n",
      "233/233 [==============================] - 21s 41ms/step - loss: 2.2104 - acc: 0.1629 - val_loss: 1.8764 - val_acc: 0.1643\n",
      "Epoch 2/50\n",
      "233/233 [==============================] - 7s 29ms/step - loss: 1.7435 - acc: 0.2211 - val_loss: 1.6371 - val_acc: 0.3304\n",
      "Epoch 3/50\n",
      "233/233 [==============================] - 7s 29ms/step - loss: 1.5528 - acc: 0.3558 - val_loss: 1.4914 - val_acc: 0.3880\n",
      "Epoch 4/50\n",
      "233/233 [==============================] - 7s 29ms/step - loss: 1.4354 - acc: 0.3939 - val_loss: 1.4096 - val_acc: 0.4141\n",
      "Epoch 5/50\n",
      "233/233 [==============================] - 7s 29ms/step - loss: 1.3443 - acc: 0.4368 - val_loss: 1.3310 - val_acc: 0.4573\n",
      "Epoch 6/50\n",
      "233/233 [==============================] - 7s 29ms/step - loss: 1.2678 - acc: 0.4678 - val_loss: 1.2756 - val_acc: 0.4746\n",
      "Epoch 7/50\n",
      "233/233 [==============================] - 7s 30ms/step - loss: 1.2077 - acc: 0.4884 - val_loss: 1.2299 - val_acc: 0.4937\n",
      "Epoch 8/50\n",
      "233/233 [==============================] - 7s 29ms/step - loss: 1.1536 - acc: 0.5086 - val_loss: 1.1861 - val_acc: 0.5111\n",
      "Epoch 9/50\n",
      "233/233 [==============================] - 7s 29ms/step - loss: 1.1012 - acc: 0.5276 - val_loss: 1.1494 - val_acc: 0.5225\n",
      "Epoch 10/50\n",
      "233/233 [==============================] - 7s 29ms/step - loss: 1.0544 - acc: 0.5411 - val_loss: 1.1122 - val_acc: 0.5366\n",
      "Epoch 11/50\n",
      "233/233 [==============================] - 7s 30ms/step - loss: 1.0108 - acc: 0.5531 - val_loss: 1.0797 - val_acc: 0.5489\n",
      "Epoch 12/50\n",
      "233/233 [==============================] - 8s 34ms/step - loss: 0.9727 - acc: 0.5644 - val_loss: 1.0558 - val_acc: 0.5527\n",
      "Epoch 13/50\n",
      "233/233 [==============================] - 7s 29ms/step - loss: 0.9381 - acc: 0.5755 - val_loss: 1.0329 - val_acc: 0.5554\n",
      "Epoch 14/50\n",
      "233/233 [==============================] - 7s 29ms/step - loss: 0.9059 - acc: 0.5845 - val_loss: 1.0115 - val_acc: 0.5633\n",
      "Epoch 15/50\n",
      "233/233 [==============================] - 7s 29ms/step - loss: 0.8758 - acc: 0.5931 - val_loss: 0.9932 - val_acc: 0.5712\n",
      "Epoch 16/50\n",
      "233/233 [==============================] - 7s 29ms/step - loss: 0.8486 - acc: 0.6002 - val_loss: 0.9757 - val_acc: 0.5777\n",
      "Epoch 17/50\n",
      "233/233 [==============================] - 7s 29ms/step - loss: 0.8222 - acc: 0.6078 - val_loss: 0.9621 - val_acc: 0.5789\n",
      "Epoch 18/50\n",
      "233/233 [==============================] - 7s 29ms/step - loss: 0.7989 - acc: 0.6132 - val_loss: 0.9478 - val_acc: 0.5840\n",
      "Epoch 19/50\n",
      "233/233 [==============================] - 7s 28ms/step - loss: 0.7744 - acc: 0.6207 - val_loss: 0.9363 - val_acc: 0.5864\n",
      "Epoch 20/50\n",
      "233/233 [==============================] - 7s 29ms/step - loss: 0.7524 - acc: 0.6265 - val_loss: 0.9229 - val_acc: 0.5913\n",
      "Epoch 21/50\n",
      "233/233 [==============================] - 7s 28ms/step - loss: 0.7310 - acc: 0.6323 - val_loss: 0.9123 - val_acc: 0.5922\n",
      "Epoch 22/50\n",
      "233/233 [==============================] - 7s 29ms/step - loss: 0.7101 - acc: 0.6386 - val_loss: 0.9037 - val_acc: 0.5942\n",
      "Epoch 23/50\n",
      "233/233 [==============================] - 7s 29ms/step - loss: 0.6903 - acc: 0.6437 - val_loss: 0.8930 - val_acc: 0.5999\n",
      "Epoch 24/50\n",
      "233/233 [==============================] - 7s 29ms/step - loss: 0.6711 - acc: 0.6495 - val_loss: 0.8836 - val_acc: 0.6017\n",
      "Epoch 25/50\n",
      "233/233 [==============================] - 7s 29ms/step - loss: 0.6525 - acc: 0.6549 - val_loss: 0.8753 - val_acc: 0.6036\n",
      "Epoch 26/50\n",
      "233/233 [==============================] - 7s 29ms/step - loss: 0.6343 - acc: 0.6611 - val_loss: 0.8664 - val_acc: 0.6089\n",
      "Epoch 27/50\n",
      "233/233 [==============================] - 7s 28ms/step - loss: 0.6179 - acc: 0.6655 - val_loss: 0.8606 - val_acc: 0.6090\n",
      "Epoch 28/50\n",
      "233/233 [==============================] - 7s 28ms/step - loss: 0.6004 - acc: 0.6724 - val_loss: 0.8510 - val_acc: 0.6137\n",
      "Epoch 29/50\n",
      "233/233 [==============================] - 7s 29ms/step - loss: 0.5841 - acc: 0.6774 - val_loss: 0.8481 - val_acc: 0.6135\n",
      "Epoch 30/50\n",
      "233/233 [==============================] - 7s 29ms/step - loss: 0.5683 - acc: 0.6835 - val_loss: 0.8416 - val_acc: 0.6160\n",
      "Epoch 31/50\n",
      "233/233 [==============================] - 7s 29ms/step - loss: 0.5534 - acc: 0.6889 - val_loss: 0.8346 - val_acc: 0.6180\n",
      "Epoch 32/50\n",
      "233/233 [==============================] - 7s 29ms/step - loss: 0.5387 - acc: 0.6937 - val_loss: 0.8292 - val_acc: 0.6218\n",
      "Epoch 33/50\n",
      "233/233 [==============================] - 7s 29ms/step - loss: 0.5247 - acc: 0.6992 - val_loss: 0.8236 - val_acc: 0.6237\n",
      "Epoch 34/50\n",
      "233/233 [==============================] - 7s 28ms/step - loss: 0.5111 - acc: 0.7049 - val_loss: 0.8204 - val_acc: 0.6228\n",
      "Epoch 35/50\n",
      "233/233 [==============================] - 7s 29ms/step - loss: 0.4983 - acc: 0.7101 - val_loss: 0.8158 - val_acc: 0.6247\n",
      "Epoch 36/50\n",
      "233/233 [==============================] - 7s 29ms/step - loss: 0.4866 - acc: 0.7144 - val_loss: 0.8121 - val_acc: 0.6258\n",
      "Epoch 37/50\n",
      "233/233 [==============================] - 7s 29ms/step - loss: 0.4732 - acc: 0.7204 - val_loss: 0.8086 - val_acc: 0.6271\n",
      "Epoch 38/50\n",
      "233/233 [==============================] - 8s 33ms/step - loss: 0.4612 - acc: 0.7250 - val_loss: 0.8051 - val_acc: 0.6300\n",
      "Epoch 39/50\n",
      "233/233 [==============================] - 7s 32ms/step - loss: 0.4502 - acc: 0.7300 - val_loss: 0.8014 - val_acc: 0.6334\n",
      "Epoch 40/50\n",
      "233/233 [==============================] - 7s 29ms/step - loss: 0.4400 - acc: 0.7345 - val_loss: 0.7995 - val_acc: 0.6315\n",
      "Epoch 41/50\n",
      "233/233 [==============================] - 7s 28ms/step - loss: 0.4289 - acc: 0.7399 - val_loss: 0.8001 - val_acc: 0.6323\n",
      "Epoch 42/50\n",
      "233/233 [==============================] - 7s 28ms/step - loss: 0.4191 - acc: 0.7442 - val_loss: 0.7960 - val_acc: 0.6352\n",
      "Epoch 43/50\n",
      "233/233 [==============================] - 7s 28ms/step - loss: 0.4092 - acc: 0.7487 - val_loss: 0.7939 - val_acc: 0.6374\n",
      "Epoch 44/50\n",
      "233/233 [==============================] - 7s 28ms/step - loss: 0.4000 - acc: 0.7538 - val_loss: 0.7936 - val_acc: 0.6392\n",
      "Epoch 45/50\n",
      "233/233 [==============================] - 7s 28ms/step - loss: 0.3909 - acc: 0.7584 - val_loss: 0.7929 - val_acc: 0.6400\n",
      "Epoch 46/50\n",
      "233/233 [==============================] - 7s 29ms/step - loss: 0.3825 - acc: 0.7626 - val_loss: 0.7915 - val_acc: 0.6423\n",
      "Epoch 47/50\n",
      "233/233 [==============================] - 7s 28ms/step - loss: 0.3756 - acc: 0.7652 - val_loss: 0.7892 - val_acc: 0.6430\n",
      "Epoch 48/50\n",
      "233/233 [==============================] - 7s 28ms/step - loss: 0.3659 - acc: 0.7704 - val_loss: 0.7880 - val_acc: 0.6464\n",
      "Epoch 49/50\n",
      "233/233 [==============================] - 7s 29ms/step - loss: 0.3582 - acc: 0.7749 - val_loss: 0.7882 - val_acc: 0.6466\n",
      "Epoch 50/50\n",
      "233/233 [==============================] - 7s 28ms/step - loss: 0.3506 - acc: 0.7787 - val_loss: 0.7874 - val_acc: 0.6470\n"
     ]
    },
    {
     "data": {
      "text/plain": [
       "<keras.callbacks.History at 0x7f00702ed400>"
      ]
     },
     "execution_count": 28,
     "metadata": {},
     "output_type": "execute_result"
    }
   ],
   "source": [
    "model.fit(x=[encoder_input_train, decoder_input_train], y=decoder_target_train, \n",
    "         validation_data=([encoder_input_test, decoder_input_test], \n",
    "                         decoder_target_test), \n",
    "         batch_size=128, epochs=50)"
   ]
  },
  {
   "cell_type": "markdown",
   "id": "sQ64ha_LgjV2",
   "metadata": {
    "id": "sQ64ha_LgjV2"
   },
   "source": [
    "### Testing"
   ]
  },
  {
   "cell_type": "code",
   "execution_count": 31,
   "id": "yo1J47qQb_D-",
   "metadata": {
    "executionInfo": {
     "elapsed": 2525,
     "status": "ok",
     "timestamp": 1672364241397,
     "user": {
      "displayName": "신정열",
      "userId": "17568906488684043814"
     },
     "user_tz": -540
    },
    "id": "yo1J47qQb_D-"
   },
   "outputs": [],
   "source": [
    "# 인코더\n",
    "encoder_model = Model(encoder_inputs, encoder_states)\n",
    "\n",
    "# 디코더\n",
    "decoder_state_input_h = Input(shape=(hidden_units,))\n",
    "decoder_state_input_c = Input(shape=(hidden_units,))\n",
    "decoder_states_inputs = [decoder_state_input_h, decoder_state_input_c]\n",
    "\n",
    "dec_emb2 = dec_emb_layer(decoder_inputs)\n",
    "\n",
    "decoder_outputs2, state_h2, state_c2 = decoder_lstm(dec_emb2, \n",
    "                                                    initial_state=decoder_states_inputs)\n",
    "decoder_states2 = [state_h2, state_c2]\n",
    "decoder_outputs2 = decoder_dense(decoder_outputs2)\n",
    "\n",
    "decoder_model = Model([decoder_inputs] + decoder_states_inputs, [decoder_outputs2] + decoder_states2)"
   ]
  },
  {
   "cell_type": "code",
   "execution_count": 37,
   "id": "7feFVCKIrSPH",
   "metadata": {
    "executionInfo": {
     "elapsed": 927,
     "status": "ok",
     "timestamp": 1672367703099,
     "user": {
      "displayName": "신정열",
      "userId": "17568906488684043814"
     },
     "user_tz": -540
    },
    "id": "7feFVCKIrSPH"
   },
   "outputs": [],
   "source": [
    "def decode_sequence(input_seq):\n",
    "    states_value = encoder_model.predict(input_seq)\n",
    "\n",
    "    target_seq = np.zeros((1, 1))\n",
    "    target_seq[0][0] = tar_to_index['<sos>']\n",
    "\n",
    "    stop_condition = False\n",
    "    decoded_sentence = ''\n",
    "\n",
    "    while not stop_condition:\n",
    "        output_tokens, h, c = decoder_model.predict([target_seq]+states_value)\n",
    "\n",
    "        sampled_token_index = np.argmax(output_tokens[0, -1, :])\n",
    "        sampled_char = index_to_tar[sampled_token_index]\n",
    "\n",
    "        decoded_sentence += ' ' + sampled_char\n",
    "\n",
    "        if sampled_char == '<eos>' or len(decoded_sentence) > 50:\n",
    "            stop_condition = True\n",
    "        \n",
    "        target_seq = np.zeros((1,1))\n",
    "        target_seq[0, 0] = sampled_token_index\n",
    "\n",
    "        states_value = [h, c]\n",
    "    return decoded_sentence"
   ]
  },
  {
   "cell_type": "code",
   "execution_count": 35,
   "id": "Mu8OBka1yZun",
   "metadata": {
    "executionInfo": {
     "elapsed": 909,
     "status": "ok",
     "timestamp": 1672367600865,
     "user": {
      "displayName": "신정열",
      "userId": "17568906488684043814"
     },
     "user_tz": -540
    },
    "id": "Mu8OBka1yZun"
   },
   "outputs": [],
   "source": [
    "def seq_to_src(input_seq):\n",
    "    sentence = ''\n",
    "    for encoded_word in input_seq:\n",
    "        if(encoded_word != 0):\n",
    "            sentence = sentence + index_to_src[encoded_word] + ' '\n",
    "    return sentence\n",
    "\n",
    "def seq_to_tar(input_seq):\n",
    "    sentence = ''\n",
    "    for encoded_word in input_seq:\n",
    "        if(encoded_word != 0 and encoded_word != tar_to_index['<sos>'] and encoded_word != tar_to_index['<eos>']):\n",
    "            sentence = sentence + index_to_tar[encoded_word] + ' '\n",
    "    return sentence"
   ]
  },
  {
   "cell_type": "code",
   "execution_count": 38,
   "id": "UZpOWFCK4G7r",
   "metadata": {
    "colab": {
     "base_uri": "https://localhost:8080/"
    },
    "executionInfo": {
     "elapsed": 4351,
     "status": "ok",
     "timestamp": 1672367711469,
     "user": {
      "displayName": "신정열",
      "userId": "17568906488684043814"
     },
     "user_tz": -540
    },
    "id": "UZpOWFCK4G7r",
    "outputId": "fc63be53-39fe-4b8b-ed9b-e515a6229777"
   },
   "outputs": [
    {
     "name": "stdout",
     "output_type": "stream",
     "text": [
      "1/1 [==============================] - 0s 15ms/step\n",
      "1/1 [==============================] - 1s 1s/step\n",
      "1/1 [==============================] - 0s 17ms/step\n",
      "1/1 [==============================] - 0s 22ms/step\n",
      "1/1 [==============================] - 0s 17ms/step\n",
      "1/1 [==============================] - 0s 17ms/step\n",
      "1/1 [==============================] - 0s 17ms/step\n",
      "1/1 [==============================] - 0s 73ms/step\n",
      "1/1 [==============================] - 0s 16ms/step\n",
      "입력문장 : i got soaked . \n",
      "정답문장 : je me suis fait tremper . \n",
      "번역문장 : je me suis presente mes excuses . \n",
      "--------------------------------------------------\n",
      "1/1 [==============================] - 0s 15ms/step\n",
      "1/1 [==============================] - 0s 16ms/step\n",
      "1/1 [==============================] - 0s 15ms/step\n",
      "1/1 [==============================] - 0s 16ms/step\n",
      "1/1 [==============================] - 0s 17ms/step\n",
      "1/1 [==============================] - 0s 18ms/step\n",
      "1/1 [==============================] - 0s 17ms/step\n",
      "1/1 [==============================] - 0s 19ms/step\n",
      "입력문장 : she decided to go . \n",
      "정답문장 : elle a decide d y aller . \n",
      "번역문장 : elle a peut etre honnete . \n",
      "--------------------------------------------------\n",
      "1/1 [==============================] - 0s 15ms/step\n",
      "1/1 [==============================] - 0s 20ms/step\n",
      "1/1 [==============================] - 0s 15ms/step\n",
      "1/1 [==============================] - 0s 16ms/step\n",
      "1/1 [==============================] - 0s 15ms/step\n",
      "1/1 [==============================] - 0s 17ms/step\n",
      "1/1 [==============================] - 0s 17ms/step\n",
      "1/1 [==============================] - 0s 16ms/step\n",
      "1/1 [==============================] - 0s 16ms/step\n",
      "입력문장 : is that so bad ? \n",
      "정답문장 : est ce tellement mauvais ? \n",
      "번역문장 : est ce une heure de courant ? \n",
      "--------------------------------------------------\n",
      "1/1 [==============================] - 0s 17ms/step\n",
      "1/1 [==============================] - 0s 17ms/step\n",
      "1/1 [==============================] - 0s 23ms/step\n",
      "1/1 [==============================] - 0s 17ms/step\n",
      "1/1 [==============================] - 0s 19ms/step\n",
      "1/1 [==============================] - 0s 16ms/step\n",
      "1/1 [==============================] - 0s 15ms/step\n",
      "1/1 [==============================] - 0s 15ms/step\n",
      "1/1 [==============================] - 0s 15ms/step\n",
      "입력문장 : she looks sad . \n",
      "정답문장 : elle parait triste . \n",
      "번역문장 : elle a l air en colere . \n",
      "--------------------------------------------------\n",
      "1/1 [==============================] - 0s 17ms/step\n",
      "1/1 [==============================] - 0s 16ms/step\n",
      "1/1 [==============================] - 0s 22ms/step\n",
      "1/1 [==============================] - 0s 22ms/step\n",
      "1/1 [==============================] - 0s 16ms/step\n",
      "1/1 [==============================] - 0s 15ms/step\n",
      "1/1 [==============================] - 0s 16ms/step\n",
      "1/1 [==============================] - 0s 15ms/step\n",
      "1/1 [==============================] - 0s 16ms/step\n",
      "1/1 [==============================] - 0s 16ms/step\n",
      "입력문장 : don t drink that . \n",
      "정답문장 : ne buvez pas ca ! \n",
      "번역문장 : ne ne pas pas a la peter ! \n",
      "--------------------------------------------------\n"
     ]
    }
   ],
   "source": [
    "for seq_index in [3, 50, 100, 300, 1001]:\n",
    "    input_seq = encoder_input_train[seq_index:seq_index+1]\n",
    "    decoded_sentence = decode_sequence(input_seq)\n",
    "\n",
    "    print(\"입력문장 :\",seq_to_src(encoder_input_train[seq_index]))\n",
    "    print(\"정답문장 :\",seq_to_tar(decoder_input_train[seq_index]))\n",
    "    print(\"번역문장 :\",decoded_sentence[1:-5])\n",
    "    print(\"-\"*50)"
   ]
  },
  {
   "cell_type": "code",
   "execution_count": 39,
   "id": "qoLyLNaG4aZ_",
   "metadata": {
    "colab": {
     "base_uri": "https://localhost:8080/"
    },
    "executionInfo": {
     "elapsed": 3090,
     "status": "ok",
     "timestamp": 1672367739532,
     "user": {
      "displayName": "신정열",
      "userId": "17568906488684043814"
     },
     "user_tz": -540
    },
    "id": "qoLyLNaG4aZ_",
    "outputId": "dde98a35-8734-4835-e753-3a96715b3fc0"
   },
   "outputs": [
    {
     "name": "stdout",
     "output_type": "stream",
     "text": [
      "1/1 [==============================] - 0s 18ms/step\n",
      "1/1 [==============================] - 0s 19ms/step\n",
      "1/1 [==============================] - 0s 18ms/step\n",
      "1/1 [==============================] - 0s 18ms/step\n",
      "1/1 [==============================] - 0s 25ms/step\n",
      "1/1 [==============================] - 0s 23ms/step\n",
      "1/1 [==============================] - 0s 16ms/step\n",
      "1/1 [==============================] - 0s 18ms/step\n",
      "1/1 [==============================] - 0s 18ms/step\n",
      "입력문장 : i m hit ! \n",
      "정답문장 : je suis touchee ! \n",
      "번역문장 : je suis en train de fumer . \n",
      "--------------------------------------------------\n",
      "1/1 [==============================] - 0s 31ms/step\n",
      "1/1 [==============================] - 0s 40ms/step\n",
      "1/1 [==============================] - 0s 29ms/step\n",
      "1/1 [==============================] - 0s 31ms/step\n",
      "1/1 [==============================] - 0s 45ms/step\n",
      "1/1 [==============================] - 0s 79ms/step\n",
      "입력문장 : we re starved . \n",
      "정답문장 : nous sommes affames . \n",
      "번역문장 : nous sommes affamees . \n",
      "--------------------------------------------------\n",
      "1/1 [==============================] - 0s 70ms/step\n",
      "1/1 [==============================] - 0s 83ms/step\n",
      "1/1 [==============================] - 0s 47ms/step\n",
      "1/1 [==============================] - 0s 28ms/step\n",
      "1/1 [==============================] - 0s 28ms/step\n",
      "1/1 [==============================] - 0s 18ms/step\n",
      "입력문장 : i was horrified . \n",
      "정답문장 : j ai ete horrifie . \n",
      "번역문장 : je fus horrifiee . \n",
      "--------------------------------------------------\n",
      "1/1 [==============================] - 0s 14ms/step\n",
      "1/1 [==============================] - 0s 16ms/step\n",
      "1/1 [==============================] - 0s 16ms/step\n",
      "1/1 [==============================] - 0s 16ms/step\n",
      "1/1 [==============================] - 0s 16ms/step\n",
      "1/1 [==============================] - 0s 17ms/step\n",
      "1/1 [==============================] - 0s 16ms/step\n",
      "입력문장 : i m naked . \n",
      "정답문장 : je me trouve nue . \n",
      "번역문장 : je suis a moi . \n",
      "--------------------------------------------------\n",
      "1/1 [==============================] - 0s 16ms/step\n",
      "1/1 [==============================] - 0s 18ms/step\n",
      "1/1 [==============================] - 0s 17ms/step\n",
      "1/1 [==============================] - 0s 18ms/step\n",
      "1/1 [==============================] - 0s 18ms/step\n",
      "1/1 [==============================] - 0s 25ms/step\n",
      "1/1 [==============================] - 0s 19ms/step\n",
      "입력문장 : it was all planned . \n",
      "정답문장 : tout avait ete prevu . \n",
      "번역문장 : ce fut etait humide . \n",
      "--------------------------------------------------\n"
     ]
    }
   ],
   "source": [
    "for seq_index in [3, 50, 100, 300, 1001]:\n",
    "    input_seq = encoder_input_test[seq_index: seq_index + 1]\n",
    "    decoded_sentence = decode_sequence(input_seq)\n",
    "\n",
    "    print(\"입력문장 :\",seq_to_src(encoder_input_test[seq_index]))\n",
    "    print(\"정답문장 :\",seq_to_tar(decoder_input_test[seq_index]))\n",
    "    print(\"번역문장 :\",decoded_sentence[1:-5])\n",
    "    print(\"-\"*50)"
   ]
  },
  {
   "cell_type": "markdown",
   "id": "c4bb3197",
   "metadata": {
    "id": "L1hagFr64oQJ"
   },
   "source": [
    "## BLEU Score (Bilingual Evaluation)\n",
    "- 기계번역의 성능 측정 지표"
   ]
  },
  {
   "cell_type": "markdown",
   "id": "c3962ff7",
   "metadata": {},
   "source": [
    "### BLEU (Bilingual Evaluation Understudy)\n",
    "- 기계번역 결과와 사람이 번역한 결과가 얼마나 유사한지 나타내는 정도\n",
    "- 높을 수록 좋음\n",
    "\n",
    "1. 단어 개수 카운트로 측정하기 (Unigram Precision)\\\n",
    "ca: 기계번역을 통해 번역한 text\\\n",
    "ref: 정답\\\n",
    "$Unigram Precision = \\frac{ca단어들 중 ref에 있는 단어 개수}{ca단어들의 개수}$\n",
    "2. 중복을 제거하여 보정하기 (Modified Unigram Precision)\\\n",
    "1방법에서 중복을 제거하여 카운트\n",
    "3. 순서를 고려하기 위해서 n-gram으로 확장\\\n",
    "시퀀스 형태로 카운트\n",
    "\n",
    "=> 1,2,3번 방법 + 짧은 문장 패널티를 포함한 BLEU 식\\\n",
    "\n",
    "$BLEU = BP \\times exp(\\sum_{n=1}^{N} w_n log p_n)$\\\n",
    "BP: 짧은 문장 패널티\\\n",
    "w_n: 각 p_n의 가중치\\\n",
    "p_n: n_gram을 이용한 precision\\"
   ]
  }
 ],
 "metadata": {
  "accelerator": "GPU",
  "colab": {
   "provenance": []
  },
  "gpuClass": "standard",
  "kernelspec": {
   "display_name": "machine-learning",
   "language": "python",
   "name": "machine-learning"
  },
  "language_info": {
   "codemirror_mode": {
    "name": "ipython",
    "version": 3
   },
   "file_extension": ".py",
   "mimetype": "text/x-python",
   "name": "python",
   "nbconvert_exporter": "python",
   "pygments_lexer": "ipython3",
   "version": "3.7.15"
  }
 },
 "nbformat": 4,
 "nbformat_minor": 5
}
