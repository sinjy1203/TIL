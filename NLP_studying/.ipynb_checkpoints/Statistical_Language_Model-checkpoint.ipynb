{
 "cells": [
  {
   "cell_type": "markdown",
   "id": "74970334",
   "metadata": {},
   "source": [
    "# 언어 모델(Language Model)\n",
    "단어 시퀀스(문장)에 확률을 할당하는 모델\\\n",
    "이 문장의 적절성을 파단하는 모델\\\n",
    "통계기반 언어모델"
   ]
  },
  {
   "cell_type": "markdown",
   "id": "fd119dba",
   "metadata": {},
   "source": [
    "## 주어진 이전 단어들로 부터 다음 단어 예측\n",
    "단어시퀀스에 확률을 할당하기 위한 가장 보편적인 방법"
   ]
  },
  {
   "cell_type": "markdown",
   "id": "3c744d5b",
   "metadata": {},
   "source": [
    "하나의 단어: $w$, 단어시퀀스: $W$\\\n",
    "$P(W) = P(w_1,...,w_n)$: 단어 시퀀스의 확률\\\n",
    "$P(w_n|w_1,...,w_{n-1})$: n-1개의 이전 단어가 있을 때 다음 n번째 단어의 확률\n",
    "\n",
    "=> $P(W) = P(w_1,...,w_n) = \\prod_{i=1}^nP(w_i|w_1,...,w_{i-1})$"
   ]
  },
  {
   "cell_type": "markdown",
   "id": "37434c0f",
   "metadata": {},
   "source": [
    "## 통계적 언어모델(Statistical Language Model, SLM)"
   ]
  },
  {
   "cell_type": "markdown",
   "id": "3dc83abd",
   "metadata": {},
   "source": [
    "![title](markdown_img/slm.jpg)"
   ]
  },
  {
   "cell_type": "markdown",
   "id": "94007b64",
   "metadata": {},
   "source": [
    "![](C:\\Users\\sinjy\\jupyter_notebook\\markdown_img\\slm.jpg)"
   ]
  },
  {
   "cell_type": "markdown",
   "id": "8367f41a",
   "metadata": {},
   "source": [
    "### N-gram 언어모델(N-gram Language Model)\n",
    "이전 N-1개의 단어들 만을 고려해 카운트기반 확률을 구함\\\n",
    "=> 이를 통해 희소문제를 조금 해결\\\n",
    "\n",
    "**한계**\\\n",
    "여전한 희소문제\\\n",
    "N선택 문제"
   ]
  },
  {
   "cell_type": "markdown",
   "id": "2dd9580b",
   "metadata": {},
   "source": [
    "### 펄플렉서티(Perplexity, PPL)\n",
    "모델들의 성능 비교를 위해 모델의 성능을 수치화하는 방법\\\n",
    "모든 시점마다 평균적으로 몇개의 선택지를 가지고 고민하는 지를 의미\\\n",
    "작을수록 좋은 성능\n",
    "\n",
    "$PPL(W) = P(w_1,...,w_N)^{-\\frac{1}{N}}$"
   ]
  }
 ],
 "metadata": {
  "kernelspec": {
   "display_name": "machine-learning",
   "language": "python",
   "name": "machine-learning"
  },
  "language_info": {
   "codemirror_mode": {
    "name": "ipython",
    "version": 3
   },
   "file_extension": ".py",
   "mimetype": "text/x-python",
   "name": "python",
   "nbconvert_exporter": "python",
   "pygments_lexer": "ipython3",
   "version": "3.7.11"
  }
 },
 "nbformat": 4,
 "nbformat_minor": 5
}
