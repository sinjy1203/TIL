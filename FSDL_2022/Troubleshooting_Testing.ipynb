{
 "cells": [
  {
   "attachments": {},
   "cell_type": "markdown",
   "metadata": {},
   "source": [
    "# Troubleshooting & Testing"
   ]
  },
  {
   "attachments": {},
   "cell_type": "markdown",
   "metadata": {},
   "source": [
    "## pre-commit\n",
    "- pre-commit hook을 편리하게 사용해줌\n",
    "- pre-commit hook   \n",
    "=> 코드를 커밋할 때 마다 자동으로 특정 작업을 실행\n",
    "- 포멧터(formatter) => 코드 스타일 통일\n",
    "- 린터(linter) => 코드에 잠재하고 있는 문제 찾기\n",
    "\n",
    "* sslcertificate error  \n",
    "=> python=3.10\n",
    "\n",
    "* shellcheck => check shell script (common bugs or surprising behaviors of shells)"
   ]
  },
  {
   "attachments": {},
   "cell_type": "markdown",
   "metadata": {},
   "source": [
    "## pytest\n",
    "- python code testing tool\n",
    "- pytest look for classes(Test_) or functions(test_)\n",
    "\n",
    "    ```\n",
    "    # 테스트를 해보고 싶은 함수\n",
    "    def func(x):\n",
    "        return x + 1\n",
    "\n",
    "    # 테스트 함수\n",
    "    def test_answer():\n",
    "        assert func(3) == 5\n",
    "    ```"
   ]
  },
  {
   "attachments": {},
   "cell_type": "markdown",
   "metadata": {},
   "source": [
    "## docstring\n",
    "- class나 함수의 docstring을 작성할 때 테스트를 추가\n",
    "- 주로 간단한 사용 예제를 보여주기 위해 사용\n",
    "\n",
    "    ```\n",
    "    def doubler(num):\n",
    "        \"\"\"\n",
    "        This function returns the argument 'num' multipled by 2\n",
    "\n",
    "        Example\n",
    "        -------\n",
    "        >>> doubler(10)\n",
    "        2000\n",
    "        \"\"\"\n",
    "        return num * 2\n",
    "    ```"
   ]
  },
  {
   "attachments": {},
   "cell_type": "markdown",
   "metadata": {},
   "source": [
    "## lightning fast_dev_run\n",
    "- 학습을 max_epochs=1, max_steps=1로 짧게 학습해보기   \n",
    "=> 이를 통해 오류 확인   \n",
    "    `trainer = Trainer(fast_dev_run=True)`"
   ]
  },
  {
   "attachments": {},
   "cell_type": "markdown",
   "metadata": {},
   "source": [
    "## lightning profiling\n",
    "- identify bottlenecks \n",
    "- generated with trainer.fit(), trainer.test(), trainer.validate(), trainer.predict()"
   ]
  },
  {
   "attachments": {},
   "cell_type": "markdown",
   "metadata": {},
   "source": [
    "## lightning Profile Profile in TensorBoard\n",
    "\n",
    "### Compute Capability\n",
    "- \"version number\" of GPU hardware \n",
    "- 높을수록 더 고급 기능 사용가능\n",
    "\n",
    "### GPU Utilization\n",
    "- GPU에서 실행되는 시간의 비율\n",
    "- **높여야 할 목표**\n",
    "\n",
    "### Tensor Cores\n",
    "- DNN 전문 텐서 코어를 얼마나 사용했는지에 대한 정보\n",
    "- 구형 GPU(Compute Capability가 7아래인 경우)는 정보가 없다\n",
    "- 최신 GPU인데 정보가 없다  \n",
    "=> Tensor Core에 특화된 단일 정밀 부동 소수점 숫자로 전환해야함\n",
    "\n",
    "### Est. SM Efficiency & Est. Achieved Occupancy\n",
    "- GPU Utilization 보다 더 낮은 수준의 GPU 하드웨어 활용도\n",
    "\n",
    "### Execution Summary\n",
    "- 각 범주에서 소요된 시간의 비율\n",
    "- kernel = GPU Utilization\n",
    "- 다른 작업에 걸리는 시간을 파악하여 병목현상이 발생하는 위치 파악"
   ]
  }
 ],
 "metadata": {
  "kernelspec": {
   "display_name": "pytorch-lightning",
   "language": "python",
   "name": "python3"
  },
  "language_info": {
   "codemirror_mode": {
    "name": "ipython",
    "version": 3
   },
   "file_extension": ".py",
   "mimetype": "text/x-python",
   "name": "python",
   "nbconvert_exporter": "python",
   "pygments_lexer": "ipython3",
   "version": "3.10.11"
  },
  "orig_nbformat": 4
 },
 "nbformat": 4,
 "nbformat_minor": 2
}
